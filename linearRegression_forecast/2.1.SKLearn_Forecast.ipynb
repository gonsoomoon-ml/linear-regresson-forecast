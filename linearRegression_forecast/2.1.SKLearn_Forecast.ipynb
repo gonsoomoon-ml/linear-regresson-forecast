{
 "cells": [
  {
   "cell_type": "markdown",
   "metadata": {},
   "source": [
    "# [모듈 2.1] SK Learn Ridge, Lasso Regresson, XGBoost 모델 훈련 및 평가\n",
    "\n",
    "이 노트북은 아래와 같은 작업을 합니다.\n",
    "- 데이터 다운로드\n",
    "- 피쳐를 이전 (세이지 메이커 내장 알고리즘 사용)과 같게 생성 합니다.\n",
    "- 일부 피쳐에 대해서 로그 변환을 수행 합니다.\n",
    "- 훈련과 테스트 데이터로 분리 합니다.\n",
    "- Regulization 파라미터인 alpha 값을 서치하여 최적의 값을 구합니다.\n",
    "- Ridge, Lasso, XGBoost 알고리즘을 훈련 합니다.\n",
    "- Naive, Ridge, Lasso, XGBoost 모델을 평가 합니다.\n",
    "- Lasso의 피쳐 중요도를 확인 합니다"
   ]
  },
  {
   "cell_type": "code",
   "execution_count": 1,
   "metadata": {
    "nbpresent": {
     "id": "bb88eea9-27f3-4e47-9133-663911ea09a9"
    }
   },
   "outputs": [],
   "source": [
    "import pandas as pd\n",
    "import numpy as np\n",
    "import matplotlib.pyplot as plt\n",
    "import io\n",
    "import os\n",
    "import time\n",
    "import json\n",
    "import sagemaker.amazon.common as smac\n",
    "import sagemaker\n",
    "from sagemaker.predictor import csv_serializer, json_deserializer"
   ]
  },
  {
   "cell_type": "markdown",
   "metadata": {
    "nbpresent": {
     "id": "142777ae-c072-448e-b941-72bc75735d01"
    }
   },
   "source": [
    "---\n",
    "## Data\n",
    "\n",
    "데이터를 다운로드 합니다. 자세한 데이타의 설명은 여기를 보세요. [here](https://rdrr.io/github/robjhyndman/fpp/man/gasoline.html)."
   ]
  },
  {
   "cell_type": "code",
   "execution_count": 2,
   "metadata": {
    "nbpresent": {
     "id": "78105bc7-ce5d-4003-84f6-4dc5700c5945"
    }
   },
   "outputs": [],
   "source": [
    "# !wget http://robjhyndman.com/data/gasoline.csv"
   ]
  },
  {
   "cell_type": "code",
   "execution_count": 3,
   "metadata": {
    "nbpresent": {
     "id": "f8976dad-6897-4c7e-8c95-ae2f53070ef5"
    }
   },
   "outputs": [
    {
     "data": {
      "text/html": [
       "<div>\n",
       "<style scoped>\n",
       "    .dataframe tbody tr th:only-of-type {\n",
       "        vertical-align: middle;\n",
       "    }\n",
       "\n",
       "    .dataframe tbody tr th {\n",
       "        vertical-align: top;\n",
       "    }\n",
       "\n",
       "    .dataframe thead th {\n",
       "        text-align: right;\n",
       "    }\n",
       "</style>\n",
       "<table border=\"1\" class=\"dataframe\">\n",
       "  <thead>\n",
       "    <tr style=\"text-align: right;\">\n",
       "      <th></th>\n",
       "      <th>thousands_barrels</th>\n",
       "    </tr>\n",
       "  </thead>\n",
       "  <tbody>\n",
       "    <tr>\n",
       "      <th>0</th>\n",
       "      <td>6621.0</td>\n",
       "    </tr>\n",
       "    <tr>\n",
       "      <th>1</th>\n",
       "      <td>6433.0</td>\n",
       "    </tr>\n",
       "    <tr>\n",
       "      <th>2</th>\n",
       "      <td>6582.0</td>\n",
       "    </tr>\n",
       "    <tr>\n",
       "      <th>3</th>\n",
       "      <td>7224.0</td>\n",
       "    </tr>\n",
       "    <tr>\n",
       "      <th>4</th>\n",
       "      <td>6875.0</td>\n",
       "    </tr>\n",
       "  </tbody>\n",
       "</table>\n",
       "</div>"
      ],
      "text/plain": [
       "   thousands_barrels\n",
       "0             6621.0\n",
       "1             6433.0\n",
       "2             6582.0\n",
       "3             7224.0\n",
       "4             6875.0"
      ]
     },
     "metadata": {},
     "output_type": "display_data"
    },
    {
     "data": {
      "image/png": "[encoded data removed]",
      "text/plain": [
       "<Figure size 432x288 with 1 Axes>"
      ]
     },
     "metadata": {
      "needs_background": "light"
     },
     "output_type": "display_data"
    }
   ],
   "source": [
    "raw_gas = pd.read_csv('gasoline.csv', header=None, names=['thousands_barrels'])\n",
    "display(raw_gas.head())\n",
    "plt.plot(raw_gas)\n",
    "plt.show()"
   ]
  },
  {
   "cell_type": "markdown",
   "metadata": {
    "nbpresent": {
     "id": "1c44e72e-1b0d-4dcb-91b9-9b9f28a697b0"
    }
   },
   "source": [
    "데이터의 포인트:\n",
    "- 시계열은 상승 트랜드를 가지고 있다.\n",
    "- 년에 대한 계절성을 가지고 있다. 하지만 충분한 데이타의 높고 낮음의 변동성을 보여서 쉬운 문제는 아닙니다.\n",
    "- 예상지 않은 급격한 하락 및 다소 pronounced seasonality(?) 가 있습니다.\n",
    "\n",
    "위의 관찰을 바탕으로 아래와 같이 데이터를 변환 합니다.\n",
    "- 우리의 타겟 변수는 thousands_barrels 입니다.\n",
    "- 설명 변수를 아래와 같이 만듭니다.\n",
    "    - thousands_barrels 에 대한 최근 4주 값\n",
    "    - 트랜드. 위의 차트는 트랜드가 선형성을 보이지만, 우리는 로그 및 quadratic trends를 만들겁니다.\n",
    "    - 플래그 변수인 (0 혹은 1) 은 계절성 및 주요한 휴일 주에 대해서 도움을 줄 수 있습니다.\n",
    "\n"
   ]
  },
  {
   "cell_type": "markdown",
   "metadata": {},
   "source": [
    "## 피쳐 엔지니어링\n",
    "다음과 같은 피쳐를 추가 합니다.\n",
    "- 최신 4주의 값을 설명 피쳐를 만듦니다. (W-1, W-2, W-3, W-4)\n",
    "- 트랜드 피쳐를 생성\n",
    "- Week의 여부 피쳐를 생성 합니다.\n"
   ]
  },
  {
   "cell_type": "code",
   "execution_count": 4,
   "metadata": {
    "nbpresent": {
     "id": "6af8d66e-2ef6-4e8d-bb23-d2bd3dbb0b20"
    }
   },
   "outputs": [],
   "source": [
    "def make_feature_engineering(gas):\n",
    "    # 최근 4주의 값을 얻음\n",
    "    gas['thousands_barrels_lag1'] = gas['thousands_barrels'].shift(1)\n",
    "    gas['thousands_barrels_lag2'] = gas['thousands_barrels'].shift(2)\n",
    "    gas['thousands_barrels_lag3'] = gas['thousands_barrels'].shift(3)\n",
    "    gas['thousands_barrels_lag4'] = gas['thousands_barrels'].shift(4)\n",
    "    # 트랜드 데이터를 얻음\n",
    "    gas['trend'] = np.arange(len(gas))\n",
    "    gas['log_trend'] = np.log1p(np.arange(len(gas)))\n",
    "    gas['sq_trend'] = np.arange(len(gas)) ** 2\n",
    "    # 52주 * 15의 값을 반복적으로 구한 후에 gas의 레코드 갯수 (745개) 만큼의 weeks 변수를 만듦\n",
    "    weeks = pd.get_dummies(np.array(list(range(52)) * 15)[:len(gas)], prefix='week')\n",
    "    gas = pd.concat([gas, weeks], axis=1)\n",
    "    \n",
    "    return gas\n",
    "\n",
    "gas = make_feature_engineering(raw_gas)"
   ]
  },
  {
   "cell_type": "code",
   "execution_count": 5,
   "metadata": {},
   "outputs": [
    {
     "name": "stdout",
     "output_type": "stream",
     "text": [
      "gas : (745, 60)\n",
      "Index(['thousands_barrels', 'thousands_barrels_lag1', 'thousands_barrels_lag2',\n",
      "       'thousands_barrels_lag3', 'thousands_barrels_lag4', 'trend',\n",
      "       'log_trend', 'sq_trend', 'week_0', 'week_1', 'week_2', 'week_3',\n",
      "       'week_4', 'week_5', 'week_6', 'week_7', 'week_8', 'week_9', 'week_10',\n",
      "       'week_11', 'week_12', 'week_13', 'week_14', 'week_15', 'week_16',\n",
      "       'week_17', 'week_18', 'week_19', 'week_20', 'week_21', 'week_22',\n",
      "       'week_23', 'week_24', 'week_25', 'week_26', 'week_27', 'week_28',\n",
      "       'week_29', 'week_30', 'week_31', 'week_32', 'week_33', 'week_34',\n",
      "       'week_35', 'week_36', 'week_37', 'week_38', 'week_39', 'week_40',\n",
      "       'week_41', 'week_42', 'week_43', 'week_44', 'week_45', 'week_46',\n",
      "       'week_47', 'week_48', 'week_49', 'week_50', 'week_51'],\n",
      "      dtype='object')\n"
     ]
    },
    {
     "data": {
      "text/html": [
       "<div>\n",
       "<style scoped>\n",
       "    .dataframe tbody tr th:only-of-type {\n",
       "        vertical-align: middle;\n",
       "    }\n",
       "\n",
       "    .dataframe tbody tr th {\n",
       "        vertical-align: top;\n",
       "    }\n",
       "\n",
       "    .dataframe thead th {\n",
       "        text-align: right;\n",
       "    }\n",
       "</style>\n",
       "<table border=\"1\" class=\"dataframe\">\n",
       "  <thead>\n",
       "    <tr style=\"text-align: right;\">\n",
       "      <th></th>\n",
       "      <th>thousands_barrels</th>\n",
       "      <th>thousands_barrels_lag1</th>\n",
       "      <th>thousands_barrels_lag2</th>\n",
       "      <th>thousands_barrels_lag3</th>\n",
       "      <th>thousands_barrels_lag4</th>\n",
       "      <th>trend</th>\n",
       "      <th>log_trend</th>\n",
       "      <th>sq_trend</th>\n",
       "      <th>week_0</th>\n",
       "      <th>week_1</th>\n",
       "      <th>...</th>\n",
       "      <th>week_42</th>\n",
       "      <th>week_43</th>\n",
       "      <th>week_44</th>\n",
       "      <th>week_45</th>\n",
       "      <th>week_46</th>\n",
       "      <th>week_47</th>\n",
       "      <th>week_48</th>\n",
       "      <th>week_49</th>\n",
       "      <th>week_50</th>\n",
       "      <th>week_51</th>\n",
       "    </tr>\n",
       "  </thead>\n",
       "  <tbody>\n",
       "    <tr>\n",
       "      <th>0</th>\n",
       "      <td>6621.0</td>\n",
       "      <td>NaN</td>\n",
       "      <td>NaN</td>\n",
       "      <td>NaN</td>\n",
       "      <td>NaN</td>\n",
       "      <td>0</td>\n",
       "      <td>0.000000</td>\n",
       "      <td>0</td>\n",
       "      <td>1</td>\n",
       "      <td>0</td>\n",
       "      <td>...</td>\n",
       "      <td>0</td>\n",
       "      <td>0</td>\n",
       "      <td>0</td>\n",
       "      <td>0</td>\n",
       "      <td>0</td>\n",
       "      <td>0</td>\n",
       "      <td>0</td>\n",
       "      <td>0</td>\n",
       "      <td>0</td>\n",
       "      <td>0</td>\n",
       "    </tr>\n",
       "    <tr>\n",
       "      <th>1</th>\n",
       "      <td>6433.0</td>\n",
       "      <td>6621.0</td>\n",
       "      <td>NaN</td>\n",
       "      <td>NaN</td>\n",
       "      <td>NaN</td>\n",
       "      <td>1</td>\n",
       "      <td>0.693147</td>\n",
       "      <td>1</td>\n",
       "      <td>0</td>\n",
       "      <td>1</td>\n",
       "      <td>...</td>\n",
       "      <td>0</td>\n",
       "      <td>0</td>\n",
       "      <td>0</td>\n",
       "      <td>0</td>\n",
       "      <td>0</td>\n",
       "      <td>0</td>\n",
       "      <td>0</td>\n",
       "      <td>0</td>\n",
       "      <td>0</td>\n",
       "      <td>0</td>\n",
       "    </tr>\n",
       "    <tr>\n",
       "      <th>2</th>\n",
       "      <td>6582.0</td>\n",
       "      <td>6433.0</td>\n",
       "      <td>6621.0</td>\n",
       "      <td>NaN</td>\n",
       "      <td>NaN</td>\n",
       "      <td>2</td>\n",
       "      <td>1.098612</td>\n",
       "      <td>4</td>\n",
       "      <td>0</td>\n",
       "      <td>0</td>\n",
       "      <td>...</td>\n",
       "      <td>0</td>\n",
       "      <td>0</td>\n",
       "      <td>0</td>\n",
       "      <td>0</td>\n",
       "      <td>0</td>\n",
       "      <td>0</td>\n",
       "      <td>0</td>\n",
       "      <td>0</td>\n",
       "      <td>0</td>\n",
       "      <td>0</td>\n",
       "    </tr>\n",
       "    <tr>\n",
       "      <th>3</th>\n",
       "      <td>7224.0</td>\n",
       "      <td>6582.0</td>\n",
       "      <td>6433.0</td>\n",
       "      <td>6621.0</td>\n",
       "      <td>NaN</td>\n",
       "      <td>3</td>\n",
       "      <td>1.386294</td>\n",
       "      <td>9</td>\n",
       "      <td>0</td>\n",
       "      <td>0</td>\n",
       "      <td>...</td>\n",
       "      <td>0</td>\n",
       "      <td>0</td>\n",
       "      <td>0</td>\n",
       "      <td>0</td>\n",
       "      <td>0</td>\n",
       "      <td>0</td>\n",
       "      <td>0</td>\n",
       "      <td>0</td>\n",
       "      <td>0</td>\n",
       "      <td>0</td>\n",
       "    </tr>\n",
       "    <tr>\n",
       "      <th>4</th>\n",
       "      <td>6875.0</td>\n",
       "      <td>7224.0</td>\n",
       "      <td>6582.0</td>\n",
       "      <td>6433.0</td>\n",
       "      <td>6621.0</td>\n",
       "      <td>4</td>\n",
       "      <td>1.609438</td>\n",
       "      <td>16</td>\n",
       "      <td>0</td>\n",
       "      <td>0</td>\n",
       "      <td>...</td>\n",
       "      <td>0</td>\n",
       "      <td>0</td>\n",
       "      <td>0</td>\n",
       "      <td>0</td>\n",
       "      <td>0</td>\n",
       "      <td>0</td>\n",
       "      <td>0</td>\n",
       "      <td>0</td>\n",
       "      <td>0</td>\n",
       "      <td>0</td>\n",
       "    </tr>\n",
       "    <tr>\n",
       "      <th>...</th>\n",
       "      <td>...</td>\n",
       "      <td>...</td>\n",
       "      <td>...</td>\n",
       "      <td>...</td>\n",
       "      <td>...</td>\n",
       "      <td>...</td>\n",
       "      <td>...</td>\n",
       "      <td>...</td>\n",
       "      <td>...</td>\n",
       "      <td>...</td>\n",
       "      <td>...</td>\n",
       "      <td>...</td>\n",
       "      <td>...</td>\n",
       "      <td>...</td>\n",
       "      <td>...</td>\n",
       "      <td>...</td>\n",
       "      <td>...</td>\n",
       "      <td>...</td>\n",
       "      <td>...</td>\n",
       "      <td>...</td>\n",
       "      <td>...</td>\n",
       "    </tr>\n",
       "    <tr>\n",
       "      <th>740</th>\n",
       "      <td>9170.0</td>\n",
       "      <td>9089.0</td>\n",
       "      <td>9095.0</td>\n",
       "      <td>9075.0</td>\n",
       "      <td>9069.0</td>\n",
       "      <td>740</td>\n",
       "      <td>6.608001</td>\n",
       "      <td>547600</td>\n",
       "      <td>0</td>\n",
       "      <td>0</td>\n",
       "      <td>...</td>\n",
       "      <td>0</td>\n",
       "      <td>0</td>\n",
       "      <td>0</td>\n",
       "      <td>0</td>\n",
       "      <td>0</td>\n",
       "      <td>0</td>\n",
       "      <td>0</td>\n",
       "      <td>0</td>\n",
       "      <td>0</td>\n",
       "      <td>0</td>\n",
       "    </tr>\n",
       "    <tr>\n",
       "      <th>741</th>\n",
       "      <td>9306.0</td>\n",
       "      <td>9170.0</td>\n",
       "      <td>9089.0</td>\n",
       "      <td>9095.0</td>\n",
       "      <td>9075.0</td>\n",
       "      <td>741</td>\n",
       "      <td>6.609349</td>\n",
       "      <td>549081</td>\n",
       "      <td>0</td>\n",
       "      <td>0</td>\n",
       "      <td>...</td>\n",
       "      <td>0</td>\n",
       "      <td>0</td>\n",
       "      <td>0</td>\n",
       "      <td>0</td>\n",
       "      <td>0</td>\n",
       "      <td>0</td>\n",
       "      <td>0</td>\n",
       "      <td>0</td>\n",
       "      <td>0</td>\n",
       "      <td>0</td>\n",
       "    </tr>\n",
       "    <tr>\n",
       "      <th>742</th>\n",
       "      <td>9024.0</td>\n",
       "      <td>9306.0</td>\n",
       "      <td>9170.0</td>\n",
       "      <td>9089.0</td>\n",
       "      <td>9095.0</td>\n",
       "      <td>742</td>\n",
       "      <td>6.610696</td>\n",
       "      <td>550564</td>\n",
       "      <td>0</td>\n",
       "      <td>0</td>\n",
       "      <td>...</td>\n",
       "      <td>0</td>\n",
       "      <td>0</td>\n",
       "      <td>0</td>\n",
       "      <td>0</td>\n",
       "      <td>0</td>\n",
       "      <td>0</td>\n",
       "      <td>0</td>\n",
       "      <td>0</td>\n",
       "      <td>0</td>\n",
       "      <td>0</td>\n",
       "    </tr>\n",
       "    <tr>\n",
       "      <th>743</th>\n",
       "      <td>9175.0</td>\n",
       "      <td>9024.0</td>\n",
       "      <td>9306.0</td>\n",
       "      <td>9170.0</td>\n",
       "      <td>9089.0</td>\n",
       "      <td>743</td>\n",
       "      <td>6.612041</td>\n",
       "      <td>552049</td>\n",
       "      <td>0</td>\n",
       "      <td>0</td>\n",
       "      <td>...</td>\n",
       "      <td>0</td>\n",
       "      <td>0</td>\n",
       "      <td>0</td>\n",
       "      <td>0</td>\n",
       "      <td>0</td>\n",
       "      <td>0</td>\n",
       "      <td>0</td>\n",
       "      <td>0</td>\n",
       "      <td>0</td>\n",
       "      <td>0</td>\n",
       "    </tr>\n",
       "    <tr>\n",
       "      <th>744</th>\n",
       "      <td>9269.0</td>\n",
       "      <td>9175.0</td>\n",
       "      <td>9024.0</td>\n",
       "      <td>9306.0</td>\n",
       "      <td>9170.0</td>\n",
       "      <td>744</td>\n",
       "      <td>6.613384</td>\n",
       "      <td>553536</td>\n",
       "      <td>0</td>\n",
       "      <td>0</td>\n",
       "      <td>...</td>\n",
       "      <td>0</td>\n",
       "      <td>0</td>\n",
       "      <td>0</td>\n",
       "      <td>0</td>\n",
       "      <td>0</td>\n",
       "      <td>0</td>\n",
       "      <td>0</td>\n",
       "      <td>0</td>\n",
       "      <td>0</td>\n",
       "      <td>0</td>\n",
       "    </tr>\n",
       "  </tbody>\n",
       "</table>\n",
       "<p>745 rows × 60 columns</p>\n",
       "</div>"
      ],
      "text/plain": [
       "     thousands_barrels  thousands_barrels_lag1  thousands_barrels_lag2  \\\n",
       "0               6621.0                     NaN                     NaN   \n",
       "1               6433.0                  6621.0                     NaN   \n",
       "2               6582.0                  6433.0                  6621.0   \n",
       "3               7224.0                  6582.0                  6433.0   \n",
       "4               6875.0                  7224.0                  6582.0   \n",
       "..                 ...                     ...                     ...   \n",
       "740             9170.0                  9089.0                  9095.0   \n",
       "741             9306.0                  9170.0                  9089.0   \n",
       "742             9024.0                  9306.0                  9170.0   \n",
       "743             9175.0                  9024.0                  9306.0   \n",
       "744             9269.0                  9175.0                  9024.0   \n",
       "\n",
       "     thousands_barrels_lag3  thousands_barrels_lag4  trend  log_trend  \\\n",
       "0                       NaN                     NaN      0   0.000000   \n",
       "1                       NaN                     NaN      1   0.693147   \n",
       "2                       NaN                     NaN      2   1.098612   \n",
       "3                    6621.0                     NaN      3   1.386294   \n",
       "4                    6433.0                  6621.0      4   1.609438   \n",
       "..                      ...                     ...    ...        ...   \n",
       "740                  9075.0                  9069.0    740   6.608001   \n",
       "741                  9095.0                  9075.0    741   6.609349   \n",
       "742                  9089.0                  9095.0    742   6.610696   \n",
       "743                  9170.0                  9089.0    743   6.612041   \n",
       "744                  9306.0                  9170.0    744   6.613384   \n",
       "\n",
       "     sq_trend  week_0  week_1  ...  week_42  week_43  week_44  week_45  \\\n",
       "0           0       1       0  ...        0        0        0        0   \n",
       "1           1       0       1  ...        0        0        0        0   \n",
       "2           4       0       0  ...        0        0        0        0   \n",
       "3           9       0       0  ...        0        0        0        0   \n",
       "4          16       0       0  ...        0        0        0        0   \n",
       "..        ...     ...     ...  ...      ...      ...      ...      ...   \n",
       "740    547600       0       0  ...        0        0        0        0   \n",
       "741    549081       0       0  ...        0        0        0        0   \n",
       "742    550564       0       0  ...        0        0        0        0   \n",
       "743    552049       0       0  ...        0        0        0        0   \n",
       "744    553536       0       0  ...        0        0        0        0   \n",
       "\n",
       "     week_46  week_47  week_48  week_49  week_50  week_51  \n",
       "0          0        0        0        0        0        0  \n",
       "1          0        0        0        0        0        0  \n",
       "2          0        0        0        0        0        0  \n",
       "3          0        0        0        0        0        0  \n",
       "4          0        0        0        0        0        0  \n",
       "..       ...      ...      ...      ...      ...      ...  \n",
       "740        0        0        0        0        0        0  \n",
       "741        0        0        0        0        0        0  \n",
       "742        0        0        0        0        0        0  \n",
       "743        0        0        0        0        0        0  \n",
       "744        0        0        0        0        0        0  \n",
       "\n",
       "[745 rows x 60 columns]"
      ]
     },
     "execution_count": 5,
     "metadata": {},
     "output_type": "execute_result"
    }
   ],
   "source": [
    "print(\"gas :\",gas.shape)\n",
    "print(gas.columns)\n",
    "gas"
   ]
  },
  {
   "cell_type": "markdown",
   "metadata": {},
   "source": [
    "## 데이터 전처리 \n",
    "\n",
    "여기서는 로그 변환에 대한 전처리를 합니다.\n",
    "타겟 변수인 thousands_barrels 를 대상으로 로그 변환을 해보고 어떻게 바뀌는지 확인 합니다."
   ]
  },
  {
   "cell_type": "code",
   "execution_count": 6,
   "metadata": {},
   "outputs": [
    {
     "data": {
      "text/plain": [
       "array([[<matplotlib.axes._subplots.AxesSubplot object at 0x7f7967109f28>,\n",
       "        <matplotlib.axes._subplots.AxesSubplot object at 0x7f79670c44e0>]],\n",
       "      dtype=object)"
      ]
     },
     "execution_count": 6,
     "metadata": {},
     "output_type": "execute_result"
    },
    {
     "data": {
      "image/png": "[encoded data removed]",
      "text/plain": [
       "<Figure size 576x288 with 2 Axes>"
      ]
     },
     "metadata": {
      "needs_background": "light"
     },
     "output_type": "display_data"
    }
   ],
   "source": [
    "import matplotlib\n",
    "from scipy.stats import skew\n",
    "\n",
    "matplotlib.rcParams['figure.figsize'] = [8.0, 4.0]\n",
    "barrels = pd.DataFrame({'barrels':gas['thousands_barrels'],\n",
    "                        'log(barrels + 1)': np.log1p(gas['thousands_barrels'])\n",
    "                       })\n",
    "barrels.hist()"
   ]
  },
  {
   "cell_type": "code",
   "execution_count": 7,
   "metadata": {},
   "outputs": [
    {
     "name": "stdout",
     "output_type": "stream",
     "text": [
      "Index(['week_0', 'week_1', 'week_2', 'week_3', 'week_4', 'week_5', 'week_6',\n",
      "       'week_7', 'week_8', 'week_9', 'week_10', 'week_11', 'week_12',\n",
      "       'week_13', 'week_14', 'week_15', 'week_16', 'week_17', 'week_18',\n",
      "       'week_19', 'week_20', 'week_21', 'week_22', 'week_23', 'week_24',\n",
      "       'week_25', 'week_26', 'week_27', 'week_28', 'week_29', 'week_30',\n",
      "       'week_31', 'week_32', 'week_33', 'week_34', 'week_35', 'week_36',\n",
      "       'week_37', 'week_38', 'week_39', 'week_40', 'week_41', 'week_42',\n",
      "       'week_43', 'week_44', 'week_45', 'week_46', 'week_47', 'week_48',\n",
      "       'week_49', 'week_50', 'week_51'],\n",
      "      dtype='object')\n"
     ]
    }
   ],
   "source": [
    "def log_transform(raw_df, all_apply=True):\n",
    "    '''\n",
    "    skewness 가 0.75 이상이면 로그 변환을 하여 정규분포를 따라갈 수 있게 변환 합니다.\n",
    "    '''\n",
    "    df = raw_df.copy()\n",
    "    if all_apply:\n",
    "        df = np.log1p(df)        \n",
    "    else:\n",
    "        numeric_feats = df.dtypes[df.dtypes != 'object'].index\n",
    "        skewed_feats = df[numeric_feats].apply(lambda x: skew(x.dropna())) # compute skewness\n",
    "        skewed_feats = skewed_feats[skewed_feats > 0.75]\n",
    "        skewed_feats = skewed_feats.index\n",
    "        print(skewed_feats)\n",
    "        df[skewed_feats] = np.log1p(df[skewed_feats])\n",
    "    \n",
    "    return df\n",
    "\n",
    "def inverse_log_transform(df):\n",
    "    df = np.expm1(df)\n",
    "    return df\n",
    "\n",
    "all_log_t = False\n",
    "gas = log_transform(gas, all_log_t)"
   ]
  },
  {
   "cell_type": "code",
   "execution_count": 8,
   "metadata": {},
   "outputs": [
    {
     "data": {
      "text/html": [
       "<div>\n",
       "<style scoped>\n",
       "    .dataframe tbody tr th:only-of-type {\n",
       "        vertical-align: middle;\n",
       "    }\n",
       "\n",
       "    .dataframe tbody tr th {\n",
       "        vertical-align: top;\n",
       "    }\n",
       "\n",
       "    .dataframe thead th {\n",
       "        text-align: right;\n",
       "    }\n",
       "</style>\n",
       "<table border=\"1\" class=\"dataframe\">\n",
       "  <thead>\n",
       "    <tr style=\"text-align: right;\">\n",
       "      <th></th>\n",
       "      <th>thousands_barrels</th>\n",
       "      <th>thousands_barrels_lag1</th>\n",
       "      <th>thousands_barrels_lag2</th>\n",
       "      <th>thousands_barrels_lag3</th>\n",
       "      <th>thousands_barrels_lag4</th>\n",
       "      <th>trend</th>\n",
       "      <th>log_trend</th>\n",
       "      <th>sq_trend</th>\n",
       "      <th>week_0</th>\n",
       "      <th>week_1</th>\n",
       "      <th>...</th>\n",
       "      <th>week_42</th>\n",
       "      <th>week_43</th>\n",
       "      <th>week_44</th>\n",
       "      <th>week_45</th>\n",
       "      <th>week_46</th>\n",
       "      <th>week_47</th>\n",
       "      <th>week_48</th>\n",
       "      <th>week_49</th>\n",
       "      <th>week_50</th>\n",
       "      <th>week_51</th>\n",
       "    </tr>\n",
       "  </thead>\n",
       "  <tbody>\n",
       "    <tr>\n",
       "      <th>0</th>\n",
       "      <td>6621.0</td>\n",
       "      <td>NaN</td>\n",
       "      <td>NaN</td>\n",
       "      <td>NaN</td>\n",
       "      <td>NaN</td>\n",
       "      <td>0</td>\n",
       "      <td>0.000000</td>\n",
       "      <td>0</td>\n",
       "      <td>0.693359</td>\n",
       "      <td>0.000000</td>\n",
       "      <td>...</td>\n",
       "      <td>0.0</td>\n",
       "      <td>0.0</td>\n",
       "      <td>0.0</td>\n",
       "      <td>0.0</td>\n",
       "      <td>0.0</td>\n",
       "      <td>0.0</td>\n",
       "      <td>0.0</td>\n",
       "      <td>0.0</td>\n",
       "      <td>0.0</td>\n",
       "      <td>0.0</td>\n",
       "    </tr>\n",
       "    <tr>\n",
       "      <th>1</th>\n",
       "      <td>6433.0</td>\n",
       "      <td>6621.0</td>\n",
       "      <td>NaN</td>\n",
       "      <td>NaN</td>\n",
       "      <td>NaN</td>\n",
       "      <td>1</td>\n",
       "      <td>0.693147</td>\n",
       "      <td>1</td>\n",
       "      <td>0.000000</td>\n",
       "      <td>0.693359</td>\n",
       "      <td>...</td>\n",
       "      <td>0.0</td>\n",
       "      <td>0.0</td>\n",
       "      <td>0.0</td>\n",
       "      <td>0.0</td>\n",
       "      <td>0.0</td>\n",
       "      <td>0.0</td>\n",
       "      <td>0.0</td>\n",
       "      <td>0.0</td>\n",
       "      <td>0.0</td>\n",
       "      <td>0.0</td>\n",
       "    </tr>\n",
       "    <tr>\n",
       "      <th>2</th>\n",
       "      <td>6582.0</td>\n",
       "      <td>6433.0</td>\n",
       "      <td>6621.0</td>\n",
       "      <td>NaN</td>\n",
       "      <td>NaN</td>\n",
       "      <td>2</td>\n",
       "      <td>1.098612</td>\n",
       "      <td>4</td>\n",
       "      <td>0.000000</td>\n",
       "      <td>0.000000</td>\n",
       "      <td>...</td>\n",
       "      <td>0.0</td>\n",
       "      <td>0.0</td>\n",
       "      <td>0.0</td>\n",
       "      <td>0.0</td>\n",
       "      <td>0.0</td>\n",
       "      <td>0.0</td>\n",
       "      <td>0.0</td>\n",
       "      <td>0.0</td>\n",
       "      <td>0.0</td>\n",
       "      <td>0.0</td>\n",
       "    </tr>\n",
       "    <tr>\n",
       "      <th>3</th>\n",
       "      <td>7224.0</td>\n",
       "      <td>6582.0</td>\n",
       "      <td>6433.0</td>\n",
       "      <td>6621.0</td>\n",
       "      <td>NaN</td>\n",
       "      <td>3</td>\n",
       "      <td>1.386294</td>\n",
       "      <td>9</td>\n",
       "      <td>0.000000</td>\n",
       "      <td>0.000000</td>\n",
       "      <td>...</td>\n",
       "      <td>0.0</td>\n",
       "      <td>0.0</td>\n",
       "      <td>0.0</td>\n",
       "      <td>0.0</td>\n",
       "      <td>0.0</td>\n",
       "      <td>0.0</td>\n",
       "      <td>0.0</td>\n",
       "      <td>0.0</td>\n",
       "      <td>0.0</td>\n",
       "      <td>0.0</td>\n",
       "    </tr>\n",
       "    <tr>\n",
       "      <th>4</th>\n",
       "      <td>6875.0</td>\n",
       "      <td>7224.0</td>\n",
       "      <td>6582.0</td>\n",
       "      <td>6433.0</td>\n",
       "      <td>6621.0</td>\n",
       "      <td>4</td>\n",
       "      <td>1.609438</td>\n",
       "      <td>16</td>\n",
       "      <td>0.000000</td>\n",
       "      <td>0.000000</td>\n",
       "      <td>...</td>\n",
       "      <td>0.0</td>\n",
       "      <td>0.0</td>\n",
       "      <td>0.0</td>\n",
       "      <td>0.0</td>\n",
       "      <td>0.0</td>\n",
       "      <td>0.0</td>\n",
       "      <td>0.0</td>\n",
       "      <td>0.0</td>\n",
       "      <td>0.0</td>\n",
       "      <td>0.0</td>\n",
       "    </tr>\n",
       "    <tr>\n",
       "      <th>...</th>\n",
       "      <td>...</td>\n",
       "      <td>...</td>\n",
       "      <td>...</td>\n",
       "      <td>...</td>\n",
       "      <td>...</td>\n",
       "      <td>...</td>\n",
       "      <td>...</td>\n",
       "      <td>...</td>\n",
       "      <td>...</td>\n",
       "      <td>...</td>\n",
       "      <td>...</td>\n",
       "      <td>...</td>\n",
       "      <td>...</td>\n",
       "      <td>...</td>\n",
       "      <td>...</td>\n",
       "      <td>...</td>\n",
       "      <td>...</td>\n",
       "      <td>...</td>\n",
       "      <td>...</td>\n",
       "      <td>...</td>\n",
       "      <td>...</td>\n",
       "    </tr>\n",
       "    <tr>\n",
       "      <th>740</th>\n",
       "      <td>9170.0</td>\n",
       "      <td>9089.0</td>\n",
       "      <td>9095.0</td>\n",
       "      <td>9075.0</td>\n",
       "      <td>9069.0</td>\n",
       "      <td>740</td>\n",
       "      <td>6.608001</td>\n",
       "      <td>547600</td>\n",
       "      <td>0.000000</td>\n",
       "      <td>0.000000</td>\n",
       "      <td>...</td>\n",
       "      <td>0.0</td>\n",
       "      <td>0.0</td>\n",
       "      <td>0.0</td>\n",
       "      <td>0.0</td>\n",
       "      <td>0.0</td>\n",
       "      <td>0.0</td>\n",
       "      <td>0.0</td>\n",
       "      <td>0.0</td>\n",
       "      <td>0.0</td>\n",
       "      <td>0.0</td>\n",
       "    </tr>\n",
       "    <tr>\n",
       "      <th>741</th>\n",
       "      <td>9306.0</td>\n",
       "      <td>9170.0</td>\n",
       "      <td>9089.0</td>\n",
       "      <td>9095.0</td>\n",
       "      <td>9075.0</td>\n",
       "      <td>741</td>\n",
       "      <td>6.609349</td>\n",
       "      <td>549081</td>\n",
       "      <td>0.000000</td>\n",
       "      <td>0.000000</td>\n",
       "      <td>...</td>\n",
       "      <td>0.0</td>\n",
       "      <td>0.0</td>\n",
       "      <td>0.0</td>\n",
       "      <td>0.0</td>\n",
       "      <td>0.0</td>\n",
       "      <td>0.0</td>\n",
       "      <td>0.0</td>\n",
       "      <td>0.0</td>\n",
       "      <td>0.0</td>\n",
       "      <td>0.0</td>\n",
       "    </tr>\n",
       "    <tr>\n",
       "      <th>742</th>\n",
       "      <td>9024.0</td>\n",
       "      <td>9306.0</td>\n",
       "      <td>9170.0</td>\n",
       "      <td>9089.0</td>\n",
       "      <td>9095.0</td>\n",
       "      <td>742</td>\n",
       "      <td>6.610696</td>\n",
       "      <td>550564</td>\n",
       "      <td>0.000000</td>\n",
       "      <td>0.000000</td>\n",
       "      <td>...</td>\n",
       "      <td>0.0</td>\n",
       "      <td>0.0</td>\n",
       "      <td>0.0</td>\n",
       "      <td>0.0</td>\n",
       "      <td>0.0</td>\n",
       "      <td>0.0</td>\n",
       "      <td>0.0</td>\n",
       "      <td>0.0</td>\n",
       "      <td>0.0</td>\n",
       "      <td>0.0</td>\n",
       "    </tr>\n",
       "    <tr>\n",
       "      <th>743</th>\n",
       "      <td>9175.0</td>\n",
       "      <td>9024.0</td>\n",
       "      <td>9306.0</td>\n",
       "      <td>9170.0</td>\n",
       "      <td>9089.0</td>\n",
       "      <td>743</td>\n",
       "      <td>6.612041</td>\n",
       "      <td>552049</td>\n",
       "      <td>0.000000</td>\n",
       "      <td>0.000000</td>\n",
       "      <td>...</td>\n",
       "      <td>0.0</td>\n",
       "      <td>0.0</td>\n",
       "      <td>0.0</td>\n",
       "      <td>0.0</td>\n",
       "      <td>0.0</td>\n",
       "      <td>0.0</td>\n",
       "      <td>0.0</td>\n",
       "      <td>0.0</td>\n",
       "      <td>0.0</td>\n",
       "      <td>0.0</td>\n",
       "    </tr>\n",
       "    <tr>\n",
       "      <th>744</th>\n",
       "      <td>9269.0</td>\n",
       "      <td>9175.0</td>\n",
       "      <td>9024.0</td>\n",
       "      <td>9306.0</td>\n",
       "      <td>9170.0</td>\n",
       "      <td>744</td>\n",
       "      <td>6.613384</td>\n",
       "      <td>553536</td>\n",
       "      <td>0.000000</td>\n",
       "      <td>0.000000</td>\n",
       "      <td>...</td>\n",
       "      <td>0.0</td>\n",
       "      <td>0.0</td>\n",
       "      <td>0.0</td>\n",
       "      <td>0.0</td>\n",
       "      <td>0.0</td>\n",
       "      <td>0.0</td>\n",
       "      <td>0.0</td>\n",
       "      <td>0.0</td>\n",
       "      <td>0.0</td>\n",
       "      <td>0.0</td>\n",
       "    </tr>\n",
       "  </tbody>\n",
       "</table>\n",
       "<p>745 rows × 60 columns</p>\n",
       "</div>"
      ],
      "text/plain": [
       "     thousands_barrels  thousands_barrels_lag1  thousands_barrels_lag2  \\\n",
       "0               6621.0                     NaN                     NaN   \n",
       "1               6433.0                  6621.0                     NaN   \n",
       "2               6582.0                  6433.0                  6621.0   \n",
       "3               7224.0                  6582.0                  6433.0   \n",
       "4               6875.0                  7224.0                  6582.0   \n",
       "..                 ...                     ...                     ...   \n",
       "740             9170.0                  9089.0                  9095.0   \n",
       "741             9306.0                  9170.0                  9089.0   \n",
       "742             9024.0                  9306.0                  9170.0   \n",
       "743             9175.0                  9024.0                  9306.0   \n",
       "744             9269.0                  9175.0                  9024.0   \n",
       "\n",
       "     thousands_barrels_lag3  thousands_barrels_lag4  trend  log_trend  \\\n",
       "0                       NaN                     NaN      0   0.000000   \n",
       "1                       NaN                     NaN      1   0.693147   \n",
       "2                       NaN                     NaN      2   1.098612   \n",
       "3                    6621.0                     NaN      3   1.386294   \n",
       "4                    6433.0                  6621.0      4   1.609438   \n",
       "..                      ...                     ...    ...        ...   \n",
       "740                  9075.0                  9069.0    740   6.608001   \n",
       "741                  9095.0                  9075.0    741   6.609349   \n",
       "742                  9089.0                  9095.0    742   6.610696   \n",
       "743                  9170.0                  9089.0    743   6.612041   \n",
       "744                  9306.0                  9170.0    744   6.613384   \n",
       "\n",
       "     sq_trend    week_0    week_1  ...  week_42  week_43  week_44  week_45  \\\n",
       "0           0  0.693359  0.000000  ...      0.0      0.0      0.0      0.0   \n",
       "1           1  0.000000  0.693359  ...      0.0      0.0      0.0      0.0   \n",
       "2           4  0.000000  0.000000  ...      0.0      0.0      0.0      0.0   \n",
       "3           9  0.000000  0.000000  ...      0.0      0.0      0.0      0.0   \n",
       "4          16  0.000000  0.000000  ...      0.0      0.0      0.0      0.0   \n",
       "..        ...       ...       ...  ...      ...      ...      ...      ...   \n",
       "740    547600  0.000000  0.000000  ...      0.0      0.0      0.0      0.0   \n",
       "741    549081  0.000000  0.000000  ...      0.0      0.0      0.0      0.0   \n",
       "742    550564  0.000000  0.000000  ...      0.0      0.0      0.0      0.0   \n",
       "743    552049  0.000000  0.000000  ...      0.0      0.0      0.0      0.0   \n",
       "744    553536  0.000000  0.000000  ...      0.0      0.0      0.0      0.0   \n",
       "\n",
       "     week_46  week_47  week_48  week_49  week_50  week_51  \n",
       "0        0.0      0.0      0.0      0.0      0.0      0.0  \n",
       "1        0.0      0.0      0.0      0.0      0.0      0.0  \n",
       "2        0.0      0.0      0.0      0.0      0.0      0.0  \n",
       "3        0.0      0.0      0.0      0.0      0.0      0.0  \n",
       "4        0.0      0.0      0.0      0.0      0.0      0.0  \n",
       "..       ...      ...      ...      ...      ...      ...  \n",
       "740      0.0      0.0      0.0      0.0      0.0      0.0  \n",
       "741      0.0      0.0      0.0      0.0      0.0      0.0  \n",
       "742      0.0      0.0      0.0      0.0      0.0      0.0  \n",
       "743      0.0      0.0      0.0      0.0      0.0      0.0  \n",
       "744      0.0      0.0      0.0      0.0      0.0      0.0  \n",
       "\n",
       "[745 rows x 60 columns]"
      ]
     },
     "execution_count": 8,
     "metadata": {},
     "output_type": "execute_result"
    }
   ],
   "source": [
    "gas"
   ]
  },
  {
   "cell_type": "markdown",
   "metadata": {},
   "source": [
    "## 훈련, 테스트 데이터 세트로 분리"
   ]
  },
  {
   "cell_type": "markdown",
   "metadata": {
    "nbpresent": {
     "id": "1c77ea86-256b-4601-a5d5-2f875c0649c9"
    }
   },
   "source": [
    "데이터 분리:\n",
    "- 최근 4주의 데이터를 설명 변수로 만들었기에, 최초 4개의 레코드는 삭제 합니다. (왜냐하면 4개의 설명 변수가 하나 이상은 NULL 이이서 입니다.)\n",
    "- 타겟 변수를 설명 변수와 분리 합니다.\n",
    "- 데이터를 8:2 비율로 훈련, 테스트 데이터로 분리 합니다."
   ]
  },
  {
   "cell_type": "code",
   "execution_count": 9,
   "metadata": {},
   "outputs": [],
   "source": [
    "\n",
    "# train_border=0.6\n",
    "test_border=0.8 # 훈련과 테스트를 8:2 로 나누기위한 비율 입니다.\n",
    "n_lags = 4 ; label = 'thousands_barrels'   \n",
    "gas = gas.iloc[n_lags:, ]\n",
    "# split_train = int(len(gas) * train_border)\n",
    "split_test = int(len(gas) * test_border)\n",
    "\n",
    "# train_y = gas[label][:split_train]\n",
    "# train_X = gas.drop(label, axis=1).iloc[:split_train, ].to_numpy()\n",
    "train_y = gas[label][:split_test]\n",
    "train_X = gas.drop(label, axis=1).iloc[:split_test, ].to_numpy()\n",
    "\n",
    "# validation_y = gas[label][split_train:split_test]\n",
    "# validation_X = gas.drop(label, axis=1).iloc[split_train:split_test, ].to_numpy()\n",
    "test_y = gas[label][split_test:]\n",
    "test_X = gas.drop(label, axis=1).iloc[split_test:, ].to_numpy()\n"
   ]
  },
  {
   "cell_type": "code",
   "execution_count": 10,
   "metadata": {},
   "outputs": [
    {
     "name": "stdout",
     "output_type": "stream",
     "text": [
      "(592, 59)\n",
      "(592,)\n"
     ]
    }
   ],
   "source": [
    "print(train_X.shape)\n",
    "print(train_y.shape)\n"
   ]
  },
  {
   "cell_type": "markdown",
   "metadata": {},
   "source": [
    "## 모델 훈련, 저장, 로딩"
   ]
  },
  {
   "cell_type": "markdown",
   "metadata": {},
   "source": [
    "### Regulization Alpha 하이퍼 파리미터 서치\n",
    "Alpha 리스트 값을 제공하여, 모델의 rmse (Root Mean Square Error)이 가장 작은 alpha 값을 찾습니다."
   ]
  },
  {
   "cell_type": "code",
   "execution_count": 11,
   "metadata": {},
   "outputs": [
    {
     "name": "stdout",
     "output_type": "stream",
     "text": [
      "Ridge min_alpha:  1.5\n",
      "Lasso min_alpha:  1.0\n"
     ]
    },
    {
     "data": {
      "image/png": "[encoded data removed]",
      "text/plain": [
       "<Figure size 576x288 with 1 Axes>"
      ]
     },
     "metadata": {
      "needs_background": "light"
     },
     "output_type": "display_data"
    }
   ],
   "source": [
    "from sklearn.linear_model import Ridge, Lasso\n",
    "import xgboost as xgb\n",
    "from sklearn.model_selection import cross_val_score\n",
    "\n",
    "\n",
    "def rmse_cv(model, X_train, y):\n",
    "    '''\n",
    "    5 cross-validaton을 하여 rmse 값을 리턴 합니다.\n",
    "    '''\n",
    "    rmse= np.sqrt(-cross_val_score(model, X_train, y,\n",
    "                                   scoring=\"neg_mean_squared_error\", cv = 5))\n",
    "    return(rmse)\n",
    "\n",
    "def search_alpha(alphas, train_X, train_y, model):\n",
    "    '''\n",
    "    주어진 alphas 리스트에서 rmse가 가장 작은 alphas값을 리턴 합니다.\n",
    "    '''\n",
    "    if model == 'ridge':\n",
    "        cv = [rmse_cv(Ridge(alpha = alpha), train_X,train_y ).mean() \n",
    "                    for alpha in alphas]\n",
    "    elif model == 'lasso':\n",
    "        cv = [rmse_cv(Lasso(alpha = alpha), train_X,train_y ).mean() \n",
    "                    for alpha in alphas]        \n",
    "    cv = pd.Series(cv, index = alphas)\n",
    "    cv.plot(title = \"Validation - Just Do It\")\n",
    "    plt.xlabel(\"alpha\")\n",
    "    plt.ylabel(\"rmse\")\n",
    "\n",
    "    min_alpha = cv[cv == cv.min()].index.values[0]\n",
    "\n",
    "    \n",
    "    return min_alpha\n",
    "\n",
    "# Ridge\n",
    "alphas = [1, 1.5, 2, 3, 5, 30, 50]\n",
    "min_alpha = search_alpha(alphas, train_X, train_y,  model=\"ridge\")\n",
    "print(\"Ridge min_alpha: \", min_alpha)\n",
    "# Lasso\n",
    "alphas = [0.01, 0.1 , 1, 1.5, 2, 3, 5, 30, 50]\n",
    "min_alpha = search_alpha(alphas, train_X, train_y,  model=\"lasso\")\n",
    "print(\"Lasso min_alpha: \", min_alpha)"
   ]
  },
  {
   "cell_type": "markdown",
   "metadata": {},
   "source": [
    "### Ridge, Lasso, XGBoost 모델을 훈련 합니다."
   ]
  },
  {
   "cell_type": "code",
   "execution_count": 12,
   "metadata": {},
   "outputs": [],
   "source": [
    "import joblib\n",
    "import os\n",
    "\n",
    "\n",
    "def train(train_X, train_y, model, alpha=1.0):\n",
    "    '''\n",
    "    학습하고 모델을 리턴 합니다.\n",
    "    '''\n",
    "    if model =='ridge':\n",
    "        model = Ridge(alpha= alpha, random_state=1000)\n",
    "        print(\"Train Ridge model\")\n",
    "    elif model == 'lasso':\n",
    "        model = Lasso(alpha=alpha, random_state=1000)\n",
    "        print(\"Train Lasso model\")      \n",
    "    elif model =='xgboost':\n",
    "        model = xgb.XGBRegressor(n_estimators=360, max_depth=5, learning_rate=0.1,random_state=1000 )\n",
    "        print(\"Train Lasso model\")      \n",
    "\n",
    "        \n",
    "    model.fit(train_X, train_y)        \n",
    "    \n",
    "    return model\n",
    "\n",
    "\n",
    "\n",
    "def save_model(model, model_folder, model_name):\n",
    "    '''\n",
    "    모델을 지정된 경로에 저장 합니다.\n",
    "    '''\n",
    "    save_path = os.path.join(model_folder, model_name)\n",
    "    joblib.dump(model, save_path)\n",
    "    print(f'{save_path} is saved')\n",
    "    \n",
    "def model_fn(model_dir):\n",
    "    \"\"\"\n",
    "    모델을 주어진 경로에서 로딩 합니다.\n",
    "    \"\"\"   \n",
    "    pca = joblib.load(os.path.join(model_dir, \"model.joblib\"))\n",
    "    \n",
    "    return pca\n",
    "\n",
    "def predict_fn(input_data, model):\n",
    "    \"\"\"\n",
    "    주어진 입력 값에 대해서 모델을 통해서 예측을 합니다.\n",
    "    \"\"\"\n",
    "    payload = input_data\n",
    "    \n",
    "    predictions = model.predict(payload)\n",
    "    print(\"shape of predictions: \", predictions.shape)\n",
    "\n",
    "    return predictions\n",
    "\n",
    "def input_fn(input_data, request_content_type='text/csv'):\n",
    "    \"\"\"\n",
    "    주어진 입력 데이터를 추론에 맞게 포맷을 변경 합니다.\n",
    "    \"\"\"\n",
    "    n_feature = input_data.shape[1]\n",
    "    sample = input_data.reshape(-1,n_feature)\n",
    "    return sample\n",
    "\n",
    "def evaluate(test_y, pred, metric = 'MdAPE'):\n",
    "    '''\n",
    "    MdAPE 값을 계산 합니다.\n",
    "    '''\n",
    "    if metric == 'MdAPE':\n",
    "        MdAPE = np.median(np.abs(test_y - pred) / test_y)    \n",
    "    return MdAPE\n"
   ]
  },
  {
   "cell_type": "code",
   "execution_count": 13,
   "metadata": {},
   "outputs": [
    {
     "name": "stdout",
     "output_type": "stream",
     "text": [
      "Train Ridge model\n",
      "Train Lasso model\n",
      "Train Lasso model\n",
      "model/model.joblib is saved\n"
     ]
    }
   ],
   "source": [
    "# Train\n",
    "model_ridge = train(train_X, train_y, model = 'ridge', alpha = min_alpha)\n",
    "model_lasso = train(train_X, train_y, model = 'lasso', alpha = min_alpha)\n",
    "model_xgboost = train(train_X, train_y, model = 'xgboost') # , alpha = min_alpha)\n",
    "\n",
    "# Save Model AS a test\n",
    "model_folder = 'model'    \n",
    "os.makedirs(model_folder, exist_ok=True)\n",
    "model_name = 'model.joblib'\n",
    "save_model(model_ridge, model_folder, model_name) # Ridge모델 저장\n",
    "\n",
    "# input for evaluation\n",
    "sample = input_fn(test_X)\n",
    "\n",
    "# Load model\n",
    "model_ridge = model_fn(model_folder)\n",
    "\n"
   ]
  },
  {
   "cell_type": "markdown",
   "metadata": {},
   "source": [
    "## 모델 평가"
   ]
  },
  {
   "cell_type": "markdown",
   "metadata": {},
   "source": [
    "### Naive 모델 평가\n",
    "기본 베이스 라인 (Naive 벤츠마크)를 아래와 같이 정의 하겠습니다.\n",
    "- **Naive Benchmark = 해당 주의 1년 전의 값의 제곱 / 해당 주의 2년 전의 값**\n",
    "\n"
   ]
  },
  {
   "cell_type": "code",
   "execution_count": 14,
   "metadata": {},
   "outputs": [],
   "source": [
    "def compute_naive_pred(gas, split_test):\n",
    "    gas_eval = gas.copy()\n",
    "    gas_eval['thousands_barrels_lag52'] = gas['thousands_barrels'].shift(52)\n",
    "    gas_eval['thousands_barrels_lag104'] = gas['thousands_barrels'].shift(104)\n",
    "    gas_eval['thousands_barrels_naive_forecast'] = gas_eval['thousands_barrels_lag52'] ** 2 / gas_eval['thousands_barrels_lag104']\n",
    "    naive = gas_eval[split_test:]['thousands_barrels_naive_forecast'].to_numpy()\n",
    "    \n",
    "    return naive\n",
    "\n",
    "naive = compute_naive_pred(gas, split_test)"
   ]
  },
  {
   "cell_type": "code",
   "execution_count": 15,
   "metadata": {},
   "outputs": [
    {
     "name": "stdout",
     "output_type": "stream",
     "text": [
      "Naive-onestep-ahead MdAPE =  0.03687277085962615\n"
     ]
    },
    {
     "data": {
      "image/png": "[encoded data removed]",
      "text/plain": [
       "<Figure size 576x288 with 1 Axes>"
      ]
     },
     "metadata": {
      "needs_background": "light"
     },
     "output_type": "display_data"
    }
   ],
   "source": [
    "\n",
    "def show_chart(test_y, pred):\n",
    "    plt.plot(np.array(test_y), label='actual')\n",
    "    plt.plot(pred, label='naive')\n",
    "    plt.legend()\n",
    "    plt.show()\n",
    "\n",
    "MdAPE = evaluate(test_y, naive)\n",
    "print('Naive-onestep-ahead MdAPE = ', MdAPE)    \n",
    "show_chart(test_y, naive) "
   ]
  },
  {
   "cell_type": "markdown",
   "metadata": {},
   "source": [
    "### 리지 모델 평가"
   ]
  },
  {
   "cell_type": "code",
   "execution_count": 16,
   "metadata": {},
   "outputs": [
    {
     "name": "stdout",
     "output_type": "stream",
     "text": [
      "shape of predictions:  (149,)\n"
     ]
    }
   ],
   "source": [
    "# Predict\n",
    "ridge_pred = predict_fn(sample, model_ridge)\n"
   ]
  },
  {
   "cell_type": "code",
   "execution_count": 17,
   "metadata": {},
   "outputs": [
    {
     "name": "stdout",
     "output_type": "stream",
     "text": [
      "Ridge-onestep-ahead MdAPE =  0.016805961119412825\n"
     ]
    },
    {
     "data": {
      "image/png": "[encoded data removed]",
      "text/plain": [
       "<Figure size 576x288 with 1 Axes>"
      ]
     },
     "metadata": {
      "needs_background": "light"
     },
     "output_type": "display_data"
    }
   ],
   "source": [
    "# Evaluate\n",
    "MdAPE = evaluate(test_y, ridge_pred)\n",
    "print('Ridge-onestep-ahead MdAPE = ', MdAPE)\n",
    "\n",
    "show_chart(test_y, ridge_pred) "
   ]
  },
  {
   "cell_type": "markdown",
   "metadata": {},
   "source": [
    "## Lasso 모델 평가"
   ]
  },
  {
   "cell_type": "code",
   "execution_count": 18,
   "metadata": {},
   "outputs": [
    {
     "name": "stdout",
     "output_type": "stream",
     "text": [
      "shape of predictions:  (149,)\n",
      "Lasso-onestep-ahead MdAPE =  0.01650186494051367\n"
     ]
    },
    {
     "data": {
      "image/png": "[encoded data removed]",
      "text/plain": [
       "<Figure size 576x288 with 1 Axes>"
      ]
     },
     "metadata": {
      "needs_background": "light"
     },
     "output_type": "display_data"
    }
   ],
   "source": [
    "# Predict\n",
    "lasso_pred = predict_fn(sample, model_lasso)\n",
    "\n",
    "# Evaluate\n",
    "MdAPE = evaluate(test_y, lasso_pred)\n",
    "print('Lasso-onestep-ahead MdAPE = ', MdAPE)\n",
    "\n",
    "show_chart(test_y, lasso_pred) \n"
   ]
  },
  {
   "cell_type": "markdown",
   "metadata": {},
   "source": [
    "## XGBoost 모델 평가"
   ]
  },
  {
   "cell_type": "code",
   "execution_count": 19,
   "metadata": {},
   "outputs": [
    {
     "name": "stdout",
     "output_type": "stream",
     "text": [
      "shape of predictions:  (149,)\n",
      "xgboost_pred-onestep-ahead MdAPE =  0.02355323269872151\n"
     ]
    },
    {
     "data": {
      "image/png": "[encoded data removed]",
      "text/plain": [
       "<Figure size 576x288 with 1 Axes>"
      ]
     },
     "metadata": {
      "needs_background": "light"
     },
     "output_type": "display_data"
    }
   ],
   "source": [
    "# Predict\n",
    "xgboost_pred = predict_fn(sample, model_xgboost)\n",
    "\n",
    "# Evaluate\n",
    "MdAPE = evaluate(test_y, xgboost_pred)\n",
    "print('xgboost_pred-onestep-ahead MdAPE = ', MdAPE)\n",
    "\n",
    "show_chart(test_y, xgboost_pred) \n",
    "\n"
   ]
  },
  {
   "cell_type": "markdown",
   "metadata": {},
   "source": [
    "## Lasso Feature importance\n",
    "\n",
    "아래는 한번 실행의 예시지만 최신 과거 4주의 값에 대해서의 가중치 입니다. 이들은 입력값이 크기에 이에 따라 작은 가중치가 할당됨을 추측할 수 있습니다.\n",
    "```\n",
    "thousands_barrels_lag1      0.010251\n",
    "thousands_barrels_lag2      0.104384\n",
    "thousands_barrels_lag3      0.178383\n",
    "thousands_barrels_lag4      0.125864\n",
    "trend                       2.105096\n",
    "log_trend                 -30.493467\n",
    "sq_trend                   -0.000596\n",
    "week_0                   -337.606021\n",
    "week_1                   -345.055979\n",
    "week_2                     -0.000000\n",
    "week_3                     -0.000000\n",
    "```"
   ]
  },
  {
   "cell_type": "code",
   "execution_count": 20,
   "metadata": {},
   "outputs": [],
   "source": [
    "gas_X = gas.drop(columns=['thousands_barrels'])"
   ]
  },
  {
   "cell_type": "code",
   "execution_count": 21,
   "metadata": {},
   "outputs": [
    {
     "data": {
      "text/plain": [
       "thousands_barrels_lag1      0.010251\n",
       "thousands_barrels_lag2      0.104384\n",
       "thousands_barrels_lag3      0.178383\n",
       "thousands_barrels_lag4      0.125864\n",
       "trend                       2.105096\n",
       "log_trend                 -30.493467\n",
       "sq_trend                   -0.000596\n",
       "week_0                   -337.606021\n",
       "week_1                   -345.055979\n",
       "week_2                     -0.000000\n",
       "week_3                     -0.000000\n",
       "week_4                    -68.605559\n",
       "week_5                   -119.339748\n",
       "week_6                      0.000000\n",
       "week_7                     -0.000000\n",
       "week_8                     -0.000000\n",
       "week_9                    -64.640345\n",
       "week_10                   -55.062759\n",
       "week_11                    -0.000000\n",
       "week_12                   164.865114\n",
       "week_13                   -34.326427\n",
       "week_14                    -0.000000\n",
       "week_15                     0.000000\n",
       "week_16                   149.215577\n",
       "week_17                     0.000000\n",
       "week_18                    10.726191\n",
       "week_19                     0.000000\n",
       "week_20                   199.051387\n",
       "week_21                   379.587990\n",
       "week_22                   245.722988\n",
       "week_23                    63.300119\n",
       "week_24                   230.090348\n",
       "week_25                     0.000000\n",
       "week_26                   241.874526\n",
       "week_27                     0.000000\n",
       "week_28                   158.900746\n",
       "week_29                    37.613000\n",
       "week_30                    74.441996\n",
       "week_31                    -0.000000\n",
       "week_32                    -0.000000\n",
       "week_33                   -14.241010\n",
       "week_34                  -210.893250\n",
       "week_35                    -0.000000\n",
       "week_36                     0.000000\n",
       "week_37                    50.615580\n",
       "week_38                    23.753010\n",
       "week_39                    -0.000000\n",
       "week_40                    -0.000000\n",
       "week_41                   -29.216607\n",
       "week_42                  -149.536379\n",
       "week_43                  -187.531225\n",
       "week_44                     0.000000\n",
       "week_45                    30.839670\n",
       "week_46                   146.418917\n",
       "week_47                   -57.334376\n",
       "week_48                  -192.301828\n",
       "week_49                  -648.865404\n",
       "week_50                  -527.918665\n",
       "week_51                  -554.014010\n",
       "dtype: float64"
      ]
     },
     "execution_count": 21,
     "metadata": {},
     "output_type": "execute_result"
    }
   ],
   "source": [
    "# coef = pd.Series(model_lasso.coef_, index = gas.columns)\n",
    "coef = pd.Series(model_lasso.coef_, index = gas_X.columns)\n",
    "coef"
   ]
  },
  {
   "cell_type": "markdown",
   "metadata": {},
   "source": [
    "coef 가 0인 것은 자연스럽게 삭제가 됩니다. 피쳐가 줄어드는 효과가 발생 합니다."
   ]
  },
  {
   "cell_type": "code",
   "execution_count": 22,
   "metadata": {},
   "outputs": [
    {
     "name": "stdout",
     "output_type": "stream",
     "text": [
      "Lasso picked 40 variables and eliminated the other 19 variables\n"
     ]
    }
   ],
   "source": [
    "print(\"Lasso picked \" + str(sum(coef != 0)) + \" variables and eliminated the other \" +  str(sum(coef == 0)) + \" variables\")"
   ]
  },
  {
   "cell_type": "code",
   "execution_count": 23,
   "metadata": {},
   "outputs": [],
   "source": [
    "imp_coef = pd.concat([coef.sort_values().head(10),\n",
    "                     coef.sort_values().tail(10)])"
   ]
  },
  {
   "cell_type": "code",
   "execution_count": 24,
   "metadata": {},
   "outputs": [
    {
     "data": {
      "text/plain": [
       "Text(0.5, 1.0, 'Coefficients in the Lasso Model')"
      ]
     },
     "execution_count": 24,
     "metadata": {},
     "output_type": "execute_result"
    },
    {
     "data": {
      "image/png": "[encoded data removed]",
      "text/plain": [
       "<Figure size 576x720 with 1 Axes>"
      ]
     },
     "metadata": {
      "needs_background": "light"
     },
     "output_type": "display_data"
    }
   ],
   "source": [
    "matplotlib.rcParams['figure.figsize'] = (8.0, 10.0)\n",
    "imp_coef.plot(kind = \"barh\")\n",
    "plt.title(\"Coefficients in the Lasso Model\")"
   ]
  },
  {
   "cell_type": "code",
   "execution_count": null,
   "metadata": {},
   "outputs": [],
   "source": []
  },
  {
   "cell_type": "code",
   "execution_count": null,
   "metadata": {},
   "outputs": [],
   "source": []
  }
 ],
 "metadata": {
  "celltoolbar": "Tags",
  "kernelspec": {
   "display_name": "conda_python3",
   "language": "python",
   "name": "conda_python3"
  },
  "language_info": {
   "codemirror_mode": {
    "name": "ipython",
    "version": 3
   },
   "file_extension": ".py",
   "mimetype": "text/x-python",
   "name": "python",
   "nbconvert_exporter": "python",
   "pygments_lexer": "ipython3",
   "version": "3.6.10"
  },
  "notice": "Copyright 2017 Amazon.com, Inc. or its affiliates. All Rights Reserved.  Licensed under the Apache License, Version 2.0 (the \"License\"). You may not use this file except in compliance with the License. A copy of the License is located at http://aws.amazon.com/apache2.0/ or in the \"license\" file accompanying this file. This file is distributed on an \"AS IS\" BASIS, WITHOUT WARRANTIES OR CONDITIONS OF ANY KIND, either express or implied. See the License for the specific language governing permissions and limitations under the License."
 },
 "nbformat": 4,
 "nbformat_minor": 4
}

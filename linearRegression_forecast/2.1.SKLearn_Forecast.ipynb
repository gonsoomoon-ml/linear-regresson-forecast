{
 "cells": [
  {
   "cell_type": "markdown",
   "metadata": {},
   "source": [
    "# [모듈 2.1] SK Learn Ridge, Lasso Regresson 모델 훈련 및 평가"
   ]
  },
  {
   "cell_type": "code",
   "execution_count": 1,
   "metadata": {
    "nbpresent": {
     "id": "bb88eea9-27f3-4e47-9133-663911ea09a9"
    }
   },
   "outputs": [],
   "source": [
    "import pandas as pd\n",
    "import numpy as np\n",
    "import matplotlib.pyplot as plt\n",
    "import io\n",
    "import os\n",
    "import time\n",
    "import json\n",
    "import sagemaker.amazon.common as smac\n",
    "import sagemaker\n",
    "from sagemaker.predictor import csv_serializer, json_deserializer"
   ]
  },
  {
   "cell_type": "markdown",
   "metadata": {
    "nbpresent": {
     "id": "142777ae-c072-448e-b941-72bc75735d01"
    }
   },
   "source": [
    "---\n",
    "## Data\n",
    "\n",
    "Let's download the data.  More information about this dataset can be found [here](https://rdrr.io/github/robjhyndman/fpp/man/gasoline.html)."
   ]
  },
  {
   "cell_type": "code",
   "execution_count": 2,
   "metadata": {
    "nbpresent": {
     "id": "78105bc7-ce5d-4003-84f6-4dc5700c5945"
    }
   },
   "outputs": [],
   "source": [
    "# !wget http://robjhyndman.com/data/gasoline.csv"
   ]
  },
  {
   "cell_type": "markdown",
   "metadata": {
    "nbpresent": {
     "id": "b472326f-3584-4b61-aecc-04b35486a1ab"
    }
   },
   "source": [
    "And take a look at it."
   ]
  },
  {
   "cell_type": "code",
   "execution_count": 3,
   "metadata": {
    "nbpresent": {
     "id": "f8976dad-6897-4c7e-8c95-ae2f53070ef5"
    }
   },
   "outputs": [
    {
     "data": {
      "text/html": [
       "<div>\n",
       "<style scoped>\n",
       "    .dataframe tbody tr th:only-of-type {\n",
       "        vertical-align: middle;\n",
       "    }\n",
       "\n",
       "    .dataframe tbody tr th {\n",
       "        vertical-align: top;\n",
       "    }\n",
       "\n",
       "    .dataframe thead th {\n",
       "        text-align: right;\n",
       "    }\n",
       "</style>\n",
       "<table border=\"1\" class=\"dataframe\">\n",
       "  <thead>\n",
       "    <tr style=\"text-align: right;\">\n",
       "      <th></th>\n",
       "      <th>thousands_barrels</th>\n",
       "    </tr>\n",
       "  </thead>\n",
       "  <tbody>\n",
       "    <tr>\n",
       "      <th>0</th>\n",
       "      <td>6621.0</td>\n",
       "    </tr>\n",
       "    <tr>\n",
       "      <th>1</th>\n",
       "      <td>6433.0</td>\n",
       "    </tr>\n",
       "    <tr>\n",
       "      <th>2</th>\n",
       "      <td>6582.0</td>\n",
       "    </tr>\n",
       "    <tr>\n",
       "      <th>3</th>\n",
       "      <td>7224.0</td>\n",
       "    </tr>\n",
       "    <tr>\n",
       "      <th>4</th>\n",
       "      <td>6875.0</td>\n",
       "    </tr>\n",
       "  </tbody>\n",
       "</table>\n",
       "</div>"
      ],
      "text/plain": [
       "   thousands_barrels\n",
       "0             6621.0\n",
       "1             6433.0\n",
       "2             6582.0\n",
       "3             7224.0\n",
       "4             6875.0"
      ]
     },
     "metadata": {},
     "output_type": "display_data"
    },
    {
     "data": {
      "image/png": "[encoded data removed]",
      "text/plain": [
       "<Figure size 432x288 with 1 Axes>"
      ]
     },
     "metadata": {
      "needs_background": "light"
     },
     "output_type": "display_data"
    }
   ],
   "source": [
    "raw_gas = pd.read_csv('gasoline.csv', header=None, names=['thousands_barrels'])\n",
    "display(raw_gas.head())\n",
    "plt.plot(raw_gas)\n",
    "plt.show()"
   ]
  },
  {
   "cell_type": "markdown",
   "metadata": {
    "nbpresent": {
     "id": "1c44e72e-1b0d-4dcb-91b9-9b9f28a697b0"
    }
   },
   "source": [
    "As we can see, there's a definitive upward trend, some yearly seasonality, but sufficient volatility to make the problem non-trivial.  There are several unexpected dips and years with more or less pronounced seasonality.  These same characteristics are common in many topline time-series.\n",
    "\n",
    "Next we'll transform the dataset to make it look a bit more like a standard prediction model.  Our target variable is `thousands_barrels`.  Let's create explanatory features, like:\n",
    "- `thousands_barrels` for each of the 4 preceeding weeks.\n",
    "- Trend.  The chart above suggests the trend is simply linear, but we'll create log and quadratic trends in case.\n",
    "- Indicator variables {0 or 1} that will help capture seasonality and key holiday weeks."
   ]
  },
  {
   "cell_type": "markdown",
   "metadata": {},
   "source": [
    "## 피쳐 엔지니어링"
   ]
  },
  {
   "cell_type": "code",
   "execution_count": 4,
   "metadata": {
    "nbpresent": {
     "id": "6af8d66e-2ef6-4e8d-bb23-d2bd3dbb0b20"
    }
   },
   "outputs": [],
   "source": [
    "def make_feature_engineering(gas):\n",
    "    gas['thousands_barrels_lag1'] = gas['thousands_barrels'].shift(1)\n",
    "    gas['thousands_barrels_lag2'] = gas['thousands_barrels'].shift(2)\n",
    "    gas['thousands_barrels_lag3'] = gas['thousands_barrels'].shift(3)\n",
    "    gas['thousands_barrels_lag4'] = gas['thousands_barrels'].shift(4)\n",
    "    gas['trend'] = np.arange(len(gas))\n",
    "    gas['log_trend'] = np.log1p(np.arange(len(gas)))\n",
    "    gas['sq_trend'] = np.arange(len(gas)) ** 2\n",
    "    weeks = pd.get_dummies(np.array(list(range(52)) * 15)[:len(gas)], prefix='week')\n",
    "    gas = pd.concat([gas, weeks], axis=1)\n",
    "    \n",
    "    return gas\n",
    "\n",
    "gas = make_feature_engineering(raw_gas)"
   ]
  },
  {
   "cell_type": "markdown",
   "metadata": {
    "nbpresent": {
     "id": "1c77ea86-256b-4601-a5d5-2f875c0649c9"
    }
   },
   "source": [
    "Now, we'll:\n",
    "- Clear out the first four rows where we don't have lagged information.\n",
    "- Split the target off from the explanatory features.\n",
    "- Split the data into training, validation, and test groups so that we can tune our model and then evaluate its accuracy on data it hasn't seen yet.  Since this is time-series data, we'll use the first 60% for training, the second 20% for validation, and the final 20% for final test evaluation."
   ]
  },
  {
   "cell_type": "code",
   "execution_count": 5,
   "metadata": {},
   "outputs": [
    {
     "name": "stdout",
     "output_type": "stream",
     "text": [
      "gas : (745, 60)\n",
      "Index(['thousands_barrels', 'thousands_barrels_lag1', 'thousands_barrels_lag2',\n",
      "       'thousands_barrels_lag3', 'thousands_barrels_lag4', 'trend',\n",
      "       'log_trend', 'sq_trend', 'week_0', 'week_1', 'week_2', 'week_3',\n",
      "       'week_4', 'week_5', 'week_6', 'week_7', 'week_8', 'week_9', 'week_10',\n",
      "       'week_11', 'week_12', 'week_13', 'week_14', 'week_15', 'week_16',\n",
      "       'week_17', 'week_18', 'week_19', 'week_20', 'week_21', 'week_22',\n",
      "       'week_23', 'week_24', 'week_25', 'week_26', 'week_27', 'week_28',\n",
      "       'week_29', 'week_30', 'week_31', 'week_32', 'week_33', 'week_34',\n",
      "       'week_35', 'week_36', 'week_37', 'week_38', 'week_39', 'week_40',\n",
      "       'week_41', 'week_42', 'week_43', 'week_44', 'week_45', 'week_46',\n",
      "       'week_47', 'week_48', 'week_49', 'week_50', 'week_51'],\n",
      "      dtype='object')\n"
     ]
    },
    {
     "data": {
      "text/html": [
       "<div>\n",
       "<style scoped>\n",
       "    .dataframe tbody tr th:only-of-type {\n",
       "        vertical-align: middle;\n",
       "    }\n",
       "\n",
       "    .dataframe tbody tr th {\n",
       "        vertical-align: top;\n",
       "    }\n",
       "\n",
       "    .dataframe thead th {\n",
       "        text-align: right;\n",
       "    }\n",
       "</style>\n",
       "<table border=\"1\" class=\"dataframe\">\n",
       "  <thead>\n",
       "    <tr style=\"text-align: right;\">\n",
       "      <th></th>\n",
       "      <th>thousands_barrels</th>\n",
       "      <th>thousands_barrels_lag1</th>\n",
       "      <th>thousands_barrels_lag2</th>\n",
       "      <th>thousands_barrels_lag3</th>\n",
       "      <th>thousands_barrels_lag4</th>\n",
       "      <th>trend</th>\n",
       "      <th>log_trend</th>\n",
       "      <th>sq_trend</th>\n",
       "      <th>week_0</th>\n",
       "      <th>week_1</th>\n",
       "      <th>...</th>\n",
       "      <th>week_42</th>\n",
       "      <th>week_43</th>\n",
       "      <th>week_44</th>\n",
       "      <th>week_45</th>\n",
       "      <th>week_46</th>\n",
       "      <th>week_47</th>\n",
       "      <th>week_48</th>\n",
       "      <th>week_49</th>\n",
       "      <th>week_50</th>\n",
       "      <th>week_51</th>\n",
       "    </tr>\n",
       "  </thead>\n",
       "  <tbody>\n",
       "    <tr>\n",
       "      <th>0</th>\n",
       "      <td>6621.0</td>\n",
       "      <td>NaN</td>\n",
       "      <td>NaN</td>\n",
       "      <td>NaN</td>\n",
       "      <td>NaN</td>\n",
       "      <td>0</td>\n",
       "      <td>0.000000</td>\n",
       "      <td>0</td>\n",
       "      <td>1</td>\n",
       "      <td>0</td>\n",
       "      <td>...</td>\n",
       "      <td>0</td>\n",
       "      <td>0</td>\n",
       "      <td>0</td>\n",
       "      <td>0</td>\n",
       "      <td>0</td>\n",
       "      <td>0</td>\n",
       "      <td>0</td>\n",
       "      <td>0</td>\n",
       "      <td>0</td>\n",
       "      <td>0</td>\n",
       "    </tr>\n",
       "    <tr>\n",
       "      <th>1</th>\n",
       "      <td>6433.0</td>\n",
       "      <td>6621.0</td>\n",
       "      <td>NaN</td>\n",
       "      <td>NaN</td>\n",
       "      <td>NaN</td>\n",
       "      <td>1</td>\n",
       "      <td>0.693147</td>\n",
       "      <td>1</td>\n",
       "      <td>0</td>\n",
       "      <td>1</td>\n",
       "      <td>...</td>\n",
       "      <td>0</td>\n",
       "      <td>0</td>\n",
       "      <td>0</td>\n",
       "      <td>0</td>\n",
       "      <td>0</td>\n",
       "      <td>0</td>\n",
       "      <td>0</td>\n",
       "      <td>0</td>\n",
       "      <td>0</td>\n",
       "      <td>0</td>\n",
       "    </tr>\n",
       "    <tr>\n",
       "      <th>2</th>\n",
       "      <td>6582.0</td>\n",
       "      <td>6433.0</td>\n",
       "      <td>6621.0</td>\n",
       "      <td>NaN</td>\n",
       "      <td>NaN</td>\n",
       "      <td>2</td>\n",
       "      <td>1.098612</td>\n",
       "      <td>4</td>\n",
       "      <td>0</td>\n",
       "      <td>0</td>\n",
       "      <td>...</td>\n",
       "      <td>0</td>\n",
       "      <td>0</td>\n",
       "      <td>0</td>\n",
       "      <td>0</td>\n",
       "      <td>0</td>\n",
       "      <td>0</td>\n",
       "      <td>0</td>\n",
       "      <td>0</td>\n",
       "      <td>0</td>\n",
       "      <td>0</td>\n",
       "    </tr>\n",
       "    <tr>\n",
       "      <th>3</th>\n",
       "      <td>7224.0</td>\n",
       "      <td>6582.0</td>\n",
       "      <td>6433.0</td>\n",
       "      <td>6621.0</td>\n",
       "      <td>NaN</td>\n",
       "      <td>3</td>\n",
       "      <td>1.386294</td>\n",
       "      <td>9</td>\n",
       "      <td>0</td>\n",
       "      <td>0</td>\n",
       "      <td>...</td>\n",
       "      <td>0</td>\n",
       "      <td>0</td>\n",
       "      <td>0</td>\n",
       "      <td>0</td>\n",
       "      <td>0</td>\n",
       "      <td>0</td>\n",
       "      <td>0</td>\n",
       "      <td>0</td>\n",
       "      <td>0</td>\n",
       "      <td>0</td>\n",
       "    </tr>\n",
       "    <tr>\n",
       "      <th>4</th>\n",
       "      <td>6875.0</td>\n",
       "      <td>7224.0</td>\n",
       "      <td>6582.0</td>\n",
       "      <td>6433.0</td>\n",
       "      <td>6621.0</td>\n",
       "      <td>4</td>\n",
       "      <td>1.609438</td>\n",
       "      <td>16</td>\n",
       "      <td>0</td>\n",
       "      <td>0</td>\n",
       "      <td>...</td>\n",
       "      <td>0</td>\n",
       "      <td>0</td>\n",
       "      <td>0</td>\n",
       "      <td>0</td>\n",
       "      <td>0</td>\n",
       "      <td>0</td>\n",
       "      <td>0</td>\n",
       "      <td>0</td>\n",
       "      <td>0</td>\n",
       "      <td>0</td>\n",
       "    </tr>\n",
       "    <tr>\n",
       "      <th>...</th>\n",
       "      <td>...</td>\n",
       "      <td>...</td>\n",
       "      <td>...</td>\n",
       "      <td>...</td>\n",
       "      <td>...</td>\n",
       "      <td>...</td>\n",
       "      <td>...</td>\n",
       "      <td>...</td>\n",
       "      <td>...</td>\n",
       "      <td>...</td>\n",
       "      <td>...</td>\n",
       "      <td>...</td>\n",
       "      <td>...</td>\n",
       "      <td>...</td>\n",
       "      <td>...</td>\n",
       "      <td>...</td>\n",
       "      <td>...</td>\n",
       "      <td>...</td>\n",
       "      <td>...</td>\n",
       "      <td>...</td>\n",
       "      <td>...</td>\n",
       "    </tr>\n",
       "    <tr>\n",
       "      <th>740</th>\n",
       "      <td>9170.0</td>\n",
       "      <td>9089.0</td>\n",
       "      <td>9095.0</td>\n",
       "      <td>9075.0</td>\n",
       "      <td>9069.0</td>\n",
       "      <td>740</td>\n",
       "      <td>6.608001</td>\n",
       "      <td>547600</td>\n",
       "      <td>0</td>\n",
       "      <td>0</td>\n",
       "      <td>...</td>\n",
       "      <td>0</td>\n",
       "      <td>0</td>\n",
       "      <td>0</td>\n",
       "      <td>0</td>\n",
       "      <td>0</td>\n",
       "      <td>0</td>\n",
       "      <td>0</td>\n",
       "      <td>0</td>\n",
       "      <td>0</td>\n",
       "      <td>0</td>\n",
       "    </tr>\n",
       "    <tr>\n",
       "      <th>741</th>\n",
       "      <td>9306.0</td>\n",
       "      <td>9170.0</td>\n",
       "      <td>9089.0</td>\n",
       "      <td>9095.0</td>\n",
       "      <td>9075.0</td>\n",
       "      <td>741</td>\n",
       "      <td>6.609349</td>\n",
       "      <td>549081</td>\n",
       "      <td>0</td>\n",
       "      <td>0</td>\n",
       "      <td>...</td>\n",
       "      <td>0</td>\n",
       "      <td>0</td>\n",
       "      <td>0</td>\n",
       "      <td>0</td>\n",
       "      <td>0</td>\n",
       "      <td>0</td>\n",
       "      <td>0</td>\n",
       "      <td>0</td>\n",
       "      <td>0</td>\n",
       "      <td>0</td>\n",
       "    </tr>\n",
       "    <tr>\n",
       "      <th>742</th>\n",
       "      <td>9024.0</td>\n",
       "      <td>9306.0</td>\n",
       "      <td>9170.0</td>\n",
       "      <td>9089.0</td>\n",
       "      <td>9095.0</td>\n",
       "      <td>742</td>\n",
       "      <td>6.610696</td>\n",
       "      <td>550564</td>\n",
       "      <td>0</td>\n",
       "      <td>0</td>\n",
       "      <td>...</td>\n",
       "      <td>0</td>\n",
       "      <td>0</td>\n",
       "      <td>0</td>\n",
       "      <td>0</td>\n",
       "      <td>0</td>\n",
       "      <td>0</td>\n",
       "      <td>0</td>\n",
       "      <td>0</td>\n",
       "      <td>0</td>\n",
       "      <td>0</td>\n",
       "    </tr>\n",
       "    <tr>\n",
       "      <th>743</th>\n",
       "      <td>9175.0</td>\n",
       "      <td>9024.0</td>\n",
       "      <td>9306.0</td>\n",
       "      <td>9170.0</td>\n",
       "      <td>9089.0</td>\n",
       "      <td>743</td>\n",
       "      <td>6.612041</td>\n",
       "      <td>552049</td>\n",
       "      <td>0</td>\n",
       "      <td>0</td>\n",
       "      <td>...</td>\n",
       "      <td>0</td>\n",
       "      <td>0</td>\n",
       "      <td>0</td>\n",
       "      <td>0</td>\n",
       "      <td>0</td>\n",
       "      <td>0</td>\n",
       "      <td>0</td>\n",
       "      <td>0</td>\n",
       "      <td>0</td>\n",
       "      <td>0</td>\n",
       "    </tr>\n",
       "    <tr>\n",
       "      <th>744</th>\n",
       "      <td>9269.0</td>\n",
       "      <td>9175.0</td>\n",
       "      <td>9024.0</td>\n",
       "      <td>9306.0</td>\n",
       "      <td>9170.0</td>\n",
       "      <td>744</td>\n",
       "      <td>6.613384</td>\n",
       "      <td>553536</td>\n",
       "      <td>0</td>\n",
       "      <td>0</td>\n",
       "      <td>...</td>\n",
       "      <td>0</td>\n",
       "      <td>0</td>\n",
       "      <td>0</td>\n",
       "      <td>0</td>\n",
       "      <td>0</td>\n",
       "      <td>0</td>\n",
       "      <td>0</td>\n",
       "      <td>0</td>\n",
       "      <td>0</td>\n",
       "      <td>0</td>\n",
       "    </tr>\n",
       "  </tbody>\n",
       "</table>\n",
       "<p>745 rows × 60 columns</p>\n",
       "</div>"
      ],
      "text/plain": [
       "     thousands_barrels  thousands_barrels_lag1  thousands_barrels_lag2  \\\n",
       "0               6621.0                     NaN                     NaN   \n",
       "1               6433.0                  6621.0                     NaN   \n",
       "2               6582.0                  6433.0                  6621.0   \n",
       "3               7224.0                  6582.0                  6433.0   \n",
       "4               6875.0                  7224.0                  6582.0   \n",
       "..                 ...                     ...                     ...   \n",
       "740             9170.0                  9089.0                  9095.0   \n",
       "741             9306.0                  9170.0                  9089.0   \n",
       "742             9024.0                  9306.0                  9170.0   \n",
       "743             9175.0                  9024.0                  9306.0   \n",
       "744             9269.0                  9175.0                  9024.0   \n",
       "\n",
       "     thousands_barrels_lag3  thousands_barrels_lag4  trend  log_trend  \\\n",
       "0                       NaN                     NaN      0   0.000000   \n",
       "1                       NaN                     NaN      1   0.693147   \n",
       "2                       NaN                     NaN      2   1.098612   \n",
       "3                    6621.0                     NaN      3   1.386294   \n",
       "4                    6433.0                  6621.0      4   1.609438   \n",
       "..                      ...                     ...    ...        ...   \n",
       "740                  9075.0                  9069.0    740   6.608001   \n",
       "741                  9095.0                  9075.0    741   6.609349   \n",
       "742                  9089.0                  9095.0    742   6.610696   \n",
       "743                  9170.0                  9089.0    743   6.612041   \n",
       "744                  9306.0                  9170.0    744   6.613384   \n",
       "\n",
       "     sq_trend  week_0  week_1  ...  week_42  week_43  week_44  week_45  \\\n",
       "0           0       1       0  ...        0        0        0        0   \n",
       "1           1       0       1  ...        0        0        0        0   \n",
       "2           4       0       0  ...        0        0        0        0   \n",
       "3           9       0       0  ...        0        0        0        0   \n",
       "4          16       0       0  ...        0        0        0        0   \n",
       "..        ...     ...     ...  ...      ...      ...      ...      ...   \n",
       "740    547600       0       0  ...        0        0        0        0   \n",
       "741    549081       0       0  ...        0        0        0        0   \n",
       "742    550564       0       0  ...        0        0        0        0   \n",
       "743    552049       0       0  ...        0        0        0        0   \n",
       "744    553536       0       0  ...        0        0        0        0   \n",
       "\n",
       "     week_46  week_47  week_48  week_49  week_50  week_51  \n",
       "0          0        0        0        0        0        0  \n",
       "1          0        0        0        0        0        0  \n",
       "2          0        0        0        0        0        0  \n",
       "3          0        0        0        0        0        0  \n",
       "4          0        0        0        0        0        0  \n",
       "..       ...      ...      ...      ...      ...      ...  \n",
       "740        0        0        0        0        0        0  \n",
       "741        0        0        0        0        0        0  \n",
       "742        0        0        0        0        0        0  \n",
       "743        0        0        0        0        0        0  \n",
       "744        0        0        0        0        0        0  \n",
       "\n",
       "[745 rows x 60 columns]"
      ]
     },
     "execution_count": 5,
     "metadata": {},
     "output_type": "execute_result"
    }
   ],
   "source": [
    "print(\"gas :\",gas.shape)\n",
    "print(gas.columns)\n",
    "gas"
   ]
  },
  {
   "cell_type": "markdown",
   "metadata": {},
   "source": [
    "## 훈련, 검증, 테스트 데이터 세트로 분리"
   ]
  },
  {
   "cell_type": "markdown",
   "metadata": {
    "nbpresent": {
     "id": "ff9d10f9-b611-423b-80da-6dcdafd1c8b9"
    }
   },
   "source": [
    "Now, we'll convert the datasets to the recordIO-wrapped protobuf format used by the Amazon SageMaker algorithms and upload this data to S3.  We'll start with training data."
   ]
  },
  {
   "cell_type": "code",
   "execution_count": 6,
   "metadata": {},
   "outputs": [],
   "source": [
    "\n",
    "train_border=0.6\n",
    "test_border=0.8\n",
    "n_lags = 4 ; label = 'thousands_barrels'   \n",
    "gas = gas.iloc[n_lags:, ]\n",
    "split_train = int(len(gas) * train_border)\n",
    "split_test = int(len(gas) * test_border)\n",
    "\n",
    "train_y = gas[label][:split_train]\n",
    "train_X = gas.drop(label, axis=1).iloc[:split_train, ].to_numpy()\n",
    "validation_y = gas[label][split_train:split_test]\n",
    "validation_X = gas.drop(label, axis=1).iloc[split_train:split_test, ].to_numpy()\n",
    "test_y = gas[label][split_test:]\n",
    "test_X = gas.drop(label, axis=1).iloc[split_test:, ].to_numpy()\n"
   ]
  },
  {
   "cell_type": "code",
   "execution_count": 7,
   "metadata": {},
   "outputs": [
    {
     "name": "stdout",
     "output_type": "stream",
     "text": [
      "(444, 59)\n",
      "(444,)\n"
     ]
    }
   ],
   "source": [
    "print(train_X.shape)\n",
    "print(train_y.shape)\n"
   ]
  },
  {
   "cell_type": "markdown",
   "metadata": {},
   "source": [
    "## 모델 훈련, 저장, 로딩"
   ]
  },
  {
   "cell_type": "code",
   "execution_count": 8,
   "metadata": {},
   "outputs": [],
   "source": [
    "import joblib\n",
    "import os\n",
    "\n",
    "from sklearn.linear_model import Ridge, RidgeCV, LassoCV, Lasso\n",
    "from sklearn.model_selection import cross_val_score\n",
    "\n",
    "def train(train_X, train_y, model):\n",
    "    if model =='ridge':\n",
    "        model = Ridge(alpha=3.0)\n",
    "        print(\"Train Ridge model\")\n",
    "    elif model == 'lasso':\n",
    "        model = Lasso(alpha=3.0)\n",
    "        print(\"Train Lasso model\")        \n",
    "        \n",
    "    model.fit(train_X, train_y)        \n",
    "    \n",
    "    return model\n",
    "\n",
    "\n",
    "\n",
    "def save_model(model, model_folder, model_name):\n",
    "    save_path = os.path.join(model_folder, model_name)\n",
    "    joblib.dump(model, save_path)\n",
    "    print(f'{save_path} is saved')\n",
    "    \n",
    "def model_fn(model_dir):\n",
    "    \"\"\"\n",
    "    Deserialized and return fitted model\n",
    "    Note that this should have the same name as the serialized model in the main method\n",
    "    \"\"\"   \n",
    "    pca = joblib.load(os.path.join(model_dir, \"model.joblib\"))\n",
    "    \n",
    "    return pca\n",
    "\n",
    "def predict_fn(input_data, model):\n",
    "    \"\"\"Preprocess input data\n",
    "    \"\"\"\n",
    "    payload = input_data\n",
    "    \n",
    "    predictions = model.predict(payload)\n",
    "    print(\"shape of predictions: \", predictions.shape)\n",
    "\n",
    "    return predictions\n",
    "\n",
    "def input_fn(input_data, request_content_type='text/csv'):\n",
    "    \"\"\"\n",
    "    \"\"\"\n",
    "    n_feature = input_data.shape[1]\n",
    "    sample = input_data.reshape(-1,n_feature)\n",
    "    return sample\n",
    "\n",
    "def evaluate(test_y, pred, metric = 'MdAPE'):\n",
    "    '''\n",
    "    # Naive MdAPE = 0.03687277085962615\n",
    "    # One-step-ahead MdAPE =  0.020360223119258346    \n",
    "    '''\n",
    "    if metric == 'MdAPE':\n",
    "        MdAPE = np.median(np.abs(test_y - pred) / test_y)    \n",
    "    return MdAPE\n"
   ]
  },
  {
   "cell_type": "code",
   "execution_count": 9,
   "metadata": {},
   "outputs": [
    {
     "name": "stdout",
     "output_type": "stream",
     "text": [
      "Train Ridge model\n",
      "model/model.joblib is saved\n"
     ]
    }
   ],
   "source": [
    "# Train\n",
    "model_ridge = train(train_X, train_y, model = 'ridge')\n",
    "# model_lasso = train(train_X, train_y, model = 'lasso')\n",
    "\n",
    "# Save Model\n",
    "model_folder = 'model'    \n",
    "os.makedirs(model_folder, exist_ok=True)\n",
    "model_name = 'model.joblib'\n",
    "save_model(model_ridge, model_folder, model_name)\n",
    "\n",
    "# input for evaluation\n",
    "sample = input_fn(test_X)\n",
    "\n",
    "# Load model\n",
    "model_ridge = model_fn(model_folder)\n",
    "\n"
   ]
  },
  {
   "cell_type": "markdown",
   "metadata": {},
   "source": [
    "## 모델 평가"
   ]
  },
  {
   "cell_type": "code",
   "execution_count": 10,
   "metadata": {},
   "outputs": [],
   "source": [
    "def compute_naive_pred(gas, split_test):\n",
    "    gas_eval = gas.copy()\n",
    "    gas_eval['thousands_barrels_lag52'] = gas['thousands_barrels'].shift(52)\n",
    "    gas_eval['thousands_barrels_lag104'] = gas['thousands_barrels'].shift(104)\n",
    "    gas_eval['thousands_barrels_naive_forecast'] = gas_eval['thousands_barrels_lag52'] ** 2 / gas_eval['thousands_barrels_lag104']\n",
    "    naive = gas_eval[split_test:]['thousands_barrels_naive_forecast'].to_numpy()\n",
    "    \n",
    "    return naive\n",
    "\n",
    "naive = compute_naive_pred(gas, split_test)"
   ]
  },
  {
   "cell_type": "code",
   "execution_count": 11,
   "metadata": {},
   "outputs": [
    {
     "name": "stdout",
     "output_type": "stream",
     "text": [
      "(149,)\n",
      "(149,)\n"
     ]
    }
   ],
   "source": [
    "print(test_y.shape)\n",
    "\n",
    "print(naive.shape)"
   ]
  },
  {
   "cell_type": "code",
   "execution_count": 12,
   "metadata": {},
   "outputs": [
    {
     "name": "stdout",
     "output_type": "stream",
     "text": [
      "Naive-onestep-ahead MdAPE =  0.03687277085962615\n"
     ]
    },
    {
     "data": {
      "image/png": "[encoded data removed]",
      "text/plain": [
       "<Figure size 432x288 with 1 Axes>"
      ]
     },
     "metadata": {
      "needs_background": "light"
     },
     "output_type": "display_data"
    }
   ],
   "source": [
    "\n",
    "def show_chart(test_y, pred):\n",
    "    plt.plot(np.array(test_y), label='actual')\n",
    "    plt.plot(pred, label='naive')\n",
    "    plt.legend()\n",
    "    plt.show()\n",
    "\n",
    "MdAPE = evaluate(test_y, naive)\n",
    "print('Naive-onestep-ahead MdAPE = ', MdAPE)    \n",
    "show_chart(test_y, naive) "
   ]
  },
  {
   "cell_type": "code",
   "execution_count": 13,
   "metadata": {},
   "outputs": [
    {
     "name": "stdout",
     "output_type": "stream",
     "text": [
      "shape of predictions:  (149,)\n",
      "Ridge-onestep-ahead MdAPE =  0.021790265344816973\n"
     ]
    },
    {
     "data": {
      "image/png": "[encoded data removed]",
      "text/plain": [
       "<Figure size 432x288 with 1 Axes>"
      ]
     },
     "metadata": {
      "needs_background": "light"
     },
     "output_type": "display_data"
    }
   ],
   "source": [
    "# Predict\n",
    "ridge_pred = predict_fn(sample, model_ridge)\n",
    "# lasso_pred = predict_fn(model_lasso, sample)\n",
    "\n",
    "# Evaluate\n",
    "MdAPE = evaluate(test_y, ridge_pred)\n",
    "print('Ridge-onestep-ahead MdAPE = ', MdAPE)\n",
    "\n",
    "show_chart(test_y, ridge_pred) "
   ]
  },
  {
   "cell_type": "code",
   "execution_count": null,
   "metadata": {},
   "outputs": [],
   "source": []
  }
 ],
 "metadata": {
  "celltoolbar": "Tags",
  "kernelspec": {
   "display_name": "conda_python3",
   "language": "python",
   "name": "conda_python3"
  },
  "language_info": {
   "codemirror_mode": {
    "name": "ipython",
    "version": 3
   },
   "file_extension": ".py",
   "mimetype": "text/x-python",
   "name": "python",
   "nbconvert_exporter": "python",
   "pygments_lexer": "ipython3",
   "version": "3.6.10"
  },
  "notice": "Copyright 2017 Amazon.com, Inc. or its affiliates. All Rights Reserved.  Licensed under the Apache License, Version 2.0 (the \"License\"). You may not use this file except in compliance with the License. A copy of the License is located at http://aws.amazon.com/apache2.0/ or in the \"license\" file accompanying this file. This file is distributed on an \"AS IS\" BASIS, WITHOUT WARRANTIES OR CONDITIONS OF ANY KIND, either express or implied. See the License for the specific language governing permissions and limitations under the License."
 },
 "nbformat": 4,
 "nbformat_minor": 4
}

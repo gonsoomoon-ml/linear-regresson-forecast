{
 "cells": [
  {
   "cell_type": "markdown",
   "metadata": {},
   "source": [
    "## Standard Scaler"
   ]
  },
  {
   "cell_type": "markdown",
   "metadata": {},
   "source": [
    "## 데이터 표준화"
   ]
  },
  {
   "cell_type": "code",
   "execution_count": 186,
   "metadata": {},
   "outputs": [
    {
     "name": "stdout",
     "output_type": "stream",
     "text": [
      "(741,)\n"
     ]
    }
   ],
   "source": [
    "from sklearn.preprocessing import MinMaxScaler\n",
    "def normalize(raw_df):\n",
    "    df = raw_df.copy()\n",
    "    scaler = MinMaxScaler()\n",
    "    cols = df.columns\n",
    "    data = df.values\n",
    "    s_data = scaler.fit_transform(data)\n",
    "    df = pd.DataFrame(s_data, columns=cols)\n",
    "    # y_scaler\n",
    "    y_scaler = MinMaxScaler()    \n",
    "    y_data = df.iloc[:,0].values\n",
    "    y_data = np.array(y_data)\n",
    "    print(y_data.shape)\n",
    "    y_data = y_data.reshape(-1,len(y_data))\n",
    "\n",
    "    y_data = y_scaler.fit_transform(y_data)\n",
    "    \n",
    "    return df, scaler,  y_scaler\n",
    "   \n",
    "# gas_cols = gas.columns  \n",
    "gas, scaler, y_scaler = normalize(gas)    "
   ]
  },
  {
   "cell_type": "code",
   "execution_count": 6,
   "metadata": {},
   "outputs": [
    {
     "name": "stdout",
     "output_type": "stream",
     "text": [
      "   A    B\n",
      "0  0   25\n",
      "1  1   50\n",
      "2  2   75\n",
      "3  3  100\n",
      "4  4  125\n",
      "      A     B\n",
      "0  0.00  0.00\n",
      "1  0.25  0.25\n",
      "2  0.50  0.50\n",
      "3  0.75  0.75\n",
      "4  1.00  1.00\n",
      "<class 'pandas.core.frame.DataFrame'>\n"
     ]
    }
   ],
   "source": [
    "from sklearn.preprocessing import MinMaxScaler\n",
    "import pandas as pd\n",
    "df = pd.DataFrame({\n",
    "  \"A\" : [0, 1, 2, 3, 4],\n",
    "  \"B\" : [25, 50, 75, 100, 125]})\n",
    "\n",
    "min_max_scaler = MinMaxScaler()\n",
    "\n",
    "print(df)\n",
    "df[[\"A\", \"B\"]] = min_max_scaler.fit_transform(df[[\"A\", \"B\"]])\n",
    "print(df)\n",
    "print(type(df))"
   ]
  },
  {
   "cell_type": "markdown",
   "metadata": {},
   "source": [
    "## Log Transform"
   ]
  },
  {
   "cell_type": "code",
   "execution_count": 1,
   "metadata": {},
   "outputs": [
    {
     "name": "stdout",
     "output_type": "stream",
     "text": [
      "Y:  4.61512051684126\n",
      "back:  100.00000000000003\n"
     ]
    }
   ],
   "source": [
    "import numpy as np\n",
    "\n",
    "Y = 100\n",
    "import numpy as np\n",
    "Y = np.log1p(Y)\n",
    "print(\"Y: \", Y)\n",
    "back = np.expm1(Y)\n",
    "print(\"back: \", back)"
   ]
  },
  {
   "cell_type": "markdown",
   "metadata": {
    "jupyter": {
     "source_hidden": true
    }
   },
   "source": [
    "## Ridge Regression"
   ]
  },
  {
   "cell_type": "code",
   "execution_count": 2,
   "metadata": {},
   "outputs": [
    {
     "data": {
      "text/plain": [
       "Ridge(alpha=1.0, copy_X=True, fit_intercept=True, max_iter=None,\n",
       "      normalize=False, random_state=None, solver='auto', tol=0.001)"
      ]
     },
     "execution_count": 2,
     "metadata": {},
     "output_type": "execute_result"
    }
   ],
   "source": [
    "# make a prediction with a ridge regression model on the dataset\n",
    "from pandas import read_csv\n",
    "from sklearn.linear_model import Ridge\n",
    "# load the dataset\n",
    "url = 'https://raw.githubusercontent.com/jbrownlee/Datasets/master/housing.csv'\n",
    "dataframe = read_csv(url, header=None)\n",
    "data = dataframe.values\n",
    "X, y = data[:, :-1], data[:, -1]\n",
    "# define model\n",
    "model = Ridge(alpha=1.0)\n",
    "# fit model\n",
    "model.fit(X, y)\n"
   ]
  },
  {
   "cell_type": "code",
   "execution_count": 13,
   "metadata": {},
   "outputs": [
    {
     "name": "stdout",
     "output_type": "stream",
     "text": [
      "(506, 13)\n",
      "13\n"
     ]
    }
   ],
   "source": [
    "print(X.shape)\n",
    "row = [0.00632,18.00,2.310,0,0.5380,6.5750,65.20,4.0900,1,296.0,15.30,396.90,4.98]\n",
    "print(len(row))\n",
    "row2 = X[0:1].tolist()"
   ]
  },
  {
   "cell_type": "code",
   "execution_count": 14,
   "metadata": {},
   "outputs": [
    {
     "name": "stdout",
     "output_type": "stream",
     "text": [
      "Predicted: 30.253\n"
     ]
    }
   ],
   "source": [
    "# define new data\n",
    "\n",
    "# make a prediction\n",
    "# yhat = model.predict([row])\n",
    "# yhat = model.predict([row2])\n",
    "yhat = model.predict(row2)\n",
    "# summarize prediction\n",
    "print('Predicted: %.3f' % yhat)"
   ]
  },
  {
   "cell_type": "code",
   "execution_count": null,
   "metadata": {},
   "outputs": [],
   "source": []
  }
 ],
 "metadata": {
  "kernelspec": {
   "display_name": "conda_python3",
   "language": "python",
   "name": "conda_python3"
  },
  "language_info": {
   "codemirror_mode": {
    "name": "ipython",
    "version": 3
   },
   "file_extension": ".py",
   "mimetype": "text/x-python",
   "name": "python",
   "nbconvert_exporter": "python",
   "pygments_lexer": "ipython3",
   "version": "3.6.10"
  }
 },
 "nbformat": 4,
 "nbformat_minor": 4
}

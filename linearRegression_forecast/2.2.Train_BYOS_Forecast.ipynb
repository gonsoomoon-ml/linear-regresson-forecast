{
 "cells": [
  {
   "cell_type": "markdown",
   "metadata": {},
   "source": [
    "## [모듈 2.1] 사용자 정의 스크립트 (Bring Your Own Script) 로 모델 훈련\n",
    "Using Scikit-learn with the SageMaker Python SDK\n",
    "- https://sagemaker.readthedocs.io/en/stable/frameworks/sklearn/using_sklearn.html\n",
    "\n",
    "Iris Training and Prediction with Sagemaker Scikit-learn\n",
    "- https://github.com/aws/amazon-sagemaker-examples/blob/master/sagemaker-python-sdk/scikit_learn_iris/scikit_learn_estimator_example_with_batch_transform.ipynb"
   ]
  },
  {
   "cell_type": "code",
   "execution_count": 1,
   "metadata": {},
   "outputs": [],
   "source": [
    "import pandas as pd\n",
    "import os\n",
    "import matplotlib.pyplot as plt\n",
    "import numpy as np\n"
   ]
  },
  {
   "cell_type": "markdown",
   "metadata": {
    "nbpresent": {
     "id": "142777ae-c072-448e-b941-72bc75735d01"
    }
   },
   "source": [
    "---\n",
    "## Data 다운로드 및 로딩\n",
    "\n",
    "데이터에 대한 자세한 정보는 여기를 참조 하세요. [here](https://rdrr.io/github/robjhyndman/fpp/man/gasoline.html)\n"
   ]
  },
  {
   "cell_type": "code",
   "execution_count": 2,
   "metadata": {
    "nbpresent": {
     "id": "78105bc7-ce5d-4003-84f6-4dc5700c5945"
    }
   },
   "outputs": [],
   "source": [
    "# !wget http://robjhyndman.com/data/gasoline.csv"
   ]
  },
  {
   "cell_type": "code",
   "execution_count": 3,
   "metadata": {
    "nbpresent": {
     "id": "f8976dad-6897-4c7e-8c95-ae2f53070ef5"
    }
   },
   "outputs": [
    {
     "data": {
      "text/html": [
       "<div>\n",
       "<style scoped>\n",
       "    .dataframe tbody tr th:only-of-type {\n",
       "        vertical-align: middle;\n",
       "    }\n",
       "\n",
       "    .dataframe tbody tr th {\n",
       "        vertical-align: top;\n",
       "    }\n",
       "\n",
       "    .dataframe thead th {\n",
       "        text-align: right;\n",
       "    }\n",
       "</style>\n",
       "<table border=\"1\" class=\"dataframe\">\n",
       "  <thead>\n",
       "    <tr style=\"text-align: right;\">\n",
       "      <th></th>\n",
       "      <th>thousands_barrels</th>\n",
       "    </tr>\n",
       "  </thead>\n",
       "  <tbody>\n",
       "    <tr>\n",
       "      <th>0</th>\n",
       "      <td>6621.0</td>\n",
       "    </tr>\n",
       "    <tr>\n",
       "      <th>1</th>\n",
       "      <td>6433.0</td>\n",
       "    </tr>\n",
       "    <tr>\n",
       "      <th>2</th>\n",
       "      <td>6582.0</td>\n",
       "    </tr>\n",
       "    <tr>\n",
       "      <th>3</th>\n",
       "      <td>7224.0</td>\n",
       "    </tr>\n",
       "    <tr>\n",
       "      <th>4</th>\n",
       "      <td>6875.0</td>\n",
       "    </tr>\n",
       "  </tbody>\n",
       "</table>\n",
       "</div>"
      ],
      "text/plain": [
       "   thousands_barrels\n",
       "0             6621.0\n",
       "1             6433.0\n",
       "2             6582.0\n",
       "3             7224.0\n",
       "4             6875.0"
      ]
     },
     "metadata": {},
     "output_type": "display_data"
    },
    {
     "data": {
      "image/png": "[encoded data removed]",
      "text/plain": [
       "<Figure size 432x288 with 1 Axes>"
      ]
     },
     "metadata": {
      "needs_background": "light"
     },
     "output_type": "display_data"
    }
   ],
   "source": [
    "raw_gas = pd.read_csv('gasoline.csv', header=None, names=['thousands_barrels'])\n",
    "display(raw_gas.head())\n",
    "plt.plot(raw_gas)\n",
    "plt.show()"
   ]
  },
  {
   "cell_type": "markdown",
   "metadata": {},
   "source": [
    "## 피쳐 엔지니어링"
   ]
  },
  {
   "cell_type": "code",
   "execution_count": 4,
   "metadata": {
    "nbpresent": {
     "id": "6af8d66e-2ef6-4e8d-bb23-d2bd3dbb0b20"
    }
   },
   "outputs": [],
   "source": [
    "def make_feature_engineering(gas):\n",
    "    gas['thousands_barrels_lag1'] = gas['thousands_barrels'].shift(1)\n",
    "    gas['thousands_barrels_lag2'] = gas['thousands_barrels'].shift(2)\n",
    "    gas['thousands_barrels_lag3'] = gas['thousands_barrels'].shift(3)\n",
    "    gas['thousands_barrels_lag4'] = gas['thousands_barrels'].shift(4)\n",
    "    gas['trend'] = np.arange(len(gas))\n",
    "    gas['log_trend'] = np.log1p(np.arange(len(gas)))\n",
    "    gas['sq_trend'] = np.arange(len(gas)) ** 2\n",
    "    weeks = pd.get_dummies(np.array(list(range(52)) * 15)[:len(gas)], prefix='week')\n",
    "    gas = pd.concat([gas, weeks], axis=1)\n",
    "    \n",
    "    return gas\n",
    "\n",
    "gas = make_feature_engineering(raw_gas)"
   ]
  },
  {
   "cell_type": "markdown",
   "metadata": {},
   "source": [
    "## 훈련, 검증, 테스트 데이터 세트로 분리"
   ]
  },
  {
   "cell_type": "code",
   "execution_count": 5,
   "metadata": {},
   "outputs": [],
   "source": [
    "train_border=0.6\n",
    "test_border=0.8\n",
    "n_lags = 4 ; label = 'thousands_barrels'   \n",
    "gas = gas.iloc[n_lags:, ]\n",
    "split_train = int(len(gas) * train_border)\n",
    "split_test = int(len(gas) * test_border)\n",
    "\n",
    "train = gas[:split_train]\n",
    "val = gas[split_train:split_test]\n",
    "test = gas[split_test:]\n",
    "# train_X = gas.drop(label, axis=1).iloc[:split_train, ].to_numpy()\n",
    "# validation_y = gas[label][split_train:split_test]\n",
    "# validation_X = gas.drop(label, axis=1).iloc[split_train:split_test, ].to_numpy()\n",
    "# test_y = gas[label][split_test:]\n",
    "\n",
    "# train_y = gas[label][:split_train]\n",
    "# train_X = gas.drop(label, axis=1).iloc[:split_train, ].to_numpy()\n",
    "# validation_y = gas[label][split_train:split_test]\n",
    "# validation_X = gas.drop(label, axis=1).iloc[split_train:split_test, ].to_numpy()\n",
    "test_y = gas[label][split_test:]\n",
    "test_X = gas.drop(label, axis=1).iloc[split_test:, ].to_numpy()\n"
   ]
  },
  {
   "cell_type": "code",
   "execution_count": 6,
   "metadata": {},
   "outputs": [
    {
     "name": "stdout",
     "output_type": "stream",
     "text": [
      "test_X:  (149, 59)\n",
      "(444, 60)\n"
     ]
    },
    {
     "data": {
      "text/html": [
       "<div>\n",
       "<style scoped>\n",
       "    .dataframe tbody tr th:only-of-type {\n",
       "        vertical-align: middle;\n",
       "    }\n",
       "\n",
       "    .dataframe tbody tr th {\n",
       "        vertical-align: top;\n",
       "    }\n",
       "\n",
       "    .dataframe thead th {\n",
       "        text-align: right;\n",
       "    }\n",
       "</style>\n",
       "<table border=\"1\" class=\"dataframe\">\n",
       "  <thead>\n",
       "    <tr style=\"text-align: right;\">\n",
       "      <th></th>\n",
       "      <th>thousands_barrels</th>\n",
       "      <th>thousands_barrels_lag1</th>\n",
       "      <th>thousands_barrels_lag2</th>\n",
       "      <th>thousands_barrels_lag3</th>\n",
       "      <th>thousands_barrels_lag4</th>\n",
       "      <th>trend</th>\n",
       "      <th>log_trend</th>\n",
       "      <th>sq_trend</th>\n",
       "      <th>week_0</th>\n",
       "      <th>week_1</th>\n",
       "      <th>...</th>\n",
       "      <th>week_42</th>\n",
       "      <th>week_43</th>\n",
       "      <th>week_44</th>\n",
       "      <th>week_45</th>\n",
       "      <th>week_46</th>\n",
       "      <th>week_47</th>\n",
       "      <th>week_48</th>\n",
       "      <th>week_49</th>\n",
       "      <th>week_50</th>\n",
       "      <th>week_51</th>\n",
       "    </tr>\n",
       "  </thead>\n",
       "  <tbody>\n",
       "    <tr>\n",
       "      <th>4</th>\n",
       "      <td>6875.0</td>\n",
       "      <td>7224.0</td>\n",
       "      <td>6582.0</td>\n",
       "      <td>6433.0</td>\n",
       "      <td>6621.0</td>\n",
       "      <td>4</td>\n",
       "      <td>1.609438</td>\n",
       "      <td>16</td>\n",
       "      <td>0</td>\n",
       "      <td>0</td>\n",
       "      <td>...</td>\n",
       "      <td>0</td>\n",
       "      <td>0</td>\n",
       "      <td>0</td>\n",
       "      <td>0</td>\n",
       "      <td>0</td>\n",
       "      <td>0</td>\n",
       "      <td>0</td>\n",
       "      <td>0</td>\n",
       "      <td>0</td>\n",
       "      <td>0</td>\n",
       "    </tr>\n",
       "    <tr>\n",
       "      <th>5</th>\n",
       "      <td>6947.0</td>\n",
       "      <td>6875.0</td>\n",
       "      <td>7224.0</td>\n",
       "      <td>6582.0</td>\n",
       "      <td>6433.0</td>\n",
       "      <td>5</td>\n",
       "      <td>1.791759</td>\n",
       "      <td>25</td>\n",
       "      <td>0</td>\n",
       "      <td>0</td>\n",
       "      <td>...</td>\n",
       "      <td>0</td>\n",
       "      <td>0</td>\n",
       "      <td>0</td>\n",
       "      <td>0</td>\n",
       "      <td>0</td>\n",
       "      <td>0</td>\n",
       "      <td>0</td>\n",
       "      <td>0</td>\n",
       "      <td>0</td>\n",
       "      <td>0</td>\n",
       "    </tr>\n",
       "  </tbody>\n",
       "</table>\n",
       "<p>2 rows × 60 columns</p>\n",
       "</div>"
      ],
      "text/plain": [
       "   thousands_barrels  thousands_barrels_lag1  thousands_barrels_lag2  \\\n",
       "4             6875.0                  7224.0                  6582.0   \n",
       "5             6947.0                  6875.0                  7224.0   \n",
       "\n",
       "   thousands_barrels_lag3  thousands_barrels_lag4  trend  log_trend  sq_trend  \\\n",
       "4                  6433.0                  6621.0      4   1.609438        16   \n",
       "5                  6582.0                  6433.0      5   1.791759        25   \n",
       "\n",
       "   week_0  week_1  ...  week_42  week_43  week_44  week_45  week_46  week_47  \\\n",
       "4       0       0  ...        0        0        0        0        0        0   \n",
       "5       0       0  ...        0        0        0        0        0        0   \n",
       "\n",
       "   week_48  week_49  week_50  week_51  \n",
       "4        0        0        0        0  \n",
       "5        0        0        0        0  \n",
       "\n",
       "[2 rows x 60 columns]"
      ]
     },
     "execution_count": 6,
     "metadata": {},
     "output_type": "execute_result"
    }
   ],
   "source": [
    "print(\"test_X: \", test_X.shape)\n",
    "print(train.shape)\n",
    "train.head(2)"
   ]
  },
  {
   "cell_type": "markdown",
   "metadata": {},
   "source": [
    "### 데이터 파일을 로컬 및 S3에 업로드"
   ]
  },
  {
   "cell_type": "code",
   "execution_count": 7,
   "metadata": {},
   "outputs": [
    {
     "name": "stdout",
     "output_type": "stream",
     "text": [
      "fe_data/train/train.csv is saved\n",
      "fe_data/val/val.csv is saved\n",
      "fe_data/test/test.csv is saved\n",
      "s3_path:  s3://sagemaker-ap-northeast-2-057716757052/demandforecasting/fe_data/train/train.csv\n",
      "s3_path:  s3://sagemaker-ap-northeast-2-057716757052/demandforecasting/fe_data/val/val.csv\n",
      "s3_path:  s3://sagemaker-ap-northeast-2-057716757052/demandforecasting/fe_data/test/test.csv\n"
     ]
    }
   ],
   "source": [
    "import sagemaker \n",
    "\n",
    "def save_local(df,dir, file_name ):\n",
    "    os.makedirs(dir, exist_ok=True)\n",
    "    file_name_path = os.path.join(dir, file_name)\n",
    "    df.to_csv(file_name_path, index=False,  header=None, float_format='%.3f')\n",
    "    print(f'{file_name_path} is saved')\n",
    "    \n",
    "    return file_name_path\n",
    "\n",
    "# S3 prefix\n",
    "prefix = 'Scikit-byos'\n",
    "train_dir = 'fe_data/train'\n",
    "train_file_path = save_local(train,dir=train_dir, file_name='train.csv' )\n",
    "\n",
    "val_dir = 'fe_data/val'\n",
    "val_file_path = save_local(val,dir=val_dir, file_name='val.csv' )\n",
    "\n",
    "test_dir = 'fe_data/test'\n",
    "test_file_path = save_local(test, dir=test_dir, file_name='test.csv' )\n",
    "\n",
    "\n",
    "from p_utils import upload_s3\n",
    "    \n",
    "bucket = sagemaker.Session().default_bucket()\n",
    "prefix = 'demandforecasting'\n",
    "train_file_name = 'test/train/train.csv'\n",
    "s3_train_path = upload_s3(bucket, train_file_path, prefix)\n",
    "s3_val_path = upload_s3(bucket, val_file_path, prefix)\n",
    "s3_test_path = upload_s3(bucket, test_file_path, prefix)\n"
   ]
  },
  {
   "cell_type": "markdown",
   "metadata": {},
   "source": [
    "## 모델 훈련"
   ]
  },
  {
   "cell_type": "code",
   "execution_count": 8,
   "metadata": {},
   "outputs": [],
   "source": [
    "# instance_type = 'local'\n",
    "instance_type=\"ml.c4.xlarge\""
   ]
  },
  {
   "cell_type": "code",
   "execution_count": 9,
   "metadata": {},
   "outputs": [],
   "source": [
    "from sagemaker import local\n",
    "\n",
    "if instance_type == 'local':\n",
    "    sess = local.LocalSession()\n",
    "else:\n",
    "    sess = sagemaker.Session()"
   ]
  },
  {
   "cell_type": "code",
   "execution_count": 10,
   "metadata": {},
   "outputs": [],
   "source": [
    "from sagemaker import get_execution_role\n",
    "\n",
    "# Get a SageMaker-compatible role used by this Notebook Instance.\n",
    "role = get_execution_role()\n",
    "from sagemaker.sklearn.estimator import SKLearn\n",
    "\n",
    "FRAMEWORK_VERSION = \"0.23-1\"\n",
    "script_path = 'src/train.py'\n",
    "\n",
    "\n",
    "sklearn_estimator = SKLearn(\n",
    "    entry_point=script_path,\n",
    "    framework_version=FRAMEWORK_VERSION,\n",
    "    instance_type= instance_type,\n",
    "    role=role,\n",
    "    sagemaker_session= sess,\n",
    "    # bhyperparameters={'max_leaf_nodes': 30}\n",
    ")"
   ]
  },
  {
   "cell_type": "code",
   "execution_count": 11,
   "metadata": {},
   "outputs": [
    {
     "name": "stdout",
     "output_type": "stream",
     "text": [
      "\n",
      "2020-12-03 13:18:40 Starting - Starting the training job\n",
      "2020-12-03 13:18:42 Starting - Launching requested ML instances............\n",
      "2020-12-03 13:19:50 Starting - Preparing the instances for training..........................\n",
      "2020-12-03 13:22:04 Downloading - Downloading input data......\n",
      "2020-12-03 13:22:38 Training - Downloading the training image.\n",
      "2020-12-03 13:22:52 Training - Training image download completed. Training in progress...\n",
      "2020-12-03 13:23:02 Uploading - Uploading generated training model\n",
      "2020-12-03 13:23:09 Completed - Training job completed\n"
     ]
    }
   ],
   "source": [
    "%%time\n",
    "sklearn_estimator.fit({'train': s3_train_path}, logs=False)"
   ]
  },
  {
   "cell_type": "markdown",
   "metadata": {},
   "source": [
    "## 모델 아티팩트 얻기"
   ]
  },
  {
   "cell_type": "code",
   "execution_count": 12,
   "metadata": {},
   "outputs": [],
   "source": [
    "local_model_dir = 'model'\n",
    "os.makedirs(local_model_dir, exist_ok=True)\n",
    "s3_model_dir = sklearn_estimator.model_data"
   ]
  },
  {
   "cell_type": "code",
   "execution_count": 13,
   "metadata": {},
   "outputs": [
    {
     "name": "stdout",
     "output_type": "stream",
     "text": [
      "download: s3://sagemaker-ap-northeast-2-057716757052/sagemaker-scikit-learn-2020-12-03-13-18-40-289/output/model.tar.gz to model/model.tar.gz\n"
     ]
    }
   ],
   "source": [
    "!aws s3 cp {s3_model_dir} {local_model_dir}/model.tar.gz\n",
    "!tar -xzf {local_model_dir}/model.tar.gz -C {local_model_dir}"
   ]
  },
  {
   "cell_type": "code",
   "execution_count": 14,
   "metadata": {},
   "outputs": [
    {
     "name": "stdout",
     "output_type": "stream",
     "text": [
      "Stored 's3_model_dir' (str)\n",
      "Stored 'test_file_path' (str)\n",
      "Stored 'local_model_dir' (str)\n"
     ]
    }
   ],
   "source": [
    "# local_model_path = os.path.join(local_model_dir, 'model.joblib')\n",
    "%store s3_model_dir\n",
    "%store test_file_path\n",
    "%store local_model_dir"
   ]
  },
  {
   "cell_type": "code",
   "execution_count": null,
   "metadata": {},
   "outputs": [],
   "source": []
  }
 ],
 "metadata": {
  "kernelspec": {
   "display_name": "conda_python3",
   "language": "python",
   "name": "conda_python3"
  },
  "language_info": {
   "codemirror_mode": {
    "name": "ipython",
    "version": 3
   },
   "file_extension": ".py",
   "mimetype": "text/x-python",
   "name": "python",
   "nbconvert_exporter": "python",
   "pygments_lexer": "ipython3",
   "version": "3.6.10"
  }
 },
 "nbformat": 4,
 "nbformat_minor": 4
}

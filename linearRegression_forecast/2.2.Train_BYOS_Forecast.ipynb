{
 "cells": [
  {
   "cell_type": "markdown",
   "metadata": {},
   "source": [
    "## [모듈 2.2] 사용자 정의 스크립트 (Bring Your Own Script) 로 모델 훈련\n",
    "\n",
    "이 노트북은 아래와 같은 작업을 합니다.\n",
    "- 데이터 다운로드 및 로딩\n",
    "- 피쳐 엔지니어링\n",
    "- 훈련, 테스트 데이터 세트로 분리\n",
    "- 데이터 파일을 로컬 및 S3에 저장\n",
    "- 모델 훈련 위한 훈련 모드 파라미터 조정. \n",
    "    - **[중요] 아래 두가지 모드를 (1) 로컬 모드, (2) 클라우드 모드 로 순서대로 하세요. 해당 부분을 주석 표시하시면서 하시면 됩니다.**\n",
    "    - 로컬 모드 선택시 로컬 노트북 인스턴스에서 훈련\n",
    "    - 클라우드 모드 선택시 클라우드 인스턴스에서 훈련\n",
    "- SK Learn Estimator 생성\n",
    "- 훈련 코드 설명 (src/train.py)\n",
    "- 모델 아티펙트 얻기\n",
    "\n",
    "이 노트북의 주요한 내용 및 예제 코드는 아래를 참조 하세요.\n",
    "\n",
    "Using Scikit-learn with the SageMaker Python SDK\n",
    "- https://sagemaker.readthedocs.io/en/stable/frameworks/sklearn/using_sklearn.html\n",
    "\n",
    "Iris Training and Prediction with Sagemaker Scikit-learn\n",
    "- https://github.com/aws/amazon-sagemaker-examples/blob/master/sagemaker-python-sdk/scikit_learn_iris/scikit_learn_estimator_example_with_batch_transform.ipynb"
   ]
  },
  {
   "cell_type": "code",
   "execution_count": 29,
   "metadata": {},
   "outputs": [],
   "source": [
    "import pandas as pd\n",
    "import os\n",
    "import matplotlib.pyplot as plt\n",
    "import numpy as np\n"
   ]
  },
  {
   "cell_type": "markdown",
   "metadata": {
    "nbpresent": {
     "id": "142777ae-c072-448e-b941-72bc75735d01"
    }
   },
   "source": [
    "---\n",
    "## Data 다운로드 및 로딩\n",
    "\n",
    "데이터에 대한 자세한 정보는 여기를 참조 하세요. [here](https://rdrr.io/github/robjhyndman/fpp/man/gasoline.html)\n"
   ]
  },
  {
   "cell_type": "code",
   "execution_count": 30,
   "metadata": {
    "nbpresent": {
     "id": "78105bc7-ce5d-4003-84f6-4dc5700c5945"
    }
   },
   "outputs": [],
   "source": [
    "# !wget http://robjhyndman.com/data/gasoline.csv"
   ]
  },
  {
   "cell_type": "code",
   "execution_count": 31,
   "metadata": {
    "nbpresent": {
     "id": "f8976dad-6897-4c7e-8c95-ae2f53070ef5"
    }
   },
   "outputs": [
    {
     "data": {
      "text/html": [
       "<div>\n",
       "<style scoped>\n",
       "    .dataframe tbody tr th:only-of-type {\n",
       "        vertical-align: middle;\n",
       "    }\n",
       "\n",
       "    .dataframe tbody tr th {\n",
       "        vertical-align: top;\n",
       "    }\n",
       "\n",
       "    .dataframe thead th {\n",
       "        text-align: right;\n",
       "    }\n",
       "</style>\n",
       "<table border=\"1\" class=\"dataframe\">\n",
       "  <thead>\n",
       "    <tr style=\"text-align: right;\">\n",
       "      <th></th>\n",
       "      <th>thousands_barrels</th>\n",
       "    </tr>\n",
       "  </thead>\n",
       "  <tbody>\n",
       "    <tr>\n",
       "      <th>0</th>\n",
       "      <td>6621.0</td>\n",
       "    </tr>\n",
       "    <tr>\n",
       "      <th>1</th>\n",
       "      <td>6433.0</td>\n",
       "    </tr>\n",
       "    <tr>\n",
       "      <th>2</th>\n",
       "      <td>6582.0</td>\n",
       "    </tr>\n",
       "    <tr>\n",
       "      <th>3</th>\n",
       "      <td>7224.0</td>\n",
       "    </tr>\n",
       "    <tr>\n",
       "      <th>4</th>\n",
       "      <td>6875.0</td>\n",
       "    </tr>\n",
       "  </tbody>\n",
       "</table>\n",
       "</div>"
      ],
      "text/plain": [
       "   thousands_barrels\n",
       "0             6621.0\n",
       "1             6433.0\n",
       "2             6582.0\n",
       "3             7224.0\n",
       "4             6875.0"
      ]
     },
     "metadata": {},
     "output_type": "display_data"
    },
    {
     "data": {
      "image/png": "[encoded data removed]",
      "text/plain": [
       "<Figure size 432x288 with 1 Axes>"
      ]
     },
     "metadata": {
      "needs_background": "light"
     },
     "output_type": "display_data"
    }
   ],
   "source": [
    "raw_gas = pd.read_csv('gasoline.csv', header=None, names=['thousands_barrels'])\n",
    "display(raw_gas.head())\n",
    "plt.plot(raw_gas)\n",
    "plt.show()"
   ]
  },
  {
   "cell_type": "markdown",
   "metadata": {},
   "source": [
    "## 피쳐 엔지니어링"
   ]
  },
  {
   "cell_type": "code",
   "execution_count": 32,
   "metadata": {
    "nbpresent": {
     "id": "6af8d66e-2ef6-4e8d-bb23-d2bd3dbb0b20"
    }
   },
   "outputs": [],
   "source": [
    "def make_feature_engineering(gas):\n",
    "    gas['thousands_barrels_lag1'] = gas['thousands_barrels'].shift(1)\n",
    "    gas['thousands_barrels_lag2'] = gas['thousands_barrels'].shift(2)\n",
    "    gas['thousands_barrels_lag3'] = gas['thousands_barrels'].shift(3)\n",
    "    gas['thousands_barrels_lag4'] = gas['thousands_barrels'].shift(4)\n",
    "    gas['trend'] = np.arange(len(gas))\n",
    "    gas['log_trend'] = np.log1p(np.arange(len(gas)))\n",
    "    gas['sq_trend'] = np.arange(len(gas)) ** 2\n",
    "    weeks = pd.get_dummies(np.array(list(range(52)) * 15)[:len(gas)], prefix='week')\n",
    "    gas = pd.concat([gas, weeks], axis=1)\n",
    "    \n",
    "    return gas\n",
    "\n",
    "gas = make_feature_engineering(raw_gas)"
   ]
  },
  {
   "cell_type": "markdown",
   "metadata": {},
   "source": [
    "## 훈련, 테스트 데이터 세트로 분리"
   ]
  },
  {
   "cell_type": "markdown",
   "metadata": {
    "nbpresent": {
     "id": "1c77ea86-256b-4601-a5d5-2f875c0649c9"
    }
   },
   "source": [
    "데이터 분리:\n",
    "- 최근 4주의 데이터를 설명 변수로 만들었기에, 최초 4개의 레코드는 삭제 합니다. (왜냐하면 4개의 설명 변수가 하나 이상은 NULL 이이서 입니다.)\n",
    "- 데이터를 8:2 비율로 훈련, 테스트 데이터로 분리 합니다.\n",
    "- 테스트 데이터에 대해서 타겟 변수를 설명 변수와 분리 합니다. \n"
   ]
  },
  {
   "cell_type": "markdown",
   "metadata": {},
   "source": [
    "이전 노트북과의 차이점은 훈련에 사용을 할 데이터를 train_X, train_y로 구분하지 않고, 실제 훈련 코드(src/train.py) 에서 이를 분리 합니다."
   ]
  },
  {
   "cell_type": "code",
   "execution_count": 33,
   "metadata": {},
   "outputs": [],
   "source": [
    "test_border=0.8\n",
    "n_lags = 4 ; label = 'thousands_barrels'   \n",
    "gas = gas.iloc[n_lags:, ]\n",
    "# split_train = int(len(gas) * train_border)\n",
    "split_test = int(len(gas) * test_border)\n",
    "\n",
    "train = gas[:split_test]\n",
    "# val = gas[split_train:split_test]\n",
    "test = gas[split_test:]\n",
    "test_y = gas[label][split_test:]\n",
    "test_X = gas.drop(label, axis=1).iloc[split_test:, ].to_numpy()\n"
   ]
  },
  {
   "cell_type": "code",
   "execution_count": 34,
   "metadata": {},
   "outputs": [
    {
     "name": "stdout",
     "output_type": "stream",
     "text": [
      "(592, 60)\n",
      "(149, 59)\n",
      "(149,)\n"
     ]
    }
   ],
   "source": [
    "print(train.shape)\n",
    "print(test_X.shape)\n",
    "print(test_y.shape)\n"
   ]
  },
  {
   "cell_type": "markdown",
   "metadata": {},
   "source": [
    "### 데이터 파일을 로컬 및 S3에 업로드\n",
    "\n",
    "- 훈련에 필요한 데이터는 로컬모드시에 로컬/S3 에 있는 것을 모두 사용할 수 있습니다. \n",
    "- 클라우드 모드시에는 S3에 있는 데이터만 사용이 가능하므로 여기서는 로컬 및 S3에 모두 데이터를 저장 합니다."
   ]
  },
  {
   "cell_type": "code",
   "execution_count": 35,
   "metadata": {},
   "outputs": [
    {
     "name": "stdout",
     "output_type": "stream",
     "text": [
      "fe_data/train/train.csv is saved\n",
      "fe_data/test/test.csv is saved\n",
      "s3_path:  s3://sagemaker-ap-northeast-2-057716757052/demandforecasting/fe_data/train/train.csv\n",
      "s3_path:  s3://sagemaker-ap-northeast-2-057716757052/demandforecasting/fe_data/test/test.csv\n"
     ]
    }
   ],
   "source": [
    "import sagemaker \n",
    "\n",
    "# 로컬에 파일 저장\n",
    "def save_local(df,dir, file_name ):\n",
    "    os.makedirs(dir, exist_ok=True)\n",
    "    file_name_path = os.path.join(dir, file_name)\n",
    "    df.to_csv(file_name_path, index=False,  header=None, float_format='%.3f')\n",
    "    print(f'{file_name_path} is saved')\n",
    "    \n",
    "    return file_name_path\n",
    "\n",
    "train_dir = 'fe_data/train'\n",
    "train_file_path = save_local(train,dir=train_dir, file_name='train.csv' )\n",
    "\n",
    "test_dir = 'fe_data/test'\n",
    "test_file_path = save_local(test, dir=test_dir, file_name='test.csv' )\n",
    "\n",
    "# 로컬 파일을 S3에 업로드\n",
    "from p_utils import upload_s3\n",
    "\n",
    "# S3 prefix\n",
    "prefix = 'Scikit-byos'\n",
    "    \n",
    "bucket = sagemaker.Session().default_bucket()\n",
    "prefix = 'demandforecasting'\n",
    "train_file_name = 'test/train/train.csv'\n",
    "s3_train_path = upload_s3(bucket, train_file_path, prefix)\n",
    "s3_test_path = upload_s3(bucket, test_file_path, prefix)\n"
   ]
  },
  {
   "cell_type": "markdown",
   "metadata": {},
   "source": [
    "## 모델 훈련: 로컬 모드 파라미터\n",
    "**아래 instance_type 에 따라서 로컬 모드, 클라우드 모드로 제어 합니다.\n",
    "처음에는 로컬모드, 잘 동작하면 클라우드 모드로 바꾸어서 해보세요.**\n",
    "- 로컬 모드이면 세이지 메이커의 로컬 세션이 할당이 됩니다.\n",
    "    - 세이지 노트북 인스턴스에서 Docker Container가 생성이 되어서 훈련을 합니다.\n",
    "- 클라우드 모드이면 세이지 메이커에의 세션이 할당이 되어서, 클라우드에 훈련이 진행 됩니다.\n",
    "    - 클라우드 상에서 EC2 인스턴스가 생성이 되고, 이 EC2안에서 Docker Container가 생성이 되어서 훈련 합니다."
   ]
  },
  {
   "cell_type": "code",
   "execution_count": 36,
   "metadata": {},
   "outputs": [],
   "source": [
    "instance_type = 'local'\n",
    "# instance_type=\"ml.c4.xlarge\""
   ]
  },
  {
   "cell_type": "code",
   "execution_count": 37,
   "metadata": {},
   "outputs": [],
   "source": [
    "from sagemaker import local\n",
    "\n",
    "if instance_type == 'local':\n",
    "    sess = local.LocalSession()\n",
    "else:\n",
    "    sess = sagemaker.Session()"
   ]
  },
  {
   "cell_type": "markdown",
   "metadata": {},
   "source": [
    "### SK Learn의 Estimator 오브젝트를 생성\n",
    "\n",
    "아래는 SageMaker 의 SK Learn의 Estimator 오브젝트를 생성합니다. 자세한 내용은 아래 문서를 참조 히세요. [Using Scikit-learn with the SageMaker Python SDK](https://sagemaker.readthedocs.io/en/stable/frameworks/sklearn/using_sklearn.html)\n",
    "\n",
    "아래  SK Learn의 Estimator 생성자에 들어가는 인자의 설명 합니다.\n",
    "- entry_point: 훈련 코드가 저장되어 있는 경로 입니다.이 훈련 코드는  모델을 정의하고, 모델을 훈련을 하는 스크립트 입니다.    \n",
    "- framework_version: SK Learn의 버전입니다.\n",
    "- instance_type: 어떤 인스턴스 타입을 사용할지를 결정 합니다.\n",
    "- role: 세이지 메이커가 훈련을 하면서 S3 같은 서비스에 접근할때 사용하는 역할 입니다. 만약에 role이 S3 에 접근 권한이 없으면 에러가 발생합니다.\n",
    "- sagemaker_session: 로컬 모드인지, 클라우드 모드인지를 결정 합니다.\n",
    "- hyperparameters: 필요한 하이퍼 파리미터의 값을 전달하여 훈련 코드에서 사용 합니다,    \n",
    "\n",
    "- fit(): 실제로 훈련을 실행하는 함수 입니다. 인자로서 훈련에 사용되는 데이터가 인자로 사용이 됩니다. logs 는 클라우드로 훈련시에 노트북에 로그를 보이지 말라는 의미 입니다.\n",
    "\n"
   ]
  },
  {
   "cell_type": "markdown",
   "metadata": {},
   "source": [
    "### 훈련 코드 설명 src/train.py\n",
    "세이지 메이커의 파이썬 사용자 정의 스크립트 방식을 이용하기 위해서는 반드시 아래 구문이 필요 합니다\n",
    "**실제로 train.py를 작성시에는 아래의 코드 템플릿을 사용하시고, 로컬 모드로 실행하여 코드를 완성하신 후에 클라우드 모드에서 최종 훈련 하세요.**\n",
    "```python\n",
    "if __name__ == '__main__':\n",
    "    args = parse_args()  # 파라미터 얻음  \n",
    "```    \n",
    "아래의 코드의 주석을 참조 하세요.\n",
    "\n",
    "```python\n",
    "def parse_args():   \n",
    "    '''\n",
    "    커맨드 인자로 넘어온 정보를 파싱한다.\n",
    "    아래 args를 파싱한 결과는 아래와 같습니다.\n",
    "    args:  Namespace(alpha=1.5,\n",
    "    model_dir='/opt/ml/model',train='/opt/ml/input/data/train')\n",
    "    '''\n",
    "    parser = argparse.ArgumentParser()\n",
    "\n",
    "    # Hyperparameters 의 데이터를 파싱하여 args 오브젝트에 저장 합니다.\n",
    "    parser.add_argument('--alpha', type=float, default=3)\n",
    "\n",
    "    # 모델은 훈련후에 model_dir='/opt/ml/model' 로 저장이 됩니다. 이후에 자동으로 S3에 업로드가 됩니다.\n",
    "    parser.add_argument('--model-dir', type=str, default=os.environ['SM_MODEL_DIR'])\n",
    "    \n",
    "    # sklearn_estimator.fit({'train': s3_train_path}, logs=False) 에서 기술한\n",
    "    # 입력 데이터는 S3로 부터 train='/opt/ml/input/data/train' 경로로 다운로드 됩니다.\n",
    "    # 이후에 이 로컬 경로에서 데이터를 가져와서 훈련을 합니다.\n",
    "    parser.add_argument('--train', type=str, default=os.environ['SM_CHANNEL_TRAIN'])\n",
    "\n",
    "    args = parser.parse_args()\n",
    "    print(\"args: \", args)\n",
    "    \n",
    "    return args\n",
    "\n",
    "if __name__ == '__main__':\n",
    "    args = parse_args()  # 파라미터 얻음  \n",
    "    train_y, train_X = handle_input_data(args) # 훈련 데이터를 traiy_y, train_X 로 분리 합니다.\n",
    "    \n",
    "    ridge_model = train(args, train_X, train_y, model=\"ridge\") # 데이터를 가지고 훈련 합니다.\n",
    "    model_name = 'model.joblib' #저장할 모델 이름 입니다.\n",
    "    save_model(ridge_model, args.model_dir, model_name) #args.model_dir 에 명시된 경로에 모델 저장\n",
    "\n",
    "\n",
    "```\n",
    "\n"
   ]
  },
  {
   "cell_type": "code",
   "execution_count": 38,
   "metadata": {},
   "outputs": [],
   "source": [
    "from sagemaker import get_execution_role\n",
    "\n",
    "# Get a SageMaker-compatible role used by this Notebook Instance.\n",
    "role = get_execution_role()\n",
    "from sagemaker.sklearn.estimator import SKLearn\n",
    "\n",
    "FRAMEWORK_VERSION = \"0.23-1\"\n",
    "script_path = 'src/train.py'\n",
    "\n",
    "\n",
    "sklearn_estimator = SKLearn(\n",
    "    entry_point=script_path,\n",
    "    framework_version=FRAMEWORK_VERSION,\n",
    "    instance_type= instance_type,\n",
    "    role=role,\n",
    "    sagemaker_session= sess,\n",
    "    hyperparameters={'alpha': 1.5}\n",
    ")"
   ]
  },
  {
   "cell_type": "code",
   "execution_count": 39,
   "metadata": {
    "collapsed": true,
    "jupyter": {
     "outputs_hidden": true
    }
   },
   "outputs": [
    {
     "name": "stdout",
     "output_type": "stream",
     "text": [
      "Creating tmprxx55wcz_algo-1-r9sb2_1 ... \n",
      "\u001b[1BAttaching to tmprxx55wcz_algo-1-r9sb2_12mdone\u001b[0m\n",
      "\u001b[36malgo-1-r9sb2_1  |\u001b[0m 2020-12-06 02:20:31,813 sagemaker-training-toolkit INFO     Imported framework sagemaker_sklearn_container.training\n",
      "\u001b[36malgo-1-r9sb2_1  |\u001b[0m 2020-12-06 02:20:31,816 sagemaker-training-toolkit INFO     No GPUs detected (normal if no gpus installed)\n",
      "\u001b[36malgo-1-r9sb2_1  |\u001b[0m 2020-12-06 02:20:31,823 sagemaker_sklearn_container.training INFO     Invoking user training script.\n",
      "\u001b[36malgo-1-r9sb2_1  |\u001b[0m 2020-12-06 02:20:32,975 sagemaker-training-toolkit INFO     No GPUs detected (normal if no gpus installed)\n",
      "\u001b[36malgo-1-r9sb2_1  |\u001b[0m 2020-12-06 02:20:32,987 sagemaker-training-toolkit INFO     No GPUs detected (normal if no gpus installed)\n",
      "\u001b[36malgo-1-r9sb2_1  |\u001b[0m 2020-12-06 02:20:32,996 sagemaker-training-toolkit INFO     No GPUs detected (normal if no gpus installed)\n",
      "\u001b[36malgo-1-r9sb2_1  |\u001b[0m 2020-12-06 02:20:33,003 sagemaker-training-toolkit INFO     Invoking user script\n",
      "\u001b[36malgo-1-r9sb2_1  |\u001b[0m \n",
      "\u001b[36malgo-1-r9sb2_1  |\u001b[0m Training Env:\n",
      "\u001b[36malgo-1-r9sb2_1  |\u001b[0m \n",
      "\u001b[36malgo-1-r9sb2_1  |\u001b[0m {\n",
      "\u001b[36malgo-1-r9sb2_1  |\u001b[0m     \"additional_framework_parameters\": {},\n",
      "\u001b[36malgo-1-r9sb2_1  |\u001b[0m     \"channel_input_dirs\": {\n",
      "\u001b[36malgo-1-r9sb2_1  |\u001b[0m         \"train\": \"/opt/ml/input/data/train\"\n",
      "\u001b[36malgo-1-r9sb2_1  |\u001b[0m     },\n",
      "\u001b[36malgo-1-r9sb2_1  |\u001b[0m     \"current_host\": \"algo-1-r9sb2\",\n",
      "\u001b[36malgo-1-r9sb2_1  |\u001b[0m     \"framework_module\": \"sagemaker_sklearn_container.training:main\",\n",
      "\u001b[36malgo-1-r9sb2_1  |\u001b[0m     \"hosts\": [\n",
      "\u001b[36malgo-1-r9sb2_1  |\u001b[0m         \"algo-1-r9sb2\"\n",
      "\u001b[36malgo-1-r9sb2_1  |\u001b[0m     ],\n",
      "\u001b[36malgo-1-r9sb2_1  |\u001b[0m     \"hyperparameters\": {\n",
      "\u001b[36malgo-1-r9sb2_1  |\u001b[0m         \"alpha\": 1.5\n",
      "\u001b[36malgo-1-r9sb2_1  |\u001b[0m     },\n",
      "\u001b[36malgo-1-r9sb2_1  |\u001b[0m     \"input_config_dir\": \"/opt/ml/input/config\",\n",
      "\u001b[36malgo-1-r9sb2_1  |\u001b[0m     \"input_data_config\": {\n",
      "\u001b[36malgo-1-r9sb2_1  |\u001b[0m         \"train\": {\n",
      "\u001b[36malgo-1-r9sb2_1  |\u001b[0m             \"TrainingInputMode\": \"File\"\n",
      "\u001b[36malgo-1-r9sb2_1  |\u001b[0m         }\n",
      "\u001b[36malgo-1-r9sb2_1  |\u001b[0m     },\n",
      "\u001b[36malgo-1-r9sb2_1  |\u001b[0m     \"input_dir\": \"/opt/ml/input\",\n",
      "\u001b[36malgo-1-r9sb2_1  |\u001b[0m     \"is_master\": true,\n",
      "\u001b[36malgo-1-r9sb2_1  |\u001b[0m     \"job_name\": \"sagemaker-scikit-learn-2020-12-06-02-20-27-949\",\n",
      "\u001b[36malgo-1-r9sb2_1  |\u001b[0m     \"log_level\": 20,\n",
      "\u001b[36malgo-1-r9sb2_1  |\u001b[0m     \"master_hostname\": \"algo-1-r9sb2\",\n",
      "\u001b[36malgo-1-r9sb2_1  |\u001b[0m     \"model_dir\": \"/opt/ml/model\",\n",
      "\u001b[36malgo-1-r9sb2_1  |\u001b[0m     \"module_dir\": \"s3://sagemaker-ap-northeast-2-057716757052/sagemaker-scikit-learn-2020-12-06-02-20-27-949/source/sourcedir.tar.gz\",\n",
      "\u001b[36malgo-1-r9sb2_1  |\u001b[0m     \"module_name\": \"train\",\n",
      "\u001b[36malgo-1-r9sb2_1  |\u001b[0m     \"network_interface_name\": \"eth0\",\n",
      "\u001b[36malgo-1-r9sb2_1  |\u001b[0m     \"num_cpus\": 72,\n",
      "\u001b[36malgo-1-r9sb2_1  |\u001b[0m     \"num_gpus\": 0,\n",
      "\u001b[36malgo-1-r9sb2_1  |\u001b[0m     \"output_data_dir\": \"/opt/ml/output/data\",\n",
      "\u001b[36malgo-1-r9sb2_1  |\u001b[0m     \"output_dir\": \"/opt/ml/output\",\n",
      "\u001b[36malgo-1-r9sb2_1  |\u001b[0m     \"output_intermediate_dir\": \"/opt/ml/output/intermediate\",\n",
      "\u001b[36malgo-1-r9sb2_1  |\u001b[0m     \"resource_config\": {\n",
      "\u001b[36malgo-1-r9sb2_1  |\u001b[0m         \"current_host\": \"algo-1-r9sb2\",\n",
      "\u001b[36malgo-1-r9sb2_1  |\u001b[0m         \"hosts\": [\n",
      "\u001b[36malgo-1-r9sb2_1  |\u001b[0m             \"algo-1-r9sb2\"\n",
      "\u001b[36malgo-1-r9sb2_1  |\u001b[0m         ]\n",
      "\u001b[36malgo-1-r9sb2_1  |\u001b[0m     },\n",
      "\u001b[36malgo-1-r9sb2_1  |\u001b[0m     \"user_entry_point\": \"train.py\"\n",
      "\u001b[36malgo-1-r9sb2_1  |\u001b[0m }\n",
      "\u001b[36malgo-1-r9sb2_1  |\u001b[0m \n",
      "\u001b[36malgo-1-r9sb2_1  |\u001b[0m Environment variables:\n",
      "\u001b[36malgo-1-r9sb2_1  |\u001b[0m \n",
      "\u001b[36malgo-1-r9sb2_1  |\u001b[0m SM_HOSTS=[\"algo-1-r9sb2\"]\n",
      "\u001b[36malgo-1-r9sb2_1  |\u001b[0m SM_NETWORK_INTERFACE_NAME=eth0\n",
      "\u001b[36malgo-1-r9sb2_1  |\u001b[0m SM_HPS={\"alpha\":1.5}\n",
      "\u001b[36malgo-1-r9sb2_1  |\u001b[0m SM_USER_ENTRY_POINT=train.py\n",
      "\u001b[36malgo-1-r9sb2_1  |\u001b[0m SM_FRAMEWORK_PARAMS={}\n",
      "\u001b[36malgo-1-r9sb2_1  |\u001b[0m SM_RESOURCE_CONFIG={\"current_host\":\"algo-1-r9sb2\",\"hosts\":[\"algo-1-r9sb2\"]}\n",
      "\u001b[36malgo-1-r9sb2_1  |\u001b[0m SM_INPUT_DATA_CONFIG={\"train\":{\"TrainingInputMode\":\"File\"}}\n",
      "\u001b[36malgo-1-r9sb2_1  |\u001b[0m SM_OUTPUT_DATA_DIR=/opt/ml/output/data\n",
      "\u001b[36malgo-1-r9sb2_1  |\u001b[0m SM_CHANNELS=[\"train\"]\n",
      "\u001b[36malgo-1-r9sb2_1  |\u001b[0m SM_CURRENT_HOST=algo-1-r9sb2\n",
      "\u001b[36malgo-1-r9sb2_1  |\u001b[0m SM_MODULE_NAME=train\n",
      "\u001b[36malgo-1-r9sb2_1  |\u001b[0m SM_LOG_LEVEL=20\n",
      "\u001b[36malgo-1-r9sb2_1  |\u001b[0m SM_FRAMEWORK_MODULE=sagemaker_sklearn_container.training:main\n",
      "\u001b[36malgo-1-r9sb2_1  |\u001b[0m SM_INPUT_DIR=/opt/ml/input\n",
      "\u001b[36malgo-1-r9sb2_1  |\u001b[0m SM_INPUT_CONFIG_DIR=/opt/ml/input/config\n",
      "\u001b[36malgo-1-r9sb2_1  |\u001b[0m SM_OUTPUT_DIR=/opt/ml/output\n",
      "\u001b[36malgo-1-r9sb2_1  |\u001b[0m SM_NUM_CPUS=72\n",
      "\u001b[36malgo-1-r9sb2_1  |\u001b[0m SM_NUM_GPUS=0\n",
      "\u001b[36malgo-1-r9sb2_1  |\u001b[0m SM_MODEL_DIR=/opt/ml/model\n",
      "\u001b[36malgo-1-r9sb2_1  |\u001b[0m SM_MODULE_DIR=s3://sagemaker-ap-northeast-2-057716757052/sagemaker-scikit-learn-2020-12-06-02-20-27-949/source/sourcedir.tar.gz\n",
      "\u001b[36malgo-1-r9sb2_1  |\u001b[0m SM_TRAINING_ENV={\"additional_framework_parameters\":{},\"channel_input_dirs\":{\"train\":\"/opt/ml/input/data/train\"},\"current_host\":\"algo-1-r9sb2\",\"framework_module\":\"sagemaker_sklearn_container.training:main\",\"hosts\":[\"algo-1-r9sb2\"],\"hyperparameters\":{\"alpha\":1.5},\"input_config_dir\":\"/opt/ml/input/config\",\"input_data_config\":{\"train\":{\"TrainingInputMode\":\"File\"}},\"input_dir\":\"/opt/ml/input\",\"is_master\":true,\"job_name\":\"sagemaker-scikit-learn-2020-12-06-02-20-27-949\",\"log_level\":20,\"master_hostname\":\"algo-1-r9sb2\",\"model_dir\":\"/opt/ml/model\",\"module_dir\":\"s3://sagemaker-ap-northeast-2-057716757052/sagemaker-scikit-learn-2020-12-06-02-20-27-949/source/sourcedir.tar.gz\",\"module_name\":\"train\",\"network_interface_name\":\"eth0\",\"num_cpus\":72,\"num_gpus\":0,\"output_data_dir\":\"/opt/ml/output/data\",\"output_dir\":\"/opt/ml/output\",\"output_intermediate_dir\":\"/opt/ml/output/intermediate\",\"resource_config\":{\"current_host\":\"algo-1-r9sb2\",\"hosts\":[\"algo-1-r9sb2\"]},\"user_entry_point\":\"train.py\"}\n",
      "\u001b[36malgo-1-r9sb2_1  |\u001b[0m SM_USER_ARGS=[\"--alpha\",\"1.5\"]\n",
      "\u001b[36malgo-1-r9sb2_1  |\u001b[0m SM_OUTPUT_INTERMEDIATE_DIR=/opt/ml/output/intermediate\n",
      "\u001b[36malgo-1-r9sb2_1  |\u001b[0m SM_CHANNEL_TRAIN=/opt/ml/input/data/train\n",
      "\u001b[36malgo-1-r9sb2_1  |\u001b[0m SM_HP_ALPHA=1.5\n",
      "\u001b[36malgo-1-r9sb2_1  |\u001b[0m PYTHONPATH=/opt/ml/code:/miniconda3/bin:/miniconda3/lib/python37.zip:/miniconda3/lib/python3.7:/miniconda3/lib/python3.7/lib-dynload:/miniconda3/lib/python3.7/site-packages\n",
      "\u001b[36malgo-1-r9sb2_1  |\u001b[0m \n",
      "\u001b[36malgo-1-r9sb2_1  |\u001b[0m Invoking script with the following command:\n",
      "\u001b[36malgo-1-r9sb2_1  |\u001b[0m \n",
      "\u001b[36malgo-1-r9sb2_1  |\u001b[0m /miniconda3/bin/python train.py --alpha 1.5\n",
      "\u001b[36malgo-1-r9sb2_1  |\u001b[0m \n",
      "\u001b[36malgo-1-r9sb2_1  |\u001b[0m \n",
      "\u001b[36malgo-1-r9sb2_1  |\u001b[0m args:  Namespace(alpha=1.5, model_dir='/opt/ml/model', train='/opt/ml/input/data/train')\n",
      "\u001b[36malgo-1-r9sb2_1  |\u001b[0m train_y:  (592,)\n",
      "\u001b[36malgo-1-r9sb2_1  |\u001b[0m train_X:  (592, 59)\n",
      "\u001b[36malgo-1-r9sb2_1  |\u001b[0m alpha value in train:  1.5\n",
      "\u001b[36malgo-1-r9sb2_1  |\u001b[0m Train Ridge model\n",
      "\u001b[36malgo-1-r9sb2_1  |\u001b[0m /opt/ml/model/model.joblib is saved\n",
      "\u001b[36malgo-1-r9sb2_1  |\u001b[0m 2020-12-06 02:20:33,637 sagemaker-training-toolkit INFO     Reporting training SUCCESS\n",
      "\u001b[36mtmprxx55wcz_algo-1-r9sb2_1 exited with code 0\n",
      "\u001b[0mAborting on container exit...\n",
      "===== Job Complete =====\n",
      ".\n",
      "CPU times: user 170 ms, sys: 18.9 ms, total: 189 ms\n",
      "Wall time: 6.25 s\n"
     ]
    }
   ],
   "source": [
    "%%time\n",
    "sklearn_estimator.fit({'train': s3_train_path}, logs=False)"
   ]
  },
  {
   "cell_type": "markdown",
   "metadata": {},
   "source": [
    "## 모델 아티팩트 얻기\n",
    "\n",
    "이 부분은 아래와 같은 작업을 합니다.\n",
    "\n",
    "- S3에 업로드된 모델 아티펙트를 다운로드 합니다. (예: s3://sagemaker-ap-northeast-2-057716757052/sagemaker-scikit-learn-2020-12-06-02-20-27-949/model.tar.gz to model/model.tar.gz)\n",
    "- 로컬에 다운로드된 모델 아티펙트를 압축 해제하여 모델 아티펙트를 얻습니다.\n",
    "- 이후 경로를 저장하여 다음 노트북에서 사용 합니다."
   ]
  },
  {
   "cell_type": "code",
   "execution_count": 40,
   "metadata": {},
   "outputs": [],
   "source": [
    "local_model_dir = 'model'\n",
    "os.makedirs(local_model_dir, exist_ok=True)\n",
    "s3_model_dir = sklearn_estimator.model_data"
   ]
  },
  {
   "cell_type": "code",
   "execution_count": 41,
   "metadata": {},
   "outputs": [
    {
     "name": "stdout",
     "output_type": "stream",
     "text": [
      "download: s3://sagemaker-ap-northeast-2-057716757052/sagemaker-scikit-learn-2020-12-06-02-20-27-949/model.tar.gz to model/model.tar.gz\n"
     ]
    }
   ],
   "source": [
    "!aws s3 cp {s3_model_dir} {local_model_dir}/model.tar.gz\n",
    "!tar -xzf {local_model_dir}/model.tar.gz -C {local_model_dir}"
   ]
  },
  {
   "cell_type": "code",
   "execution_count": 42,
   "metadata": {},
   "outputs": [
    {
     "name": "stdout",
     "output_type": "stream",
     "text": [
      "Stored 's3_model_dir' (str)\n",
      "Stored 'test_file_path' (str)\n",
      "Stored 'local_model_dir' (str)\n"
     ]
    }
   ],
   "source": [
    "# local_model_path = os.path.join(local_model_dir, 'model.joblib')\n",
    "%store s3_model_dir\n",
    "%store test_file_path\n",
    "%store local_model_dir"
   ]
  },
  {
   "cell_type": "code",
   "execution_count": null,
   "metadata": {},
   "outputs": [],
   "source": []
  }
 ],
 "metadata": {
  "kernelspec": {
   "display_name": "conda_python3",
   "language": "python",
   "name": "conda_python3"
  },
  "language_info": {
   "codemirror_mode": {
    "name": "ipython",
    "version": 3
   },
   "file_extension": ".py",
   "mimetype": "text/x-python",
   "name": "python",
   "nbconvert_exporter": "python",
   "pygments_lexer": "ipython3",
   "version": "3.6.10"
  }
 },
 "nbformat": 4,
 "nbformat_minor": 4
}

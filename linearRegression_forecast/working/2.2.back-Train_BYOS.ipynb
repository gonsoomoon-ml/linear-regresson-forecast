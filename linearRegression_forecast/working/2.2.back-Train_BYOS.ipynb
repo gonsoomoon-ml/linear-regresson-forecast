{
 "cells": [
  {
   "cell_type": "markdown",
   "metadata": {},
   "source": [
    "## [모듈 2.1] 사용자 정의 스크립트 (Bring Your Own Script) 로 모델 훈련\n",
    "Using Scikit-learn with the SageMaker Python SDK\n",
    "- https://sagemaker.readthedocs.io/en/stable/frameworks/sklearn/using_sklearn.html\n",
    "\n",
    "Iris Training and Prediction with Sagemaker Scikit-learn\n",
    "- https://github.com/aws/amazon-sagemaker-examples/blob/master/sagemaker-python-sdk/scikit_learn_iris/scikit_learn_estimator_example_with_batch_transform.ipynb"
   ]
  },
  {
   "cell_type": "code",
   "execution_count": 30,
   "metadata": {},
   "outputs": [],
   "source": [
    "import pandas as pd\n",
    "import os\n",
    "import matplotlib.pyplot as plt\n",
    "import numpy as np\n"
   ]
  },
  {
   "cell_type": "markdown",
   "metadata": {
    "nbpresent": {
     "id": "142777ae-c072-448e-b941-72bc75735d01"
    }
   },
   "source": [
    "---\n",
    "## Data 다운로드 및 로딩\n",
    "\n",
    "데이터에 대한 자세한 정보는 여기를 참조 하세요. [here](https://rdrr.io/github/robjhyndman/fpp/man/gasoline.html)\n"
   ]
  },
  {
   "cell_type": "code",
   "execution_count": 31,
   "metadata": {
    "nbpresent": {
     "id": "78105bc7-ce5d-4003-84f6-4dc5700c5945"
    }
   },
   "outputs": [],
   "source": [
    "# !wget http://robjhyndman.com/data/gasoline.csv"
   ]
  },
  {
   "cell_type": "code",
   "execution_count": 32,
   "metadata": {
    "nbpresent": {
     "id": "f8976dad-6897-4c7e-8c95-ae2f53070ef5"
    }
   },
   "outputs": [
    {
     "data": {
      "text/html": [
       "<div>\n",
       "<style scoped>\n",
       "    .dataframe tbody tr th:only-of-type {\n",
       "        vertical-align: middle;\n",
       "    }\n",
       "\n",
       "    .dataframe tbody tr th {\n",
       "        vertical-align: top;\n",
       "    }\n",
       "\n",
       "    .dataframe thead th {\n",
       "        text-align: right;\n",
       "    }\n",
       "</style>\n",
       "<table border=\"1\" class=\"dataframe\">\n",
       "  <thead>\n",
       "    <tr style=\"text-align: right;\">\n",
       "      <th></th>\n",
       "      <th>thousands_barrels</th>\n",
       "    </tr>\n",
       "  </thead>\n",
       "  <tbody>\n",
       "    <tr>\n",
       "      <th>0</th>\n",
       "      <td>6621.0</td>\n",
       "    </tr>\n",
       "    <tr>\n",
       "      <th>1</th>\n",
       "      <td>6433.0</td>\n",
       "    </tr>\n",
       "    <tr>\n",
       "      <th>2</th>\n",
       "      <td>6582.0</td>\n",
       "    </tr>\n",
       "    <tr>\n",
       "      <th>3</th>\n",
       "      <td>7224.0</td>\n",
       "    </tr>\n",
       "    <tr>\n",
       "      <th>4</th>\n",
       "      <td>6875.0</td>\n",
       "    </tr>\n",
       "  </tbody>\n",
       "</table>\n",
       "</div>"
      ],
      "text/plain": [
       "   thousands_barrels\n",
       "0             6621.0\n",
       "1             6433.0\n",
       "2             6582.0\n",
       "3             7224.0\n",
       "4             6875.0"
      ]
     },
     "metadata": {},
     "output_type": "display_data"
    },
    {
     "data": {
      "image/png": "[encoded data removed]",
      "text/plain": [
       "<Figure size 432x288 with 1 Axes>"
      ]
     },
     "metadata": {
      "needs_background": "light"
     },
     "output_type": "display_data"
    }
   ],
   "source": [
    "raw_gas = pd.read_csv('gasoline.csv', header=None, names=['thousands_barrels'])\n",
    "display(raw_gas.head())\n",
    "plt.plot(raw_gas)\n",
    "plt.show()"
   ]
  },
  {
   "cell_type": "markdown",
   "metadata": {},
   "source": [
    "## 피쳐 엔지니어링"
   ]
  },
  {
   "cell_type": "code",
   "execution_count": 33,
   "metadata": {
    "nbpresent": {
     "id": "6af8d66e-2ef6-4e8d-bb23-d2bd3dbb0b20"
    }
   },
   "outputs": [],
   "source": [
    "def make_feature_engineering(gas):\n",
    "    gas['thousands_barrels_lag1'] = gas['thousands_barrels'].shift(1)\n",
    "    gas['thousands_barrels_lag2'] = gas['thousands_barrels'].shift(2)\n",
    "    gas['thousands_barrels_lag3'] = gas['thousands_barrels'].shift(3)\n",
    "    gas['thousands_barrels_lag4'] = gas['thousands_barrels'].shift(4)\n",
    "    gas['trend'] = np.arange(len(gas))\n",
    "    gas['log_trend'] = np.log1p(np.arange(len(gas)))\n",
    "    gas['sq_trend'] = np.arange(len(gas)) ** 2\n",
    "    weeks = pd.get_dummies(np.array(list(range(52)) * 15)[:len(gas)], prefix='week')\n",
    "    gas = pd.concat([gas, weeks], axis=1)\n",
    "    \n",
    "    return gas\n",
    "\n",
    "gas = make_feature_engineering(raw_gas)"
   ]
  },
  {
   "cell_type": "markdown",
   "metadata": {},
   "source": [
    "## 훈련, 검증, 테스트 데이터 세트로 분리"
   ]
  },
  {
   "cell_type": "code",
   "execution_count": 34,
   "metadata": {},
   "outputs": [],
   "source": [
    "\n",
    "train_border=0.6\n",
    "test_border=0.8\n",
    "n_lags = 4 ; label = 'thousands_barrels'   \n",
    "gas = gas.iloc[n_lags:, ]\n",
    "split_train = int(len(gas) * train_border)\n",
    "split_test = int(len(gas) * test_border)\n",
    "\n",
    "train = gas[:split_train]\n",
    "val = gas[split_train:split_test]\n",
    "test = gas[split_test:]\n",
    "# train_X = gas.drop(label, axis=1).iloc[:split_train, ].to_numpy()\n",
    "# validation_y = gas[label][split_train:split_test]\n",
    "# validation_X = gas.drop(label, axis=1).iloc[split_train:split_test, ].to_numpy()\n",
    "# test_y = gas[label][split_test:]\n",
    "\n",
    "# train_y = gas[label][:split_train]\n",
    "# train_X = gas.drop(label, axis=1).iloc[:split_train, ].to_numpy()\n",
    "# validation_y = gas[label][split_train:split_test]\n",
    "# validation_X = gas.drop(label, axis=1).iloc[split_train:split_test, ].to_numpy()\n",
    "test_y = gas[label][split_test:]\n",
    "test_X = gas.drop(label, axis=1).iloc[split_test:, ].to_numpy()\n"
   ]
  },
  {
   "cell_type": "code",
   "execution_count": 59,
   "metadata": {},
   "outputs": [
    {
     "name": "stdout",
     "output_type": "stream",
     "text": [
      "test_X:  (149, 59)\n",
      "(444, 60)\n"
     ]
    },
    {
     "data": {
      "text/html": [
       "<div>\n",
       "<style scoped>\n",
       "    .dataframe tbody tr th:only-of-type {\n",
       "        vertical-align: middle;\n",
       "    }\n",
       "\n",
       "    .dataframe tbody tr th {\n",
       "        vertical-align: top;\n",
       "    }\n",
       "\n",
       "    .dataframe thead th {\n",
       "        text-align: right;\n",
       "    }\n",
       "</style>\n",
       "<table border=\"1\" class=\"dataframe\">\n",
       "  <thead>\n",
       "    <tr style=\"text-align: right;\">\n",
       "      <th></th>\n",
       "      <th>thousands_barrels</th>\n",
       "      <th>thousands_barrels_lag1</th>\n",
       "      <th>thousands_barrels_lag2</th>\n",
       "      <th>thousands_barrels_lag3</th>\n",
       "      <th>thousands_barrels_lag4</th>\n",
       "      <th>trend</th>\n",
       "      <th>log_trend</th>\n",
       "      <th>sq_trend</th>\n",
       "      <th>week_0</th>\n",
       "      <th>week_1</th>\n",
       "      <th>...</th>\n",
       "      <th>week_42</th>\n",
       "      <th>week_43</th>\n",
       "      <th>week_44</th>\n",
       "      <th>week_45</th>\n",
       "      <th>week_46</th>\n",
       "      <th>week_47</th>\n",
       "      <th>week_48</th>\n",
       "      <th>week_49</th>\n",
       "      <th>week_50</th>\n",
       "      <th>week_51</th>\n",
       "    </tr>\n",
       "  </thead>\n",
       "  <tbody>\n",
       "    <tr>\n",
       "      <th>4</th>\n",
       "      <td>6875.0</td>\n",
       "      <td>7224.0</td>\n",
       "      <td>6582.0</td>\n",
       "      <td>6433.0</td>\n",
       "      <td>6621.0</td>\n",
       "      <td>4</td>\n",
       "      <td>1.609438</td>\n",
       "      <td>16</td>\n",
       "      <td>0</td>\n",
       "      <td>0</td>\n",
       "      <td>...</td>\n",
       "      <td>0</td>\n",
       "      <td>0</td>\n",
       "      <td>0</td>\n",
       "      <td>0</td>\n",
       "      <td>0</td>\n",
       "      <td>0</td>\n",
       "      <td>0</td>\n",
       "      <td>0</td>\n",
       "      <td>0</td>\n",
       "      <td>0</td>\n",
       "    </tr>\n",
       "    <tr>\n",
       "      <th>5</th>\n",
       "      <td>6947.0</td>\n",
       "      <td>6875.0</td>\n",
       "      <td>7224.0</td>\n",
       "      <td>6582.0</td>\n",
       "      <td>6433.0</td>\n",
       "      <td>5</td>\n",
       "      <td>1.791759</td>\n",
       "      <td>25</td>\n",
       "      <td>0</td>\n",
       "      <td>0</td>\n",
       "      <td>...</td>\n",
       "      <td>0</td>\n",
       "      <td>0</td>\n",
       "      <td>0</td>\n",
       "      <td>0</td>\n",
       "      <td>0</td>\n",
       "      <td>0</td>\n",
       "      <td>0</td>\n",
       "      <td>0</td>\n",
       "      <td>0</td>\n",
       "      <td>0</td>\n",
       "    </tr>\n",
       "  </tbody>\n",
       "</table>\n",
       "<p>2 rows × 60 columns</p>\n",
       "</div>"
      ],
      "text/plain": [
       "   thousands_barrels  thousands_barrels_lag1  thousands_barrels_lag2  \\\n",
       "4             6875.0                  7224.0                  6582.0   \n",
       "5             6947.0                  6875.0                  7224.0   \n",
       "\n",
       "   thousands_barrels_lag3  thousands_barrels_lag4  trend  log_trend  sq_trend  \\\n",
       "4                  6433.0                  6621.0      4   1.609438        16   \n",
       "5                  6582.0                  6433.0      5   1.791759        25   \n",
       "\n",
       "   week_0  week_1  ...  week_42  week_43  week_44  week_45  week_46  week_47  \\\n",
       "4       0       0  ...        0        0        0        0        0        0   \n",
       "5       0       0  ...        0        0        0        0        0        0   \n",
       "\n",
       "   week_48  week_49  week_50  week_51  \n",
       "4        0        0        0        0  \n",
       "5        0        0        0        0  \n",
       "\n",
       "[2 rows x 60 columns]"
      ]
     },
     "execution_count": 59,
     "metadata": {},
     "output_type": "execute_result"
    }
   ],
   "source": [
    "print(\"test_X: \", test_X.shape)\n",
    "print(train.shape)\n",
    "train.head(2)"
   ]
  },
  {
   "cell_type": "markdown",
   "metadata": {},
   "source": [
    "### 데이터 파일을 로컬 및 S3에 업로드"
   ]
  },
  {
   "cell_type": "code",
   "execution_count": 60,
   "metadata": {},
   "outputs": [
    {
     "name": "stdout",
     "output_type": "stream",
     "text": [
      "fe_data/train/train.csv is saved\n",
      "fe_data/val/val.csv is saved\n",
      "fe_data/test/test.csv is saved\n",
      "s3_path:  s3://sagemaker-ap-northeast-2-057716757052/demandforecasting/fe_data/train/train.csv\n",
      "s3_path:  s3://sagemaker-ap-northeast-2-057716757052/demandforecasting/fe_data/val/val.csv\n",
      "s3_path:  s3://sagemaker-ap-northeast-2-057716757052/demandforecasting/fe_data/test/test.csv\n"
     ]
    }
   ],
   "source": [
    "import sagemaker \n",
    "\n",
    "def save_local(df,dir, file_name ):\n",
    "    os.makedirs(dir, exist_ok=True)\n",
    "    file_name_path = os.path.join(dir, file_name)\n",
    "    df.to_csv(file_name_path, index=False,  header=None, float_format='%.3f')\n",
    "    print(f'{file_name_path} is saved')\n",
    "    \n",
    "    return file_name_path\n",
    "\n",
    "# S3 prefix\n",
    "prefix = 'Scikit-byos'\n",
    "train_dir = 'fe_data/train'\n",
    "train_file_path = save_local(train,dir=train_dir, file_name='train.csv' )\n",
    "\n",
    "val_dir = 'fe_data/val'\n",
    "val_file_path = save_local(val,dir=val_dir, file_name='val.csv' )\n",
    "\n",
    "test_dir = 'fe_data/test'\n",
    "test_file_path = save_local(test, dir=test_dir, file_name='test.csv' )\n",
    "\n",
    "\n",
    "from p_utils import upload_s3\n",
    "    \n",
    "bucket = sagemaker.Session().default_bucket()\n",
    "prefix = 'demandforecasting'\n",
    "train_file_name = 'test/train/train.csv'\n",
    "s3_train_path = upload_s3(bucket, train_file_path, prefix)\n",
    "s3_val_path = upload_s3(bucket, val_file_path, prefix)\n",
    "s3_test_path = upload_s3(bucket, test_file_path, prefix)\n"
   ]
  },
  {
   "cell_type": "markdown",
   "metadata": {},
   "source": [
    "## 모델 훈련"
   ]
  },
  {
   "cell_type": "code",
   "execution_count": 37,
   "metadata": {},
   "outputs": [],
   "source": [
    "instance_type = 'local'\n",
    "# instance_type=\"ml.c4.xlarge\""
   ]
  },
  {
   "cell_type": "code",
   "execution_count": 38,
   "metadata": {},
   "outputs": [],
   "source": [
    "from sagemaker import local\n",
    "\n",
    "if instance_type == 'local':\n",
    "    sess = local.LocalSession()\n",
    "else:\n",
    "    sess = sagemaker.Session()"
   ]
  },
  {
   "cell_type": "code",
   "execution_count": 61,
   "metadata": {},
   "outputs": [],
   "source": [
    "from sagemaker import get_execution_role\n",
    "\n",
    "# Get a SageMaker-compatible role used by this Notebook Instance.\n",
    "role = get_execution_role()\n",
    "from sagemaker.sklearn.estimator import SKLearn\n",
    "\n",
    "FRAMEWORK_VERSION = \"0.23-1\"\n",
    "script_path = 'src/train.py'\n",
    "\n",
    "\n",
    "sklearn_estimator = SKLearn(\n",
    "    entry_point=script_path,\n",
    "    framework_version=FRAMEWORK_VERSION,\n",
    "    instance_type= instance_type,\n",
    "    role=role,\n",
    "    sagemaker_session= sess,\n",
    "    # bhyperparameters={'max_leaf_nodes': 30}\n",
    ")"
   ]
  },
  {
   "cell_type": "code",
   "execution_count": 48,
   "metadata": {
    "collapsed": true,
    "jupyter": {
     "outputs_hidden": true
    }
   },
   "outputs": [
    {
     "name": "stdout",
     "output_type": "stream",
     "text": [
      "Creating tmpw4uif8x7_algo-1-wkdkr_1 ... \n",
      "\u001b[1BAttaching to tmpw4uif8x7_algo-1-wkdkr_12mdone\u001b[0m\n",
      "\u001b[36malgo-1-wkdkr_1  |\u001b[0m 2020-12-03 10:10:20,496 sagemaker-training-toolkit INFO     Imported framework sagemaker_sklearn_container.training\n",
      "\u001b[36malgo-1-wkdkr_1  |\u001b[0m 2020-12-03 10:10:20,497 sagemaker-training-toolkit INFO     No GPUs detected (normal if no gpus installed)\n",
      "\u001b[36malgo-1-wkdkr_1  |\u001b[0m 2020-12-03 10:10:20,505 sagemaker_sklearn_container.training INFO     Invoking user training script.\n",
      "\u001b[36malgo-1-wkdkr_1  |\u001b[0m 2020-12-03 10:10:21,643 sagemaker-training-toolkit INFO     No GPUs detected (normal if no gpus installed)\n",
      "\u001b[36malgo-1-wkdkr_1  |\u001b[0m 2020-12-03 10:10:21,654 sagemaker-training-toolkit INFO     No GPUs detected (normal if no gpus installed)\n",
      "\u001b[36malgo-1-wkdkr_1  |\u001b[0m 2020-12-03 10:10:21,663 sagemaker-training-toolkit INFO     No GPUs detected (normal if no gpus installed)\n",
      "\u001b[36malgo-1-wkdkr_1  |\u001b[0m 2020-12-03 10:10:21,671 sagemaker-training-toolkit INFO     Invoking user script\n",
      "\u001b[36malgo-1-wkdkr_1  |\u001b[0m \n",
      "\u001b[36malgo-1-wkdkr_1  |\u001b[0m Training Env:\n",
      "\u001b[36malgo-1-wkdkr_1  |\u001b[0m \n",
      "\u001b[36malgo-1-wkdkr_1  |\u001b[0m {\n",
      "\u001b[36malgo-1-wkdkr_1  |\u001b[0m     \"additional_framework_parameters\": {},\n",
      "\u001b[36malgo-1-wkdkr_1  |\u001b[0m     \"channel_input_dirs\": {\n",
      "\u001b[36malgo-1-wkdkr_1  |\u001b[0m         \"train\": \"/opt/ml/input/data/train\"\n",
      "\u001b[36malgo-1-wkdkr_1  |\u001b[0m     },\n",
      "\u001b[36malgo-1-wkdkr_1  |\u001b[0m     \"current_host\": \"algo-1-wkdkr\",\n",
      "\u001b[36malgo-1-wkdkr_1  |\u001b[0m     \"framework_module\": \"sagemaker_sklearn_container.training:main\",\n",
      "\u001b[36malgo-1-wkdkr_1  |\u001b[0m     \"hosts\": [\n",
      "\u001b[36malgo-1-wkdkr_1  |\u001b[0m         \"algo-1-wkdkr\"\n",
      "\u001b[36malgo-1-wkdkr_1  |\u001b[0m     ],\n",
      "\u001b[36malgo-1-wkdkr_1  |\u001b[0m     \"hyperparameters\": {},\n",
      "\u001b[36malgo-1-wkdkr_1  |\u001b[0m     \"input_config_dir\": \"/opt/ml/input/config\",\n",
      "\u001b[36malgo-1-wkdkr_1  |\u001b[0m     \"input_data_config\": {\n",
      "\u001b[36malgo-1-wkdkr_1  |\u001b[0m         \"train\": {\n",
      "\u001b[36malgo-1-wkdkr_1  |\u001b[0m             \"TrainingInputMode\": \"File\"\n",
      "\u001b[36malgo-1-wkdkr_1  |\u001b[0m         }\n",
      "\u001b[36malgo-1-wkdkr_1  |\u001b[0m     },\n",
      "\u001b[36malgo-1-wkdkr_1  |\u001b[0m     \"input_dir\": \"/opt/ml/input\",\n",
      "\u001b[36malgo-1-wkdkr_1  |\u001b[0m     \"is_master\": true,\n",
      "\u001b[36malgo-1-wkdkr_1  |\u001b[0m     \"job_name\": \"sagemaker-scikit-learn-2020-12-03-10-10-17-801\",\n",
      "\u001b[36malgo-1-wkdkr_1  |\u001b[0m     \"log_level\": 20,\n",
      "\u001b[36malgo-1-wkdkr_1  |\u001b[0m     \"master_hostname\": \"algo-1-wkdkr\",\n",
      "\u001b[36malgo-1-wkdkr_1  |\u001b[0m     \"model_dir\": \"/opt/ml/model\",\n",
      "\u001b[36malgo-1-wkdkr_1  |\u001b[0m     \"module_dir\": \"s3://sagemaker-ap-northeast-2-057716757052/sagemaker-scikit-learn-2020-12-03-10-10-17-801/source/sourcedir.tar.gz\",\n",
      "\u001b[36malgo-1-wkdkr_1  |\u001b[0m     \"module_name\": \"train\",\n",
      "\u001b[36malgo-1-wkdkr_1  |\u001b[0m     \"network_interface_name\": \"eth0\",\n",
      "\u001b[36malgo-1-wkdkr_1  |\u001b[0m     \"num_cpus\": 36,\n",
      "\u001b[36malgo-1-wkdkr_1  |\u001b[0m     \"num_gpus\": 0,\n",
      "\u001b[36malgo-1-wkdkr_1  |\u001b[0m     \"output_data_dir\": \"/opt/ml/output/data\",\n",
      "\u001b[36malgo-1-wkdkr_1  |\u001b[0m     \"output_dir\": \"/opt/ml/output\",\n",
      "\u001b[36malgo-1-wkdkr_1  |\u001b[0m     \"output_intermediate_dir\": \"/opt/ml/output/intermediate\",\n",
      "\u001b[36malgo-1-wkdkr_1  |\u001b[0m     \"resource_config\": {\n",
      "\u001b[36malgo-1-wkdkr_1  |\u001b[0m         \"current_host\": \"algo-1-wkdkr\",\n",
      "\u001b[36malgo-1-wkdkr_1  |\u001b[0m         \"hosts\": [\n",
      "\u001b[36malgo-1-wkdkr_1  |\u001b[0m             \"algo-1-wkdkr\"\n",
      "\u001b[36malgo-1-wkdkr_1  |\u001b[0m         ]\n",
      "\u001b[36malgo-1-wkdkr_1  |\u001b[0m     },\n",
      "\u001b[36malgo-1-wkdkr_1  |\u001b[0m     \"user_entry_point\": \"train.py\"\n",
      "\u001b[36malgo-1-wkdkr_1  |\u001b[0m }\n",
      "\u001b[36malgo-1-wkdkr_1  |\u001b[0m \n",
      "\u001b[36malgo-1-wkdkr_1  |\u001b[0m Environment variables:\n",
      "\u001b[36malgo-1-wkdkr_1  |\u001b[0m \n",
      "\u001b[36malgo-1-wkdkr_1  |\u001b[0m SM_HOSTS=[\"algo-1-wkdkr\"]\n",
      "\u001b[36malgo-1-wkdkr_1  |\u001b[0m SM_NETWORK_INTERFACE_NAME=eth0\n",
      "\u001b[36malgo-1-wkdkr_1  |\u001b[0m SM_HPS={}\n",
      "\u001b[36malgo-1-wkdkr_1  |\u001b[0m SM_USER_ENTRY_POINT=train.py\n",
      "\u001b[36malgo-1-wkdkr_1  |\u001b[0m SM_FRAMEWORK_PARAMS={}\n",
      "\u001b[36malgo-1-wkdkr_1  |\u001b[0m SM_RESOURCE_CONFIG={\"current_host\":\"algo-1-wkdkr\",\"hosts\":[\"algo-1-wkdkr\"]}\n",
      "\u001b[36malgo-1-wkdkr_1  |\u001b[0m SM_INPUT_DATA_CONFIG={\"train\":{\"TrainingInputMode\":\"File\"}}\n",
      "\u001b[36malgo-1-wkdkr_1  |\u001b[0m SM_OUTPUT_DATA_DIR=/opt/ml/output/data\n",
      "\u001b[36malgo-1-wkdkr_1  |\u001b[0m SM_CHANNELS=[\"train\"]\n",
      "\u001b[36malgo-1-wkdkr_1  |\u001b[0m SM_CURRENT_HOST=algo-1-wkdkr\n",
      "\u001b[36malgo-1-wkdkr_1  |\u001b[0m SM_MODULE_NAME=train\n",
      "\u001b[36malgo-1-wkdkr_1  |\u001b[0m SM_LOG_LEVEL=20\n",
      "\u001b[36malgo-1-wkdkr_1  |\u001b[0m SM_FRAMEWORK_MODULE=sagemaker_sklearn_container.training:main\n",
      "\u001b[36malgo-1-wkdkr_1  |\u001b[0m SM_INPUT_DIR=/opt/ml/input\n",
      "\u001b[36malgo-1-wkdkr_1  |\u001b[0m SM_INPUT_CONFIG_DIR=/opt/ml/input/config\n",
      "\u001b[36malgo-1-wkdkr_1  |\u001b[0m SM_OUTPUT_DIR=/opt/ml/output\n",
      "\u001b[36malgo-1-wkdkr_1  |\u001b[0m SM_NUM_CPUS=36\n",
      "\u001b[36malgo-1-wkdkr_1  |\u001b[0m SM_NUM_GPUS=0\n",
      "\u001b[36malgo-1-wkdkr_1  |\u001b[0m SM_MODEL_DIR=/opt/ml/model\n",
      "\u001b[36malgo-1-wkdkr_1  |\u001b[0m SM_MODULE_DIR=s3://sagemaker-ap-northeast-2-057716757052/sagemaker-scikit-learn-2020-12-03-10-10-17-801/source/sourcedir.tar.gz\n",
      "\u001b[36malgo-1-wkdkr_1  |\u001b[0m SM_TRAINING_ENV={\"additional_framework_parameters\":{},\"channel_input_dirs\":{\"train\":\"/opt/ml/input/data/train\"},\"current_host\":\"algo-1-wkdkr\",\"framework_module\":\"sagemaker_sklearn_container.training:main\",\"hosts\":[\"algo-1-wkdkr\"],\"hyperparameters\":{},\"input_config_dir\":\"/opt/ml/input/config\",\"input_data_config\":{\"train\":{\"TrainingInputMode\":\"File\"}},\"input_dir\":\"/opt/ml/input\",\"is_master\":true,\"job_name\":\"sagemaker-scikit-learn-2020-12-03-10-10-17-801\",\"log_level\":20,\"master_hostname\":\"algo-1-wkdkr\",\"model_dir\":\"/opt/ml/model\",\"module_dir\":\"s3://sagemaker-ap-northeast-2-057716757052/sagemaker-scikit-learn-2020-12-03-10-10-17-801/source/sourcedir.tar.gz\",\"module_name\":\"train\",\"network_interface_name\":\"eth0\",\"num_cpus\":36,\"num_gpus\":0,\"output_data_dir\":\"/opt/ml/output/data\",\"output_dir\":\"/opt/ml/output\",\"output_intermediate_dir\":\"/opt/ml/output/intermediate\",\"resource_config\":{\"current_host\":\"algo-1-wkdkr\",\"hosts\":[\"algo-1-wkdkr\"]},\"user_entry_point\":\"train.py\"}\n",
      "\u001b[36malgo-1-wkdkr_1  |\u001b[0m SM_USER_ARGS=[]\n",
      "\u001b[36malgo-1-wkdkr_1  |\u001b[0m SM_OUTPUT_INTERMEDIATE_DIR=/opt/ml/output/intermediate\n",
      "\u001b[36malgo-1-wkdkr_1  |\u001b[0m SM_CHANNEL_TRAIN=/opt/ml/input/data/train\n",
      "\u001b[36malgo-1-wkdkr_1  |\u001b[0m PYTHONPATH=/opt/ml/code:/miniconda3/bin:/miniconda3/lib/python37.zip:/miniconda3/lib/python3.7:/miniconda3/lib/python3.7/lib-dynload:/miniconda3/lib/python3.7/site-packages\n",
      "\u001b[36malgo-1-wkdkr_1  |\u001b[0m \n",
      "\u001b[36malgo-1-wkdkr_1  |\u001b[0m Invoking script with the following command:\n",
      "\u001b[36malgo-1-wkdkr_1  |\u001b[0m \n",
      "\u001b[36malgo-1-wkdkr_1  |\u001b[0m /miniconda3/bin/python train.py\n",
      "\u001b[36malgo-1-wkdkr_1  |\u001b[0m \n",
      "\u001b[36malgo-1-wkdkr_1  |\u001b[0m \n",
      "\u001b[36malgo-1-wkdkr_1  |\u001b[0m args:  Namespace(model_dir='/opt/ml/model', output_data_dir='/opt/ml/output/data', train='/opt/ml/input/data/train')\n",
      "\u001b[36malgo-1-wkdkr_1  |\u001b[0m train_y:  (444,)\n",
      "\u001b[36malgo-1-wkdkr_1  |\u001b[0m train_X:  (444, 59)\n",
      "\u001b[36malgo-1-wkdkr_1  |\u001b[0m Train Ridge model\n",
      "\u001b[36malgo-1-wkdkr_1  |\u001b[0m /opt/ml/model/model.joblib is saved\n",
      "\u001b[36malgo-1-wkdkr_1  |\u001b[0m 2020-12-03 10:10:22,359 sagemaker-training-toolkit INFO     Reporting training SUCCESS\n",
      "\u001b[36mtmpw4uif8x7_algo-1-wkdkr_1 exited with code 0\n",
      "\u001b[0mAborting on container exit...\n",
      "===== Job Complete =====\n",
      ".\n"
     ]
    }
   ],
   "source": [
    "sklearn_estimator.fit({'train': s3_train_path}, logs=False)"
   ]
  },
  {
   "cell_type": "markdown",
   "metadata": {},
   "source": [
    "## 모델 아티팩트 얻기"
   ]
  },
  {
   "cell_type": "code",
   "execution_count": 51,
   "metadata": {},
   "outputs": [],
   "source": [
    "local_model_dir = 'model'\n",
    "os.makedirs(local_model_dir, exist_ok=True)\n",
    "s3_model_dir = sklearn_estimator.model_data"
   ]
  },
  {
   "cell_type": "code",
   "execution_count": 53,
   "metadata": {},
   "outputs": [
    {
     "name": "stdout",
     "output_type": "stream",
     "text": [
      "download: s3://sagemaker-ap-northeast-2-057716757052/sagemaker-scikit-learn-2020-12-03-10-10-17-801/model.tar.gz to model/model.tar.gz\n"
     ]
    }
   ],
   "source": [
    "!aws s3 cp {s3_model_dir} {local_model_dir}/model.tar.gz\n",
    "!tar -xzf {local_model_dir}/model.tar.gz -C {local_model_dir}"
   ]
  },
  {
   "cell_type": "code",
   "execution_count": 58,
   "metadata": {},
   "outputs": [
    {
     "name": "stdout",
     "output_type": "stream",
     "text": [
      "Stored 's3_model_dir' (str)\n",
      "Stored 'test_file_path' (str)\n",
      "Stored 'local_model_dir' (str)\n"
     ]
    }
   ],
   "source": [
    "# local_model_path = os.path.join(local_model_dir, 'model.joblib')\n",
    "%store s3_model_dir\n",
    "%store test_file_path\n",
    "%store local_model_dir"
   ]
  },
  {
   "cell_type": "markdown",
   "metadata": {},
   "source": [
    "## 인퍼런스 코드 테스트"
   ]
  },
  {
   "cell_type": "code",
   "execution_count": 21,
   "metadata": {},
   "outputs": [],
   "source": [
    "def input_fn(input_data, request_content_type='text/csv'):\n",
    "    \"\"\"\n",
    "    \"\"\"\n",
    "    n_feature = input_data.shape[1]\n",
    "    sample = input_data.reshape(-1,n_feature)\n",
    "    return sample\n",
    "\n",
    "# input for evaluation\n",
    "sample = input_fn(test_X[0:10])"
   ]
  },
  {
   "cell_type": "code",
   "execution_count": 22,
   "metadata": {},
   "outputs": [
    {
     "name": "stdout",
     "output_type": "stream",
     "text": [
      "From user-inference file- Model loaded: \n",
      "From user-inference file- Shape of predictions:  (10,)\n",
      "[9069.10210168 8982.26370473 9176.14403728 8994.43530873 9133.66802983\n",
      " 9084.51546925 9137.45039398 9053.00386697 8990.91041802 8897.40776774]\n"
     ]
    }
   ],
   "source": [
    "import src.inference\n",
    "from importlib import reload\n",
    "src.inference = reload(src.inference)\n",
    "\n",
    "from src.inference import model_fn, predict_fn\n",
    "\n",
    "model = model_fn('model')\n",
    "predictons = predict_fn(sample, model)\n",
    "print(predictons)"
   ]
  },
  {
   "cell_type": "code",
   "execution_count": 23,
   "metadata": {},
   "outputs": [],
   "source": [
    "import time\n",
    "local_model_path = f'file://{os.getcwd()}/model/model.joblib'\n",
    "endpoint_name = 'local-endpoint-scikit-learn-{}'.format(int(time.time()))"
   ]
  },
  {
   "cell_type": "markdown",
   "metadata": {},
   "source": [
    "### Docker 명령어\n",
    "로컬로드로 실행시에는 로컬에서 다커가 실행이 됩니다. 하지만 다커가 종료가 되지 않은 상태이면, 아래 명령어를 사용하여 다커를 중지 시키고 다시 실행합니다.\n",
    "\n",
    "- 현재 실행중인 컨테이너를 보여주기\n",
    "``` \n",
    "docker container ls\n",
    "```\n",
    "- 현재 실행중인 컨테이너를 모두 정지 시키기\n",
    "```\n",
    "docker stop $(docker ps -a -q)\n",
    "```\n"
   ]
  },
  {
   "cell_type": "markdown",
   "metadata": {},
   "source": [
    "requirements.txt \n",
    "- 인퍼런스시에 추가 패키지 설치"
   ]
  },
  {
   "cell_type": "code",
   "execution_count": 24,
   "metadata": {},
   "outputs": [],
   "source": [
    "from sagemaker.sklearn.model import SKLearnModel\n",
    "local_model = SKLearnModel(model_data = local_model_path,\n",
    "                           role = role,\n",
    "                           source_dir = 'src',\n",
    "                           entry_point = 'inference.py',\n",
    "                           framework_version = FRAMEWORK_VERSION,\n",
    "                           py_version = 'py3'\n",
    "                           \n",
    "                          )\n",
    "\n"
   ]
  },
  {
   "cell_type": "code",
   "execution_count": null,
   "metadata": {},
   "outputs": [],
   "source": []
  },
  {
   "cell_type": "markdown",
   "metadata": {},
   "source": [
    "## 모델 배포 및 추론"
   ]
  },
  {
   "cell_type": "code",
   "execution_count": 25,
   "metadata": {
    "collapsed": true,
    "jupyter": {
     "outputs_hidden": true
    }
   },
   "outputs": [
    {
     "name": "stdout",
     "output_type": "stream",
     "text": [
      "Attaching to tmpdkr7gblw_algo-1-ji9g0_1\n",
      "\u001b[36malgo-1-ji9g0_1  |\u001b[0m 2020-12-03 10:00:09,258 INFO - sagemaker-containers - No GPUs detected (normal if no gpus installed)\n",
      "\u001b[36malgo-1-ji9g0_1  |\u001b[0m 2020-12-03 10:00:09,260 INFO - sagemaker-containers - No GPUs detected (normal if no gpus installed)\n",
      "\u001b[36malgo-1-ji9g0_1  |\u001b[0m 2020-12-03 10:00:09,261 INFO - sagemaker-containers - nginx config: \n",
      "\u001b[36malgo-1-ji9g0_1  |\u001b[0m worker_processes auto;\n",
      "\u001b[36malgo-1-ji9g0_1  |\u001b[0m daemon off;\n",
      "\u001b[36malgo-1-ji9g0_1  |\u001b[0m pid /tmp/nginx.pid;\n",
      "\u001b[36malgo-1-ji9g0_1  |\u001b[0m error_log  /dev/stderr;\n",
      "\u001b[36malgo-1-ji9g0_1  |\u001b[0m \n",
      "\u001b[36malgo-1-ji9g0_1  |\u001b[0m worker_rlimit_nofile 4096;\n",
      "\u001b[36malgo-1-ji9g0_1  |\u001b[0m \n",
      "\u001b[36malgo-1-ji9g0_1  |\u001b[0m events {\n",
      "\u001b[36malgo-1-ji9g0_1  |\u001b[0m   worker_connections 2048;\n",
      "\u001b[36malgo-1-ji9g0_1  |\u001b[0m }\n",
      "\u001b[36malgo-1-ji9g0_1  |\u001b[0m \n",
      "\u001b[36malgo-1-ji9g0_1  |\u001b[0m http {\n",
      "\u001b[36malgo-1-ji9g0_1  |\u001b[0m   include /etc/nginx/mime.types;\n",
      "\u001b[36malgo-1-ji9g0_1  |\u001b[0m   default_type application/octet-stream;\n",
      "\u001b[36malgo-1-ji9g0_1  |\u001b[0m   access_log /dev/stdout combined;\n",
      "\u001b[36malgo-1-ji9g0_1  |\u001b[0m \n",
      "\u001b[36malgo-1-ji9g0_1  |\u001b[0m   upstream gunicorn {\n",
      "\u001b[36malgo-1-ji9g0_1  |\u001b[0m     server unix:/tmp/gunicorn.sock;\n",
      "\u001b[36malgo-1-ji9g0_1  |\u001b[0m   }\n",
      "\u001b[36malgo-1-ji9g0_1  |\u001b[0m \n",
      "\u001b[36malgo-1-ji9g0_1  |\u001b[0m   server {\n",
      "\u001b[36malgo-1-ji9g0_1  |\u001b[0m     listen 8080 deferred;\n",
      "\u001b[36malgo-1-ji9g0_1  |\u001b[0m     client_max_body_size 0;\n",
      "\u001b[36malgo-1-ji9g0_1  |\u001b[0m \n",
      "\u001b[36malgo-1-ji9g0_1  |\u001b[0m     keepalive_timeout 3;\n",
      "\u001b[36malgo-1-ji9g0_1  |\u001b[0m \n",
      "\u001b[36malgo-1-ji9g0_1  |\u001b[0m     location ~ ^/(ping|invocations|execution-parameters) {\n",
      "\u001b[36malgo-1-ji9g0_1  |\u001b[0m       proxy_set_header X-Forwarded-For $proxy_add_x_forwarded_for;\n",
      "\u001b[36malgo-1-ji9g0_1  |\u001b[0m       proxy_set_header Host $http_host;\n",
      "\u001b[36malgo-1-ji9g0_1  |\u001b[0m       proxy_redirect off;\n",
      "\u001b[36malgo-1-ji9g0_1  |\u001b[0m       proxy_read_timeout 60s;\n",
      "\u001b[36malgo-1-ji9g0_1  |\u001b[0m       proxy_pass http://gunicorn;\n",
      "\u001b[36malgo-1-ji9g0_1  |\u001b[0m     }\n",
      "\u001b[36malgo-1-ji9g0_1  |\u001b[0m \n",
      "\u001b[36malgo-1-ji9g0_1  |\u001b[0m     location / {\n",
      "\u001b[36malgo-1-ji9g0_1  |\u001b[0m       return 404 \"{}\";\n",
      "\u001b[36malgo-1-ji9g0_1  |\u001b[0m     }\n",
      "\u001b[36malgo-1-ji9g0_1  |\u001b[0m \n",
      "\u001b[36malgo-1-ji9g0_1  |\u001b[0m   }\n",
      "\u001b[36malgo-1-ji9g0_1  |\u001b[0m }\n",
      "\u001b[36malgo-1-ji9g0_1  |\u001b[0m \n",
      "\u001b[36malgo-1-ji9g0_1  |\u001b[0m \n",
      "\u001b[36malgo-1-ji9g0_1  |\u001b[0m 2020-12-03 10:00:10,380 INFO - sagemaker-containers - Module inference does not provide a setup.py. \n",
      "\u001b[36malgo-1-ji9g0_1  |\u001b[0m Generating setup.py\n",
      "\u001b[36malgo-1-ji9g0_1  |\u001b[0m 2020-12-03 10:00:10,380 INFO - sagemaker-containers - Generating setup.cfg\n",
      "\u001b[36malgo-1-ji9g0_1  |\u001b[0m 2020-12-03 10:00:10,380 INFO - sagemaker-containers - Generating MANIFEST.in\n",
      "\u001b[36malgo-1-ji9g0_1  |\u001b[0m 2020-12-03 10:00:10,380 INFO - sagemaker-containers - Installing module with the following command:\n",
      "\u001b[36malgo-1-ji9g0_1  |\u001b[0m /miniconda3/bin/python -m pip install . -r requirements.txt\n",
      "\u001b[36malgo-1-ji9g0_1  |\u001b[0m Processing /opt/ml/code\n",
      "\u001b[36malgo-1-ji9g0_1  |\u001b[0m Requirement already satisfied: pandas<2 in /miniconda3/lib/python3.7/site-packages (from -r requirements.txt (line 1)) (1.1.3)\n",
      "\u001b[36malgo-1-ji9g0_1  |\u001b[0m Requirement already satisfied: python-dateutil>=2.7.3 in /miniconda3/lib/python3.7/site-packages (from pandas<2->-r requirements.txt (line 1)) (2.8.1)\n",
      "\u001b[36malgo-1-ji9g0_1  |\u001b[0m Requirement already satisfied: pytz>=2017.2 in /miniconda3/lib/python3.7/site-packages (from pandas<2->-r requirements.txt (line 1)) (2020.1)\n",
      "\u001b[36malgo-1-ji9g0_1  |\u001b[0m Requirement already satisfied: numpy>=1.15.4 in /miniconda3/lib/python3.7/site-packages (from pandas<2->-r requirements.txt (line 1)) (1.19.2)\n",
      "\u001b[36malgo-1-ji9g0_1  |\u001b[0m Requirement already satisfied: six>=1.5 in /miniconda3/lib/python3.7/site-packages (from python-dateutil>=2.7.3->pandas<2->-r requirements.txt (line 1)) (1.15.0)\n",
      "\u001b[36malgo-1-ji9g0_1  |\u001b[0m Building wheels for collected packages: inference\n",
      "\u001b[36malgo-1-ji9g0_1  |\u001b[0m   Building wheel for inference (setup.py) ... \u001b[?25ldone\n",
      "\u001b[36malgo-1-ji9g0_1  |\u001b[0m \u001b[?25h  Created wheel for inference: filename=inference-1.0.0-py2.py3-none-any.whl size=8702 sha256=2e3e483832f995d9cb55bd6c7b8f024514de49bc6382116f3ca76d5312b7a2b4\n",
      "\u001b[36malgo-1-ji9g0_1  |\u001b[0m   Stored in directory: /home/model-server/tmp/pip-ephem-wheel-cache-p_tqfmx_/wheels/3e/0f/51/2f1df833dd0412c1bc2f5ee56baac195b5be563353d111dca6\n",
      "\u001b[36malgo-1-ji9g0_1  |\u001b[0m Successfully built inference\n",
      "\u001b[36malgo-1-ji9g0_1  |\u001b[0m Installing collected packages: inference\n",
      "\u001b[36malgo-1-ji9g0_1  |\u001b[0m Successfully installed inference-1.0.0\n",
      "\u001b[36malgo-1-ji9g0_1  |\u001b[0m [2020-12-03 10:00:11 +0000] [97] [INFO] Starting gunicorn 20.0.4\n",
      "\u001b[36malgo-1-ji9g0_1  |\u001b[0m [2020-12-03 10:00:11 +0000] [97] [INFO] Listening at: unix:/tmp/gunicorn.sock (97)\n",
      "\u001b[36malgo-1-ji9g0_1  |\u001b[0m [2020-12-03 10:00:11 +0000] [97] [INFO] Using worker: gevent\n",
      "\u001b[36malgo-1-ji9g0_1  |\u001b[0m [2020-12-03 10:00:11 +0000] [100] [INFO] Booting worker with pid: 100\n",
      "\u001b[36malgo-1-ji9g0_1  |\u001b[0m [2020-12-03 10:00:11 +0000] [101] [INFO] Booting worker with pid: 101\n",
      "\u001b[36malgo-1-ji9g0_1  |\u001b[0m [2020-12-03 10:00:11 +0000] [102] [INFO] Booting worker with pid: 102\n",
      "\u001b[36malgo-1-ji9g0_1  |\u001b[0m [2020-12-03 10:00:11 +0000] [173] [INFO] Booting worker with pid: 173\n",
      "\u001b[36malgo-1-ji9g0_1  |\u001b[0m [2020-12-03 10:00:11 +0000] [209] [INFO] Booting worker with pid: 209\n",
      "\u001b[36malgo-1-ji9g0_1  |\u001b[0m [2020-12-03 10:00:11 +0000] [210] [INFO] Booting worker with pid: 210\n",
      "\u001b[36malgo-1-ji9g0_1  |\u001b[0m [2020-12-03 10:00:11 +0000] [211] [INFO] Booting worker with pid: 211\n",
      "\u001b[36malgo-1-ji9g0_1  |\u001b[0m [2020-12-03 10:00:11 +0000] [212] [INFO] Booting worker with pid: 212\n",
      "\u001b[36malgo-1-ji9g0_1  |\u001b[0m [2020-12-03 10:00:11 +0000] [318] [INFO] Booting worker with pid: 318\n",
      "\u001b[36malgo-1-ji9g0_1  |\u001b[0m [2020-12-03 10:00:12 +0000] [354] [INFO] Booting worker with pid: 354\n",
      "\u001b[36malgo-1-ji9g0_1  |\u001b[0m [2020-12-03 10:00:12 +0000] [390] [INFO] Booting worker with pid: 390\n",
      "\u001b[36malgo-1-ji9g0_1  |\u001b[0m [2020-12-03 10:00:12 +0000] [391] [INFO] Booting worker with pid: 391\n",
      "\u001b[36malgo-1-ji9g0_1  |\u001b[0m [2020-12-03 10:00:12 +0000] [392] [INFO] Booting worker with pid: 392\n",
      "\u001b[36malgo-1-ji9g0_1  |\u001b[0m [2020-12-03 10:00:12 +0000] [463] [INFO] Booting worker with pid: 463\n",
      "\u001b[36malgo-1-ji9g0_1  |\u001b[0m [2020-12-03 10:00:12 +0000] [534] [INFO] Booting worker with pid: 534\n",
      "\u001b[36malgo-1-ji9g0_1  |\u001b[0m [2020-12-03 10:00:12 +0000] [572] [INFO] Booting worker with pid: 572\n",
      "\u001b[36malgo-1-ji9g0_1  |\u001b[0m [2020-12-03 10:00:12 +0000] [573] [INFO] Booting worker with pid: 573\n",
      "\u001b[36malgo-1-ji9g0_1  |\u001b[0m [2020-12-03 10:00:12 +0000] [574] [INFO] Booting worker with pid: 574\n",
      "\u001b[36malgo-1-ji9g0_1  |\u001b[0m [2020-12-03 10:00:12 +0000] [611] [INFO] Booting worker with pid: 611\n",
      "\u001b[36malgo-1-ji9g0_1  |\u001b[0m [2020-12-03 10:00:12 +0000] [647] [INFO] Booting worker with pid: 647\n",
      "\u001b[36malgo-1-ji9g0_1  |\u001b[0m [2020-12-03 10:00:12 +0000] [789] [INFO] Booting worker with pid: 789\n",
      "\u001b[36malgo-1-ji9g0_1  |\u001b[0m 2020-12-03 10:00:12,703 INFO - sagemaker-containers - No GPUs detected (normal if no gpus installed)\n",
      "\u001b[36malgo-1-ji9g0_1  |\u001b[0m [2020-12-03 10:00:12 +0000] [792] [INFO] Booting worker with pid: 792\n",
      "\u001b[36malgo-1-ji9g0_1  |\u001b[0m [2020-12-03 10:00:12 +0000] [864] [INFO] Booting worker with pid: 864\n",
      "\u001b[36malgo-1-ji9g0_1  |\u001b[0m [2020-12-03 10:00:12 +0000] [867] [INFO] Booting worker with pid: 867\n",
      "\u001b[36malgo-1-ji9g0_1  |\u001b[0m [2020-12-03 10:00:12 +0000] [868] [INFO] Booting worker with pid: 868\n",
      "\u001b[36malgo-1-ji9g0_1  |\u001b[0m [2020-12-03 10:00:12 +0000] [869] [INFO] Booting worker with pid: 869\n",
      "\u001b[36malgo-1-ji9g0_1  |\u001b[0m [2020-12-03 10:00:12 +0000] [942] [INFO] Booting worker with pid: 942\n",
      "\u001b[36malgo-1-ji9g0_1  |\u001b[0m [2020-12-03 10:00:13 +0000] [1050] [INFO] Booting worker with pid: 1050\n",
      "\u001b[36malgo-1-ji9g0_1  |\u001b[0m [2020-12-03 10:00:13 +0000] [1086] [INFO] Booting worker with pid: 1086\n",
      "\u001b[36malgo-1-ji9g0_1  |\u001b[0m [2020-12-03 10:00:13 +0000] [1089] [INFO] Booting worker with pid: 1089\n",
      "\u001b[36malgo-1-ji9g0_1  |\u001b[0m [2020-12-03 10:00:13 +0000] [1088] [INFO] Booting worker with pid: 1088\n",
      "\u001b[36malgo-1-ji9g0_1  |\u001b[0m [2020-12-03 10:00:13 +0000] [1091] [INFO] Booting worker with pid: 1091\n",
      "\u001b[36malgo-1-ji9g0_1  |\u001b[0m [2020-12-03 10:00:13 +0000] [1127] [INFO] Booting worker with pid: 1127\n",
      "\u001b[36malgo-1-ji9g0_1  |\u001b[0m [2020-12-03 10:00:13 +0000] [1201] [INFO] Booting worker with pid: 1201\n",
      "\u001b[36malgo-1-ji9g0_1  |\u001b[0m [2020-12-03 10:00:13 +0000] [1202] [INFO] Booting worker with pid: 1202\n",
      "\u001b[36malgo-1-ji9g0_1  |\u001b[0m [2020-12-03 10:00:13 +0000] [1238] [INFO] Booting worker with pid: 1238\n",
      "\u001b[36malgo-1-ji9g0_1  |\u001b[0m /miniconda3/lib/python3.7/site-packages/sklearn/base.py:334: UserWarning: Trying to unpickle estimator Ridge from version 0.22.1 when using version 0.23.2. This might lead to breaking code or invalid results. Use at your own risk.\n",
      "\u001b[36malgo-1-ji9g0_1  |\u001b[0m   UserWarning)\n",
      "\u001b[36malgo-1-ji9g0_1  |\u001b[0m From user-inference file- Model loaded: \n",
      "\u001b[36malgo-1-ji9g0_1  |\u001b[0m 172.18.0.1 - - [03/Dec/2020:10:00:13 +0000] \"GET /ping HTTP/1.1\" 200 0 \"-\" \"-\"\n",
      "!"
     ]
    }
   ],
   "source": [
    "# instance_type=\"ml.m5.xlarge\"\n",
    "# instance_type=\"local\"\n",
    "\n",
    "predictor = local_model.deploy(\n",
    "    initial_instance_count=1,\n",
    "    instance_type= instance_type,\n",
    "    endpoint_name = endpoint_name,\n",
    "    wait=True\n",
    "    )"
   ]
  },
  {
   "cell_type": "code",
   "execution_count": 26,
   "metadata": {},
   "outputs": [
    {
     "name": "stdout",
     "output_type": "stream",
     "text": [
      "\u001b[36malgo-1-ji9g0_1  |\u001b[0m 2020-12-03 10:00:13,426 INFO - sagemaker-containers - No GPUs detected (normal if no gpus installed)\n",
      "\u001b[36malgo-1-ji9g0_1  |\u001b[0m /miniconda3/lib/python3.7/site-packages/sklearn/base.py:334: UserWarning: Trying to unpickle estimator Ridge from version 0.22.1 when using version 0.23.2. This might lead to breaking code or invalid results. Use at your own risk.\n",
      "\u001b[36malgo-1-ji9g0_1  |\u001b[0m   UserWarning)\n",
      "\u001b[36malgo-1-ji9g0_1  |\u001b[0m From user-inference file- Model loaded: \n",
      "\u001b[36malgo-1-ji9g0_1  |\u001b[0m From user-inference file- Shape of predictions:  (149,)\n",
      "\u001b[36malgo-1-ji9g0_1  |\u001b[0m 172.18.0.1 - - [03/Dec/2020:10:00:13 +0000] \"POST /invocations HTTP/1.1\" 200 1320 \"-\" \"-\"\n"
     ]
    }
   ],
   "source": [
    "sample = input_fn(test_X)\n",
    "ridge_pred = predictor.predict(sample)\n"
   ]
  },
  {
   "cell_type": "code",
   "execution_count": 27,
   "metadata": {},
   "outputs": [],
   "source": [
    "import p_utils\n",
    "from importlib import reload\n",
    "p_utils = reload(p_utils)\n",
    "\n",
    "\n",
    "from p_utils import evaluate, show_chart"
   ]
  },
  {
   "cell_type": "code",
   "execution_count": 28,
   "metadata": {},
   "outputs": [
    {
     "name": "stdout",
     "output_type": "stream",
     "text": [
      "Ridge-onestep-ahead MdAPE =  0.021790265344816775\n"
     ]
    },
    {
     "data": {
      "image/png": "[encoded data removed]",
      "text/plain": [
       "<Figure size 432x288 with 1 Axes>"
      ]
     },
     "metadata": {
      "needs_background": "light"
     },
     "output_type": "display_data"
    }
   ],
   "source": [
    "# Predict\n",
    "# ridge_pred = predict_fn(sample, model_ridge)\n",
    "# lasso_pred = predict_fn(model_lasso, sample)\n",
    "\n",
    "# Evaluate\n",
    "MdAPE = evaluate(test_y, ridge_pred)\n",
    "print('Ridge-onestep-ahead MdAPE = ', MdAPE)\n",
    "\n",
    "show_chart(test_y, ridge_pred) "
   ]
  },
  {
   "cell_type": "markdown",
   "metadata": {},
   "source": [
    "## Endpoint Cleanup"
   ]
  },
  {
   "cell_type": "code",
   "execution_count": 29,
   "metadata": {},
   "outputs": [
    {
     "name": "stdout",
     "output_type": "stream",
     "text": [
      "Gracefully stopping... (press Ctrl+C again to force)\n"
     ]
    }
   ],
   "source": [
    "predictor.delete_endpoint()"
   ]
  },
  {
   "cell_type": "code",
   "execution_count": null,
   "metadata": {},
   "outputs": [],
   "source": []
  }
 ],
 "metadata": {
  "kernelspec": {
   "display_name": "conda_python3",
   "language": "python",
   "name": "conda_python3"
  },
  "language_info": {
   "codemirror_mode": {
    "name": "ipython",
    "version": 3
   },
   "file_extension": ".py",
   "mimetype": "text/x-python",
   "name": "python",
   "nbconvert_exporter": "python",
   "pygments_lexer": "ipython3",
   "version": "3.6.10"
  }
 },
 "nbformat": 4,
 "nbformat_minor": 4
}

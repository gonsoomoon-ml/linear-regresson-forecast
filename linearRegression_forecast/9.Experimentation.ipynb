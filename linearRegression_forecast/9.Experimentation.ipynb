{
 "cells": [
  {
   "cell_type": "markdown",
   "metadata": {},
   "source": [
    "\n",
    "모든 단위는 MdAPE 입니다.\n",
    "\n",
    "## Lasso\n",
    "\n",
    "- train + val\n",
    "    - 0.0165\n",
    "## Ridge\n",
    "- train + val\n",
    "    - 0.0168\n",
    "\n",
    "\n",
    "\n",
    "- Week01 - Week52 를 로그 변환 (skewness > 0.75)\n",
    "- alpha = 2\n",
    "    - 0.0212\n",
    "\n",
    "\n",
    "- all feature including label 로그 변환\n",
    "    - 0.0597\n",
    "- Week01 - Week52 를 로그 변환 (skewness > 0.75)\n",
    "- alpha = 2\n",
    "    - 0.0209\n",
    "- 베이스\n",
    "    - 0.0217\n",
    "    \n",
    "\n",
    "## Linear Learner\n",
    "- 기본\n",
    "    - 0.0203\n",
    "\n",
    "## Naive\n",
    "= 1년전 값의 제곱 / 2년 전 값\n",
    "    - 0.0368"
   ]
  },
  {
   "cell_type": "markdown",
   "metadata": {},
   "source": [
    "# 참조 문서\n",
    "How to Use Random Seeds Effectively\n",
    "- https://towardsdatascience.com/how-to-use-random-seeds-effectively-54a4cd855a79"
   ]
  },
  {
   "cell_type": "code",
   "execution_count": null,
   "metadata": {},
   "outputs": [],
   "source": []
  }
 ],
 "metadata": {
  "kernelspec": {
   "display_name": "conda_python3",
   "language": "python",
   "name": "conda_python3"
  },
  "language_info": {
   "codemirror_mode": {
    "name": "ipython",
    "version": 3
   },
   "file_extension": ".py",
   "mimetype": "text/x-python",
   "name": "python",
   "nbconvert_exporter": "python",
   "pygments_lexer": "ipython3",
   "version": "3.6.10"
  }
 },
 "nbformat": 4,
 "nbformat_minor": 4
}

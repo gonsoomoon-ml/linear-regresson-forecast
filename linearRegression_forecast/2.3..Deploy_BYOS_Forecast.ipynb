{
 "cells": [
  {
   "cell_type": "markdown",
   "metadata": {},
   "source": [
    "## [모듈 2.3] 모델 배포 및 추론\n",
    "\n",
    "이 노트북은 아래와 같은 작업을 합니다.\n",
    "- 테스트 데이터 파일을 로딩\n",
    "- 모델 배포 방식 결정\n",
    "    - **처음 테스트시에는 로컬 배포(세이지메이커 노트북 인스턴스 사용)를 하시고, 완료되면 클라우드 배포를 하세요.**\n",
    "    - 로컬 배포\n",
    "    - 클라우드 배포\n",
    "- 인퍼런스 코드 테스트 및 코드 설명\n",
    "    - 추론시에 사용할 사용자 정의 코드를 로컬에서 테스트 합니다.\n",
    "- 추가 패키지 설치    \n",
    "- 세이지 메이커 모델 생성\n",
    "- 모델을 엔드포인트에 배포\n",
    "- 모델 추론 실행\n",
    "- 엔드포인트 제거\n",
    "    \n"
   ]
  },
  {
   "cell_type": "code",
   "execution_count": 1,
   "metadata": {},
   "outputs": [],
   "source": [
    "import pandas as pd\n",
    "import os\n",
    "import matplotlib.pyplot as plt\n",
    "import numpy as np\n"
   ]
  },
  {
   "cell_type": "code",
   "execution_count": 2,
   "metadata": {},
   "outputs": [],
   "source": [
    "%store -r test_file_path\n",
    "%store -r s3_model_dir\n",
    "%store -r local_model_dir"
   ]
  },
  {
   "cell_type": "markdown",
   "metadata": {},
   "source": [
    "## 테스트 파일을 로딩\n",
    "데이터를 로딩한 후에 test 데이터를 test_y, test_X로 분리 합니다. (훈련시에 사용한 데이터의 타입이 모두 float64 이기에, 똑같이 float64 로 타입을 변경 합니다."
   ]
  },
  {
   "cell_type": "code",
   "execution_count": 3,
   "metadata": {},
   "outputs": [
    {
     "name": "stdout",
     "output_type": "stream",
     "text": [
      "test_X :  (149, 59)\n"
     ]
    }
   ],
   "source": [
    "df = pd.read_csv(test_file_path, header=None)\n",
    "df = df.astype('float64')\n",
    "test_y = df.iloc[:,0]\n",
    "test_X = df.iloc[:,1:].to_numpy()\n",
    "print(\"test_X : \", test_X.shape)"
   ]
  },
  {
   "cell_type": "markdown",
   "metadata": {},
   "source": [
    "## 모델 배포 방식: 로컬 모드 파라미터\n",
    "**아래 instance_type 에 따라서 로컬 모드, 클라우드 모드로 제어 합니다.\n",
    "처음에는 로컬모드, 잘 동작하면 클라우드 모드로 바꾸어서 해보세요.**\n",
    "- 로컬 모드이면 세이지 메이커의 로컬 세션이 할당이 됩니다.\n",
    "    - 세이지 노트북 인스턴스에서 Docker Container가 생성이 되어서 배포를 합니다.\n",
    "- 클라우드 모드이면 세이지 메이커에의 세션이 할당이 되어서, 클라우드에서 배포가 진행 됩니다.\n",
    "    - 클라우드 상에서 EC2 인스턴스가 생성이 되고, 이 EC2안에서 Docker Container가 생성이 되어서 배포 합니다."
   ]
  },
  {
   "cell_type": "code",
   "execution_count": 4,
   "metadata": {},
   "outputs": [],
   "source": [
    "instance_type = 'local'\n",
    "# instance_type=\"ml.c4.xlarge\""
   ]
  },
  {
   "cell_type": "markdown",
   "metadata": {},
   "source": [
    "## 인퍼런스 코드 테스트\n",
    "\n",
    "실제로 개발을 할시에 추론 코드의 로직 확인(디버깅 등)을 위해서 자주 추론 코드를 고치고 테스트 합니다. 그래서 이미 훈련된 모델을 로딩해서 추론 코드의 로직을 확인하는 과정을 합니다.\n",
    "\n",
    "SK Learn Model의 배포 및 추론을 위해서 자세한 설명은 아래를 참조 하세요.\n",
    "- [Deploy a Scikit-learn Model](https://sagemaker.readthedocs.io/en/stable/frameworks/sklearn/using_sklearn.html#deploy-a-scikit-learn-model)"
   ]
  },
  {
   "cell_type": "markdown",
   "metadata": {},
   "source": [
    "## 인퍼런스 코드 설명 (src/inference.py)\n",
    "아래는 실제 사용자가 정의한 model_fn, predict_fn를 inference.py 에 기술하였습니다. \n",
    "- 실제 아래의 추론시에 아래와 같은 로그를 확인하여 디버깅을 할 수 있습니다.\n",
    "\n",
    "```\n",
    "algo-1-l1rre_1  | From user-inference file- Model loaded: \n",
    "algo-1-l1rre_1  | From user-inference file- Shape of predictions:  (149,)\n",
    "```\n",
    "- 만약에 아래의 함수들을 기술하지 않으면 디폴트로 기술되어 있는 model_fn, predict_fn가 호출 됩니다.\n",
    "- input_fn, output_fn 도 사용자 정의로 기술할 수 있습니다. 본 예제에서는 다루지 않았으나, 추후 사용자 정의가 필요하면 기술하여 inference.py 에 넣으시면 됩니다.\n",
    "\n",
    "```python\n",
    "import joblib, os\n",
    "\n",
    "def model_fn(model_dir):\n",
    "    \"\"\"\n",
    "    Deserialized and return fitted model\n",
    "    Note that this should have the same name as the serialized model in the main method\n",
    "    \"\"\"   \n",
    "    model = joblib.load(os.path.join(model_dir, \"model.joblib\"))\n",
    "    print(\"From user-inference file- Model loaded: \")     \n",
    "    \n",
    "    return model\n",
    "\n",
    "def predict_fn(input_data, model):\n",
    "    \"\"\"\n",
    "    주어진 input_data를 \n",
    "    \"\"\"\n",
    "    payload = input_data\n",
    "    \n",
    "    predictions = model.predict(payload)\n",
    "    print(\"From user-inference file- Shape of predictions: \", predictions.shape)\n",
    "\n",
    "    return predictions\n",
    "```"
   ]
  },
  {
   "cell_type": "code",
   "execution_count": 5,
   "metadata": {},
   "outputs": [],
   "source": [
    "import src.inference\n",
    "from importlib import reload\n",
    "\n",
    "# 사용자 정의 모듈 리로드 코드 입니다. 테스트 하면서 코드를 수정하면 아래와 같이 재로딩하면 반영이 됩니다.\n",
    "src.inference = reload(src.inference) \n",
    "\n",
    "from src.inference import model_fn, predict_fn\n",
    "\n",
    "\n",
    "def input_fn(input_data, request_content_type='text/csv'):\n",
    "    \"\"\"\n",
    "    추론 형태에 맞게 입력 형태를 변경 합니다.\n",
    "    \"\"\"\n",
    "    n_feature = input_data.shape[1]\n",
    "    sample = input_data.reshape(-1,n_feature)\n",
    "    return sample\n",
    "\n"
   ]
  },
  {
   "cell_type": "code",
   "execution_count": 6,
   "metadata": {},
   "outputs": [
    {
     "name": "stdout",
     "output_type": "stream",
     "text": [
      "From user-inference file- Model loaded: \n",
      "From user-inference file- Shape of predictions:  (10,)\n",
      "[9009.52141965 8898.60110154 9070.22393936 8896.75830002 9007.29494076\n",
      " 8956.76622499 9027.70385189 8892.29257649 8823.03814172 8790.10858581]\n"
     ]
    },
    {
     "name": "stderr",
     "output_type": "stream",
     "text": [
      "/home/ec2-user/anaconda3/envs/python3/lib/python3.6/site-packages/sklearn/base.py:318: UserWarning: Trying to unpickle estimator Ridge from version 0.23.2 when using version 0.22.1. This might lead to breaking code or invalid results. Use at your own risk.\n",
      "  UserWarning)\n"
     ]
    }
   ],
   "source": [
    "\n",
    "# 추론 형태로 변환 합니다.\n",
    "sample = input_fn(test_X[0:10])\n",
    "\n",
    "# 모델 로딩\n",
    "model = model_fn('model')\n",
    "# 추론 실행\n",
    "predictons = predict_fn(sample, model)\n",
    "print(predictons)"
   ]
  },
  {
   "cell_type": "code",
   "execution_count": 7,
   "metadata": {},
   "outputs": [],
   "source": [
    "import time\n",
    "local_model_path = f'file://{os.getcwd()}/model/model.joblib'\n",
    "endpoint_name = 'local-endpoint-scikit-learn-{}'.format(int(time.time()))"
   ]
  },
  {
   "cell_type": "markdown",
   "metadata": {},
   "source": [
    "#### 참조: Docker 명령어\n",
    "로컬로드로 실행시에는 로컬에서 다커가 실행이 됩니다. 하지만 다커가 종료가 되지 않은 상태이면, 터미널을 열고 아래 명령어를 사용하여 다커를 중지 시키고 다시 실행합니다.\n",
    "\n",
    "- 현재 실행중인 컨테이너를 보여주기\n",
    "``` \n",
    "docker container ls\n",
    "```\n",
    "- 현재 실행중인 컨테이너를 모두 정지 시키기\n",
    "```\n",
    "docker stop $(docker ps -a -q)\n",
    "```\n"
   ]
  },
  {
   "cell_type": "markdown",
   "metadata": {},
   "source": [
    "## 추가 패키지 설치\n",
    "src/requirements.txt 안에 필요한 패키지를 기술 합니다. (예: ```pandas<2```). 이렇게 하면 엔드 포인트의 배포시에 설치가 됩니다.\n",
    "requirements.txt 를 src 폴더안에 같은 위치에 있으면 세이지 메이커가 자동적으로 패키지를 설치 합니다.\n",
    "```\n",
    "algo-1-l1rre_1  | /miniconda3/bin/python -m pip install . -r requirements.txt\n",
    "algo-1-l1rre_1  | Processing /opt/ml/code\n",
    "algo-1-l1rre_1  | Requirement already satisfied: pandas<2 in /miniconda3/lib/python3.7/site-packages (from -r requirements.txt (line 1)) (1.1.3)\n",
    "```"
   ]
  },
  {
   "cell_type": "code",
   "execution_count": 8,
   "metadata": {},
   "outputs": [],
   "source": [
    "import sagemaker\n",
    "from sagemaker import local\n",
    "\n",
    "if instance_type == 'local':\n",
    "    sess = local.LocalSession()\n",
    "    model_path = local_model_path # 로컬에 저장된 모델 경로를 사용\n",
    "else:\n",
    "    sess = sagemaker.Session()\n",
    "    model_path = s3_model_dir # S3 에 저장된 모델 경로를 사용"
   ]
  },
  {
   "cell_type": "markdown",
   "metadata": {},
   "source": [
    "## 세이지 메이커 모델 생성\n",
    "\n",
    "SKLearnModel 를 생성하여 sagemaker model을 생성합니다.\n",
    "- model_data: 모델 아티팩트의 경로가 기술됨\n",
    "- framework_version: 배포가 될 SKLearn Model의 버전이 정해짐\n",
    "- entry_point: src/inference.py 인퍼런스 사용자 정의 코드가 기술됨\n",
    "- sagemaker_session: 로컬 모드 혹은 클라우드 모드가 결정이 됨"
   ]
  },
  {
   "cell_type": "code",
   "execution_count": 9,
   "metadata": {},
   "outputs": [],
   "source": [
    "from sagemaker import get_execution_role\n",
    "\n",
    "# Get a SageMaker-compatible role used by this Notebook Instance.\n",
    "role = get_execution_role()\n",
    "\n",
    "FRAMEWORK_VERSION = \"0.23-1\"\n",
    "\n",
    "from sagemaker.sklearn.model import SKLearnModel\n",
    "sm_model = SKLearnModel(model_data = model_path,\n",
    "                           role = role,\n",
    "                           source_dir = 'src',\n",
    "                           entry_point = 'inference.py',\n",
    "                           framework_version = FRAMEWORK_VERSION,\n",
    "                           py_version = 'py3',\n",
    "                           sagemaker_session = sess                           \n",
    "                          )\n"
   ]
  },
  {
   "cell_type": "code",
   "execution_count": null,
   "metadata": {},
   "outputs": [],
   "source": []
  },
  {
   "cell_type": "markdown",
   "metadata": {},
   "source": [
    "## 모델 배포 및 추론\n",
    "세이지 메이커 모델을 바탕으로 배포를 합니다. 배포후에 predictor를 바탕으로 엔드포인트에 접근할 수 있습니다.\n",
    "- instance_type: 로컬 모드인지 클라우드 인스턴스가 결정이 됩니다."
   ]
  },
  {
   "cell_type": "code",
   "execution_count": 10,
   "metadata": {},
   "outputs": [
    {
     "name": "stdout",
     "output_type": "stream",
     "text": [
      "Attaching to tmpw4r12ssk_algo-1-6o529_1\n",
      "\u001b[36malgo-1-6o529_1  |\u001b[0m 2020-12-06 05:13:06,921 INFO - sagemaker-containers - No GPUs detected (normal if no gpus installed)\n",
      "\u001b[36malgo-1-6o529_1  |\u001b[0m 2020-12-06 05:13:06,925 INFO - sagemaker-containers - No GPUs detected (normal if no gpus installed)\n",
      "\u001b[36malgo-1-6o529_1  |\u001b[0m 2020-12-06 05:13:06,926 INFO - sagemaker-containers - nginx config: \n",
      "\u001b[36malgo-1-6o529_1  |\u001b[0m worker_processes auto;\n",
      "\u001b[36malgo-1-6o529_1  |\u001b[0m daemon off;\n",
      "\u001b[36malgo-1-6o529_1  |\u001b[0m pid /tmp/nginx.pid;\n",
      "\u001b[36malgo-1-6o529_1  |\u001b[0m error_log  /dev/stderr;\n",
      "\u001b[36malgo-1-6o529_1  |\u001b[0m \n",
      "\u001b[36malgo-1-6o529_1  |\u001b[0m worker_rlimit_nofile 4096;\n",
      "\u001b[36malgo-1-6o529_1  |\u001b[0m \n",
      "\u001b[36malgo-1-6o529_1  |\u001b[0m events {\n",
      "\u001b[36malgo-1-6o529_1  |\u001b[0m   worker_connections 2048;\n",
      "\u001b[36malgo-1-6o529_1  |\u001b[0m }\n",
      "\u001b[36malgo-1-6o529_1  |\u001b[0m \n",
      "\u001b[36malgo-1-6o529_1  |\u001b[0m http {\n",
      "\u001b[36malgo-1-6o529_1  |\u001b[0m   include /etc/nginx/mime.types;\n",
      "\u001b[36malgo-1-6o529_1  |\u001b[0m   default_type application/octet-stream;\n",
      "\u001b[36malgo-1-6o529_1  |\u001b[0m   access_log /dev/stdout combined;\n",
      "\u001b[36malgo-1-6o529_1  |\u001b[0m \n",
      "\u001b[36malgo-1-6o529_1  |\u001b[0m   upstream gunicorn {\n",
      "\u001b[36malgo-1-6o529_1  |\u001b[0m     server unix:/tmp/gunicorn.sock;\n",
      "\u001b[36malgo-1-6o529_1  |\u001b[0m   }\n",
      "\u001b[36malgo-1-6o529_1  |\u001b[0m \n",
      "\u001b[36malgo-1-6o529_1  |\u001b[0m   server {\n",
      "\u001b[36malgo-1-6o529_1  |\u001b[0m     listen 8080 deferred;\n",
      "\u001b[36malgo-1-6o529_1  |\u001b[0m     client_max_body_size 0;\n",
      "\u001b[36malgo-1-6o529_1  |\u001b[0m \n",
      "\u001b[36malgo-1-6o529_1  |\u001b[0m     keepalive_timeout 3;\n",
      "\u001b[36malgo-1-6o529_1  |\u001b[0m \n",
      "\u001b[36malgo-1-6o529_1  |\u001b[0m     location ~ ^/(ping|invocations|execution-parameters) {\n",
      "\u001b[36malgo-1-6o529_1  |\u001b[0m       proxy_set_header X-Forwarded-For $proxy_add_x_forwarded_for;\n",
      "\u001b[36malgo-1-6o529_1  |\u001b[0m       proxy_set_header Host $http_host;\n",
      "\u001b[36malgo-1-6o529_1  |\u001b[0m       proxy_redirect off;\n",
      "\u001b[36malgo-1-6o529_1  |\u001b[0m       proxy_read_timeout 60s;\n",
      "\u001b[36malgo-1-6o529_1  |\u001b[0m       proxy_pass http://gunicorn;\n",
      "\u001b[36malgo-1-6o529_1  |\u001b[0m     }\n",
      "\u001b[36malgo-1-6o529_1  |\u001b[0m \n",
      "\u001b[36malgo-1-6o529_1  |\u001b[0m     location / {\n",
      "\u001b[36malgo-1-6o529_1  |\u001b[0m       return 404 \"{}\";\n",
      "\u001b[36malgo-1-6o529_1  |\u001b[0m     }\n",
      "\u001b[36malgo-1-6o529_1  |\u001b[0m \n",
      "\u001b[36malgo-1-6o529_1  |\u001b[0m   }\n",
      "\u001b[36malgo-1-6o529_1  |\u001b[0m }\n",
      "\u001b[36malgo-1-6o529_1  |\u001b[0m \n",
      "\u001b[36malgo-1-6o529_1  |\u001b[0m \n",
      "\u001b[36malgo-1-6o529_1  |\u001b[0m 2020-12-06 05:13:08,065 INFO - sagemaker-containers - Module inference does not provide a setup.py. \n",
      "\u001b[36malgo-1-6o529_1  |\u001b[0m Generating setup.py\n",
      "\u001b[36malgo-1-6o529_1  |\u001b[0m 2020-12-06 05:13:08,065 INFO - sagemaker-containers - Generating setup.cfg\n",
      "\u001b[36malgo-1-6o529_1  |\u001b[0m 2020-12-06 05:13:08,065 INFO - sagemaker-containers - Generating MANIFEST.in\n",
      "\u001b[36malgo-1-6o529_1  |\u001b[0m 2020-12-06 05:13:08,065 INFO - sagemaker-containers - Installing module with the following command:\n",
      "\u001b[36malgo-1-6o529_1  |\u001b[0m /miniconda3/bin/python -m pip install . -r requirements.txt\n",
      "\u001b[36malgo-1-6o529_1  |\u001b[0m Processing /opt/ml/code\n",
      "\u001b[36malgo-1-6o529_1  |\u001b[0m Requirement already satisfied: pandas<2 in /miniconda3/lib/python3.7/site-packages (from -r requirements.txt (line 1)) (1.1.3)\n",
      "\u001b[36malgo-1-6o529_1  |\u001b[0m Requirement already satisfied: python-dateutil>=2.7.3 in /miniconda3/lib/python3.7/site-packages (from pandas<2->-r requirements.txt (line 1)) (2.8.1)\n",
      "\u001b[36malgo-1-6o529_1  |\u001b[0m Requirement already satisfied: pytz>=2017.2 in /miniconda3/lib/python3.7/site-packages (from pandas<2->-r requirements.txt (line 1)) (2020.1)\n",
      "\u001b[36malgo-1-6o529_1  |\u001b[0m Requirement already satisfied: numpy>=1.15.4 in /miniconda3/lib/python3.7/site-packages (from pandas<2->-r requirements.txt (line 1)) (1.19.2)\n",
      "\u001b[36malgo-1-6o529_1  |\u001b[0m Requirement already satisfied: six>=1.5 in /miniconda3/lib/python3.7/site-packages (from python-dateutil>=2.7.3->pandas<2->-r requirements.txt (line 1)) (1.15.0)\n",
      "\u001b[36malgo-1-6o529_1  |\u001b[0m Building wheels for collected packages: inference\n",
      "\u001b[36malgo-1-6o529_1  |\u001b[0m   Building wheel for inference (setup.py) ... \u001b[?25ldone\n",
      "\u001b[36malgo-1-6o529_1  |\u001b[0m \u001b[?25h  Created wheel for inference: filename=inference-1.0.0-py2.py3-none-any.whl size=9582 sha256=1ae39ed8184cfca46a85eef0503558dcc63df17616b0bd90c683fc1fdbab7117\n",
      "\u001b[36malgo-1-6o529_1  |\u001b[0m   Stored in directory: /home/model-server/tmp/pip-ephem-wheel-cache-85h40tj1/wheels/3e/0f/51/2f1df833dd0412c1bc2f5ee56baac195b5be563353d111dca6\n",
      "\u001b[36malgo-1-6o529_1  |\u001b[0m Successfully built inference\n",
      "\u001b[36malgo-1-6o529_1  |\u001b[0m Installing collected packages: inference\n",
      "\u001b[36malgo-1-6o529_1  |\u001b[0m Successfully installed inference-1.0.0\n",
      "\u001b[36malgo-1-6o529_1  |\u001b[0m [2020-12-06 05:13:09 +0000] [161] [INFO] Starting gunicorn 20.0.4\n",
      "\u001b[36malgo-1-6o529_1  |\u001b[0m [2020-12-06 05:13:09 +0000] [161] [INFO] Listening at: unix:/tmp/gunicorn.sock (161)\n",
      "\u001b[36malgo-1-6o529_1  |\u001b[0m [2020-12-06 05:13:09 +0000] [161] [INFO] Using worker: gevent\n",
      "\u001b[36malgo-1-6o529_1  |\u001b[0m [2020-12-06 05:13:09 +0000] [164] [INFO] Booting worker with pid: 164\n",
      "\u001b[36malgo-1-6o529_1  |\u001b[0m [2020-12-06 05:13:09 +0000] [165] [INFO] Booting worker with pid: 165\n",
      "\u001b[36malgo-1-6o529_1  |\u001b[0m [2020-12-06 05:13:09 +0000] [166] [INFO] Booting worker with pid: 166\n",
      "\u001b[36malgo-1-6o529_1  |\u001b[0m [2020-12-06 05:13:09 +0000] [293] [INFO] Booting worker with pid: 293\n",
      "\u001b[36malgo-1-6o529_1  |\u001b[0m [2020-12-06 05:13:09 +0000] [357] [INFO] Booting worker with pid: 357\n",
      "\u001b[36malgo-1-6o529_1  |\u001b[0m [2020-12-06 05:13:09 +0000] [358] [INFO] Booting worker with pid: 358\n",
      "\u001b[36malgo-1-6o529_1  |\u001b[0m [2020-12-06 05:13:09 +0000] [359] [INFO] Booting worker with pid: 359\n",
      "\u001b[36malgo-1-6o529_1  |\u001b[0m [2020-12-06 05:13:09 +0000] [486] [INFO] Booting worker with pid: 486\n",
      "\u001b[36malgo-1-6o529_1  |\u001b[0m [2020-12-06 05:13:09 +0000] [550] [INFO] Booting worker with pid: 550\n",
      "\u001b[36malgo-1-6o529_1  |\u001b[0m [2020-12-06 05:13:09 +0000] [551] [INFO] Booting worker with pid: 551\n",
      "\u001b[36malgo-1-6o529_1  |\u001b[0m [2020-12-06 05:13:09 +0000] [615] [INFO] Booting worker with pid: 615\n",
      "\u001b[36malgo-1-6o529_1  |\u001b[0m [2020-12-06 05:13:09 +0000] [743] [INFO] Booting worker with pid: 743\n",
      "\u001b[36malgo-1-6o529_1  |\u001b[0m [2020-12-06 05:13:09 +0000] [742] [INFO] Booting worker with pid: 742\n",
      "\u001b[36malgo-1-6o529_1  |\u001b[0m [2020-12-06 05:13:09 +0000] [808] [INFO] Booting worker with pid: 808\n",
      "\u001b[36malgo-1-6o529_1  |\u001b[0m [2020-12-06 05:13:09 +0000] [809] [INFO] Booting worker with pid: 809\n",
      "\u001b[36malgo-1-6o529_1  |\u001b[0m [2020-12-06 05:13:09 +0000] [874] [INFO] Booting worker with pid: 874\n",
      "\u001b[36malgo-1-6o529_1  |\u001b[0m [2020-12-06 05:13:10 +0000] [1064] [INFO] Booting worker with pid: 1064\n",
      "\u001b[36malgo-1-6o529_1  |\u001b[0m [2020-12-06 05:13:10 +0000] [1066] [INFO] Booting worker with pid: 1066\n",
      "\u001b[36malgo-1-6o529_1  |\u001b[0m [2020-12-06 05:13:10 +0000] [1220] [INFO] Booting worker with pid: 1220\n",
      "\u001b[36malgo-1-6o529_1  |\u001b[0m [2020-12-06 05:13:10 +0000] [1252] [INFO] Booting worker with pid: 1252\n",
      "\u001b[36malgo-1-6o529_1  |\u001b[0m [2020-12-06 05:13:10 +0000] [1260] [INFO] Booting worker with pid: 1260\n",
      "\u001b[36malgo-1-6o529_1  |\u001b[0m 2020-12-06 05:13:10,336 INFO - sagemaker-containers - No GPUs detected (normal if no gpus installed)\n",
      "\u001b[36malgo-1-6o529_1  |\u001b[0m [2020-12-06 05:13:10 +0000] [1327] [INFO] Booting worker with pid: 1327\n",
      "\u001b[36malgo-1-6o529_1  |\u001b[0m [2020-12-06 05:13:10 +0000] [1416] [INFO] Booting worker with pid: 1416\n",
      "\u001b[36malgo-1-6o529_1  |\u001b[0m [2020-12-06 05:13:10 +0000] [1583] [INFO] Booting worker with pid: 1583\n",
      "\u001b[36malgo-1-6o529_1  |\u001b[0m [2020-12-06 05:13:10 +0000] [1584] [INFO] Booting worker with pid: 1584\n",
      "\u001b[36malgo-1-6o529_1  |\u001b[0m [2020-12-06 05:13:10 +0000] [1585] [INFO] Booting worker with pid: 1585\n",
      "\u001b[36malgo-1-6o529_1  |\u001b[0m [2020-12-06 05:13:10 +0000] [1714] [INFO] Booting worker with pid: 1714\n",
      "\u001b[36malgo-1-6o529_1  |\u001b[0m [2020-12-06 05:13:10 +0000] [1780] [INFO] Booting worker with pid: 1780\n",
      "\u001b[36malgo-1-6o529_1  |\u001b[0m [2020-12-06 05:13:10 +0000] [1908] [INFO] Booting worker with pid: 1908\n",
      "\u001b[36malgo-1-6o529_1  |\u001b[0m [2020-12-06 05:13:10 +0000] [1910] [INFO] Booting worker with pid: 1910\n",
      "\u001b[36malgo-1-6o529_1  |\u001b[0m From user-inference file- Model loaded: \n",
      "!\u001b[36malgo-1-6o529_1  |\u001b[0m [2020-12-06 05:13:10 +0000] [2040] [INFO] Booting worker with pid: 2040\n",
      "\u001b[36malgo-1-6o529_1  |\u001b[0m 172.18.0.1 - - [06/Dec/2020:05:13:10 +0000] \"GET /ping HTTP/1.1\" 200 0 \"-\" \"-\"\n",
      "CPU times: user 174 ms, sys: 19.8 ms, total: 194 ms\n",
      "Wall time: 7.91 s\n"
     ]
    }
   ],
   "source": [
    "%%time\n",
    "\n",
    "predictor = sm_model.deploy(\n",
    "    initial_instance_count=1,\n",
    "    instance_type= instance_type,\n",
    "    endpoint_name = endpoint_name,\n",
    "    wait=True\n",
    "    )"
   ]
  },
  {
   "cell_type": "markdown",
   "metadata": {},
   "source": [
    "## 추론 실행"
   ]
  },
  {
   "cell_type": "code",
   "execution_count": 11,
   "metadata": {},
   "outputs": [
    {
     "name": "stdout",
     "output_type": "stream",
     "text": [
      "\u001b[36malgo-1-6o529_1  |\u001b[0m [2020-12-06 05:13:10 +0000] [2167] [INFO] Booting worker with pid: 2167\n",
      "\u001b[36malgo-1-6o529_1  |\u001b[0m 2020-12-06 05:13:10,981 INFO - sagemaker-containers - No GPUs detected (normal if no gpus installed)\n",
      "\u001b[36malgo-1-6o529_1  |\u001b[0m [2020-12-06 05:13:11 +0000] [2235] [INFO] Booting worker with pid: 2235\n",
      "\u001b[36malgo-1-6o529_1  |\u001b[0m [2020-12-06 05:13:11 +0000] [2236] [INFO] Booting worker with pid: 2236\n",
      "\u001b[36malgo-1-6o529_1  |\u001b[0m [2020-12-06 05:13:11 +0000] [2320] [INFO] Booting worker with pid: 2320\n",
      "\u001b[36malgo-1-6o529_1  |\u001b[0m [2020-12-06 05:13:11 +0000] [2366] [INFO] Booting worker with pid: 2366\n",
      "\u001b[36malgo-1-6o529_1  |\u001b[0m [2020-12-06 05:13:11 +0000] [2432] [INFO] Booting worker with pid: 2432\n",
      "\u001b[36malgo-1-6o529_1  |\u001b[0m [2020-12-06 05:13:11 +0000] [2496] [INFO] Booting worker with pid: 2496\n",
      "\u001b[36malgo-1-6o529_1  |\u001b[0m [2020-12-06 05:13:11 +0000] [2561] [INFO] Booting worker with pid: 2561\n",
      "\u001b[36malgo-1-6o529_1  |\u001b[0m [2020-12-06 05:13:11 +0000] [2563] [INFO] Booting worker with pid: 2563\n",
      "\u001b[36malgo-1-6o529_1  |\u001b[0m From user-inference file- Model loaded: \n",
      "\u001b[36malgo-1-6o529_1  |\u001b[0m From user-inference file- Shape of predictions:  (149,)\n",
      "\u001b[36malgo-1-6o529_1  |\u001b[0m 172.18.0.1 - - [06/Dec/2020:05:13:11 +0000] \"POST /invocations HTTP/1.1\" 200 1320 \"-\" \"-\"\n"
     ]
    }
   ],
   "source": [
    "import p_utils\n",
    "from importlib import reload\n",
    "from p_utils import evaluate, show_chart\n",
    "\n",
    "p_utils = reload(p_utils)\n",
    "\n",
    "## 추론 입력 데이터 생성\n",
    "sample = input_fn(test_X)\n",
    "## 추론 실행\n",
    "ridge_pred = predictor.predict(sample)"
   ]
  },
  {
   "cell_type": "code",
   "execution_count": 12,
   "metadata": {},
   "outputs": [
    {
     "name": "stdout",
     "output_type": "stream",
     "text": [
      "Ridge-onestep-ahead MdAPE =  0.017380620413302225\n",
      "\u001b[36malgo-1-6o529_1  |\u001b[0m [2020-12-06 05:13:11 +0000] [2690] [INFO] Booting worker with pid: 2690\n",
      "\u001b[36malgo-1-6o529_1  |\u001b[0m [2020-12-06 05:13:11 +0000] [2691] [INFO] Booting worker with pid: 2691\n",
      "\u001b[36malgo-1-6o529_1  |\u001b[0m [2020-12-06 05:13:11 +0000] [2820] [INFO] Booting worker with pid: 2820\n",
      "\u001b[36malgo-1-6o529_1  |\u001b[0m [2020-12-06 05:13:11 +0000] [2949] [INFO] Booting worker with pid: 2949\n",
      "\u001b[36malgo-1-6o529_1  |\u001b[0m [2020-12-06 05:13:11 +0000] [2951] [INFO] Booting worker with pid: 2951\n"
     ]
    },
    {
     "data": {
      "image/png": "[encoded data removed]",
      "text/plain": [
       "<Figure size 432x288 with 1 Axes>"
      ]
     },
     "metadata": {
      "needs_background": "light"
     },
     "output_type": "display_data"
    }
   ],
   "source": [
    "\n",
    "# Evaluate\n",
    "MdAPE = evaluate(test_y, ridge_pred)\n",
    "print('Ridge-onestep-ahead MdAPE = ', MdAPE)\n",
    "\n",
    "# 차트로 보기\n",
    "show_chart(test_y, ridge_pred) "
   ]
  },
  {
   "cell_type": "markdown",
   "metadata": {},
   "source": [
    "## Endpoint Cleanup\n",
    "위에서 생성한 엔드포인트를 삭제 합니다. "
   ]
  },
  {
   "cell_type": "code",
   "execution_count": 13,
   "metadata": {},
   "outputs": [
    {
     "name": "stdout",
     "output_type": "stream",
     "text": [
      "Gracefully stopping... (press Ctrl+C again to force)\n"
     ]
    }
   ],
   "source": [
    "predictor.delete_endpoint()"
   ]
  },
  {
   "cell_type": "code",
   "execution_count": null,
   "metadata": {},
   "outputs": [],
   "source": []
  }
 ],
 "metadata": {
  "kernelspec": {
   "display_name": "conda_python3",
   "language": "python",
   "name": "conda_python3"
  },
  "language_info": {
   "codemirror_mode": {
    "name": "ipython",
    "version": 3
   },
   "file_extension": ".py",
   "mimetype": "text/x-python",
   "name": "python",
   "nbconvert_exporter": "python",
   "pygments_lexer": "ipython3",
   "version": "3.6.10"
  }
 },
 "nbformat": 4,
 "nbformat_minor": 4
}

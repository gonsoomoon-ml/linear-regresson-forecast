{
 "cells": [
  {
   "cell_type": "markdown",
   "metadata": {},
   "source": [
    "## [모듈 2.3] 모델 배포 및 추론\n",
    "Using Scikit-learn with the SageMaker Python SDK\n",
    "- https://sagemaker.readthedocs.io/en/stable/frameworks/sklearn/using_sklearn.html\n",
    "\n",
    "Iris Training and Prediction with Sagemaker Scikit-learn\n",
    "- https://github.com/aws/amazon-sagemaker-examples/blob/master/sagemaker-python-sdk/scikit_learn_iris/scikit_learn_estimator_example_with_batch_transform.ipynb"
   ]
  },
  {
   "cell_type": "code",
   "execution_count": 11,
   "metadata": {},
   "outputs": [],
   "source": [
    "import pandas as pd\n",
    "import os\n",
    "import matplotlib.pyplot as plt\n",
    "import numpy as np\n"
   ]
  },
  {
   "cell_type": "code",
   "execution_count": 12,
   "metadata": {},
   "outputs": [],
   "source": [
    "%store -r test_file_path\n",
    "%store -r s3_model_dir\n",
    "%store -r local_model_dir"
   ]
  },
  {
   "cell_type": "code",
   "execution_count": 13,
   "metadata": {},
   "outputs": [
    {
     "name": "stdout",
     "output_type": "stream",
     "text": [
      "test_X :  (149, 59)\n"
     ]
    }
   ],
   "source": [
    "df = pd.read_csv(test_file_path, header=None)\n",
    "df = df.astype('float64')\n",
    "test_y = df.iloc[:,0]\n",
    "test_X = df.iloc[:,1:].to_numpy()\n",
    "print(\"test_X : \", test_X.shape)\n",
    "\n"
   ]
  },
  {
   "cell_type": "markdown",
   "metadata": {},
   "source": [
    "## 파라미터: Local Mode or SageMaker Hosting Service"
   ]
  },
  {
   "cell_type": "code",
   "execution_count": 14,
   "metadata": {},
   "outputs": [],
   "source": [
    "# instance_type = 'local'\n",
    "instance_type=\"ml.c4.xlarge\""
   ]
  },
  {
   "cell_type": "markdown",
   "metadata": {},
   "source": [
    "## 인퍼런스 코드 테스트"
   ]
  },
  {
   "cell_type": "code",
   "execution_count": 15,
   "metadata": {},
   "outputs": [],
   "source": [
    "def input_fn(input_data, request_content_type='text/csv'):\n",
    "    \"\"\"\n",
    "    \"\"\"\n",
    "    n_feature = input_data.shape[1]\n",
    "    sample = input_data.reshape(-1,n_feature)\n",
    "    return sample\n",
    "\n",
    "# input for evaluation\n",
    "sample = input_fn(test_X[0:10])"
   ]
  },
  {
   "cell_type": "code",
   "execution_count": 16,
   "metadata": {},
   "outputs": [
    {
     "name": "stdout",
     "output_type": "stream",
     "text": [
      "From user-inference file- Model loaded: \n",
      "From user-inference file- Shape of predictions:  (10,)\n",
      "[9069.2651918  8982.41729444 9176.31755404 8994.60210337 9133.82113768\n",
      " 9084.69360602 9137.61855237 9053.16578649 8991.09776216 8897.57764731]\n"
     ]
    }
   ],
   "source": [
    "import src.inference\n",
    "from importlib import reload\n",
    "src.inference = reload(src.inference)\n",
    "\n",
    "from src.inference import model_fn, predict_fn\n",
    "\n",
    "model = model_fn('model')\n",
    "predictons = predict_fn(sample, model)\n",
    "print(predictons)"
   ]
  },
  {
   "cell_type": "code",
   "execution_count": 17,
   "metadata": {},
   "outputs": [],
   "source": [
    "import time\n",
    "local_model_path = f'file://{os.getcwd()}/model/model.joblib'\n",
    "endpoint_name = 'local-endpoint-scikit-learn-{}'.format(int(time.time()))"
   ]
  },
  {
   "cell_type": "markdown",
   "metadata": {},
   "source": [
    "### Docker 명령어\n",
    "로컬로드로 실행시에는 로컬에서 다커가 실행이 됩니다. 하지만 다커가 종료가 되지 않은 상태이면, 아래 명령어를 사용하여 다커를 중지 시키고 다시 실행합니다.\n",
    "\n",
    "- 현재 실행중인 컨테이너를 보여주기\n",
    "``` \n",
    "docker container ls\n",
    "```\n",
    "- 현재 실행중인 컨테이너를 모두 정지 시키기\n",
    "```\n",
    "docker stop $(docker ps -a -q)\n",
    "```\n"
   ]
  },
  {
   "cell_type": "markdown",
   "metadata": {},
   "source": [
    "requirements.txt \n",
    "- 인퍼런스시에 추가 패키지 설치"
   ]
  },
  {
   "cell_type": "code",
   "execution_count": 18,
   "metadata": {},
   "outputs": [],
   "source": [
    "import sagemaker\n",
    "from sagemaker import local\n",
    "\n",
    "if instance_type == 'local':\n",
    "    sess = local.LocalSession()\n",
    "    model_path = local_model_path\n",
    "else:\n",
    "    sess = sagemaker.Session()\n",
    "    model_path = s3_model_dir"
   ]
  },
  {
   "cell_type": "code",
   "execution_count": 19,
   "metadata": {},
   "outputs": [],
   "source": [
    "from sagemaker import get_execution_role\n",
    "\n",
    "# Get a SageMaker-compatible role used by this Notebook Instance.\n",
    "role = get_execution_role()\n",
    "\n",
    "FRAMEWORK_VERSION = \"0.23-1\"\n",
    "\n",
    "from sagemaker.sklearn.model import SKLearnModel\n",
    "sm_model = SKLearnModel(model_data = model_path,\n",
    "                           role = role,\n",
    "                           source_dir = 'src',\n",
    "                           entry_point = 'inference.py',\n",
    "                           framework_version = FRAMEWORK_VERSION,\n",
    "                           py_version = 'py3',\n",
    "                           sagemaker_session = sess\n",
    "                           \n",
    "                          )\n",
    "\n"
   ]
  },
  {
   "cell_type": "code",
   "execution_count": null,
   "metadata": {},
   "outputs": [],
   "source": []
  },
  {
   "cell_type": "markdown",
   "metadata": {},
   "source": [
    "## 모델 배포 및 추론"
   ]
  },
  {
   "cell_type": "code",
   "execution_count": 20,
   "metadata": {},
   "outputs": [
    {
     "name": "stdout",
     "output_type": "stream",
     "text": [
      "-------------!"
     ]
    }
   ],
   "source": [
    "%%time\n",
    "\n",
    "predictor = sm_model.deploy(\n",
    "    initial_instance_count=1,\n",
    "    instance_type= instance_type,\n",
    "    endpoint_name = endpoint_name,\n",
    "    wait=True\n",
    "    )"
   ]
  },
  {
   "cell_type": "code",
   "execution_count": 21,
   "metadata": {},
   "outputs": [],
   "source": [
    "sample = input_fn(test_X)\n",
    "ridge_pred = predictor.predict(sample)\n"
   ]
  },
  {
   "cell_type": "code",
   "execution_count": 22,
   "metadata": {},
   "outputs": [],
   "source": [
    "import p_utils\n",
    "from importlib import reload\n",
    "p_utils = reload(p_utils)\n",
    "\n",
    "\n",
    "from p_utils import evaluate, show_chart"
   ]
  },
  {
   "cell_type": "code",
   "execution_count": 23,
   "metadata": {},
   "outputs": [
    {
     "name": "stdout",
     "output_type": "stream",
     "text": [
      "Ridge-onestep-ahead MdAPE =  0.021827676341313194\n"
     ]
    },
    {
     "data": {
      "image/png": "[encoded data removed]",
      "text/plain": [
       "<Figure size 432x288 with 1 Axes>"
      ]
     },
     "metadata": {
      "needs_background": "light"
     },
     "output_type": "display_data"
    }
   ],
   "source": [
    "# Predict\n",
    "# ridge_pred = predict_fn(sample, model_ridge)\n",
    "# lasso_pred = predict_fn(model_lasso, sample)\n",
    "\n",
    "# Evaluate\n",
    "MdAPE = evaluate(test_y, ridge_pred)\n",
    "print('Ridge-onestep-ahead MdAPE = ', MdAPE)\n",
    "\n",
    "show_chart(test_y, ridge_pred) "
   ]
  },
  {
   "cell_type": "markdown",
   "metadata": {},
   "source": [
    "## Endpoint Cleanup"
   ]
  },
  {
   "cell_type": "code",
   "execution_count": 24,
   "metadata": {},
   "outputs": [],
   "source": [
    "predictor.delete_endpoint()"
   ]
  },
  {
   "cell_type": "code",
   "execution_count": null,
   "metadata": {},
   "outputs": [],
   "source": []
  }
 ],
 "metadata": {
  "kernelspec": {
   "display_name": "conda_python3",
   "language": "python",
   "name": "conda_python3"
  },
  "language_info": {
   "codemirror_mode": {
    "name": "ipython",
    "version": 3
   },
   "file_extension": ".py",
   "mimetype": "text/x-python",
   "name": "python",
   "nbconvert_exporter": "python",
   "pygments_lexer": "ipython3",
   "version": "3.6.10"
  }
 },
 "nbformat": 4,
 "nbformat_minor": 4
}
